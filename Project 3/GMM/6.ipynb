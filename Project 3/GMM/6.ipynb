{
 "cells": [
  {
   "cell_type": "code",
   "execution_count": 1,
   "metadata": {},
   "outputs": [],
   "source": [
    "# imports\n",
    "import numpy as np\n",
    "import pandas as pd\n",
    "import matplotlib.pyplot as plt\n",
    "import matplotlib.colors as mcol\n",
    "from tqdm.notebook import tqdm_notebook as tqdm\n",
    "import os\n",
    "import csv\n",
    "from scipy.stats import multivariate_normal"
   ]
  },
  {
   "cell_type": "code",
   "execution_count": 2,
   "metadata": {},
   "outputs": [],
   "source": [
    "class KMeans:\n",
    "    def __init__(self, k:int, max_iter:int=10):\n",
    "        self.k = k\n",
    "        self.max_iter = max_iter\n",
    "        \n",
    "    def initialize(self, X):\n",
    "        self.N, self.d = X.shape\n",
    "        shuffled = np.copy(X)\n",
    "        np.random.seed(6)\n",
    "        np.random.shuffle(shuffled)\n",
    "        self.centroids = shuffled[:self.k]\n",
    "        self.assignment = np.zeros(self.N)\n",
    "        \n",
    "    def e_step(self, X):\n",
    "        for i in range(self.N):\n",
    "            x = X[i]\n",
    "            scores = []\n",
    "            for k in range(self.k):\n",
    "                scores.append(np.linalg.norm(x - self.centroids[k]))\n",
    "            self.assignment[i] = np.argmin(scores)\n",
    "            \n",
    "    def m_step(self, X):\n",
    "        for k in range(self.k):\n",
    "            ind_k = np.where(self.assignment == k)\n",
    "            X_k = X[ind_k]\n",
    "            self.centroids[k] = np.mean(X_k, axis=0)\n",
    "\n",
    "    def fit(self, X):\n",
    "        self.initialize(X)\n",
    "        for _ in tqdm(range(self.max_iter),desc='K MEANS CLUSTERING: k='+str(self.k)):\n",
    "            self.e_step(X)\n",
    "            self.m_step(X)\n",
    "        return self.centroids, self.predict(X)\n",
    "            \n",
    "    def predict(self, X):\n",
    "        if(len(X.shape) == 1):\n",
    "            X = np.array([X])\n",
    "        N, _ = X.shape\n",
    "        assignment = np.zeros(N,dtype=np.uint32)\n",
    "        for i in range(N):\n",
    "            x = X[i]\n",
    "            scores = []\n",
    "            for k in range(self.k):\n",
    "                scores.append(np.linalg.norm(x - self.centroids[k]))\n",
    "            assignment[i] = np.argmin(scores)\n",
    "        # check for empty clusters!\n",
    "        used = len(np.unique(assignment))\n",
    "        if(used < self.k):\n",
    "            print(\"Empty clusters found! used = \", used, \" K = \", self.k)\n",
    "        return assignment, used"
   ]
  },
  {
   "cell_type": "code",
   "execution_count": 3,
   "metadata": {},
   "outputs": [],
   "source": [
    "debug = False\n",
    "class GMM:\n",
    "    def __init__(self, k:int, max_iter:int =5, max_k_iter:int =10, seed=7):\n",
    "        self.k = k\n",
    "        self.max_iter = max_iter \n",
    "        self.max_k_iter = max_k_iter\n",
    "        self.seed = seed\n",
    "        np.random.seed(seed)\n",
    "\n",
    "    def initialize(self, X):\n",
    "        # theta = [Mu, Sigma, Pi]\n",
    "        n, d = X.shape\n",
    "        ##################################################\n",
    "        # USE K Means Engine to initialise (The M0 Step) #\n",
    "        ##################################################\n",
    "        kmeans = KMeans(k=self.k, max_iter= self.max_k_iter)\n",
    "        centroids, (assignment,kprime) = kmeans.fit(X)\n",
    "        fig, ax = plt.subplots(figsize =(10, 7))\n",
    "        ax.hist(assignment, bins=np.arange(0, self.k+1, 1))\n",
    "        \n",
    "        # Show plot\n",
    "        plt.show()\n",
    "        self.mu = np.array(centroids, dtype=np.float64)\n",
    "        self.sigma = np.array([ np.cov(X.T) for _ in range(self.k) ], dtype=np.float64)\n",
    "        self.gamma = np.full((n,self.k),fill_value=(1/self.k), dtype=np.float64)\n",
    "        self.pi = np.mean(self.gamma, axis=0, dtype=np.float64)\n",
    "                \n",
    "    def gaussian(x: np.ndarray, mu: np.ndarray, sigma: np.ndarray):\n",
    "        d = len(x)\n",
    "        norm_factor = (2*np.pi)**d\n",
    "        \n",
    "        mean_sigma = np.mean(sigma)\n",
    "        det = np.linalg.det(sigma / mean_sigma)\n",
    "        det = det * (mean_sigma ** len(sigma))\n",
    "        norm_factor *= det\n",
    "        norm_factor = 1.0/np.sqrt(np.abs(norm_factor))\n",
    "\n",
    "        x_mu = np.matrix(x-mu)\n",
    "        rs = norm_factor*np.exp(-0.5*x_mu*np.linalg.inv(sigma)*x_mu.T)\n",
    "            \n",
    "        return rs\n",
    "\n",
    "    # E-Step: \n",
    "    def e_step(self, X):\n",
    "        n,d = X.shape\n",
    "        likelihood = np.zeros( (n, self.k) ) \n",
    "        for i in range(self.k):\n",
    "            likelihood[:,i] = multivariate_normal(mean=self.mu[i],cov=self.sigma[i], allow_singular=True, seed=self.seed).pdf(X)\n",
    "        numerator = likelihood * self.pi\n",
    "        denominator = numerator.sum(axis=1)[:, np.newaxis]\n",
    "        self.gamma = numerator / denominator\n",
    "        if(np.isnan(self.gamma).any()):\n",
    "            print(\"Anomaly!\")\n",
    "            self.gamma[np.isnan(self.gamma)] = 1/(self.k)\n",
    "        self.pi = np.mean(self.gamma, axis=0)\n",
    "        print(self.pi.shape)\n",
    "        print(self.pi)\n",
    "\n",
    "\n",
    "    # M-Step: update meu and sigma holding phi and weights constant\n",
    "    def m_step(self, X):\n",
    "        for i in range(self.k):\n",
    "            row_i = self.gamma[:, [i]]\n",
    "            total_ = row_i.sum()\n",
    "\n",
    "            self.mu[i] = (X * row_i).sum(axis=0) / total_\n",
    "            self.sigma[i] = np.cov(X.T,aweights=(row_i/total_).flatten(), bias=True)\n",
    "            \n",
    "                \n",
    "\n",
    "    # responsible for clustering the data points correctly\n",
    "    def fit(self, X):\n",
    "        # initialise parameters like weights, phi, meu, sigma of all Gaussians in dataset X\n",
    "        self.initialize(X)\n",
    "        for iteration in tqdm(range(self.max_iter),desc='GMM (EM): k='+str(self.k)):\n",
    "            # iterate to update the value of P(Xi/Ci=j) and (phi)k\n",
    "            self.e_step(X)\n",
    "            if(np.isnan(self.mu).any()):\n",
    "                print(\"MU IS NAN AFTER E \", iteration+1)\n",
    "            if(np.isnan(self.sigma).any()):\n",
    "                print(\"SIGMA IS NAN AFTER E \", iteration+1)\n",
    "            if(np.isnan(self.pi).any()):\n",
    "                print(\"PI IS NAN AFTER E \", iteration+1)\n",
    "            if(np.isnan(self.gamma).any()):\n",
    "                print(\"GAMMA IS NAN AFTER E \", iteration+1)\n",
    "            # iterate to update the value of meu and sigma as the clusters shift\n",
    "            self.m_step(X)\n",
    "            if(np.isnan(self.mu).any()):\n",
    "                print(\"MU IS NAN AFTER M \", iteration+1)\n",
    "            if(np.isnan(self.sigma).any()):\n",
    "                print(\"SIGMA IS NAN AFTER M \", iteration+1)\n",
    "            if(np.isnan(self.gamma).any()):\n",
    "                print(\"GAMMA IS NAN AFTER E \", iteration+1)\n",
    "            if(np.isnan(self.pi).any()):\n",
    "                print(\"PI IS NAN AFTER M \", iteration+1)\n",
    "    \n",
    "    # predict function \n",
    "    def predict(self, X):\n",
    "        n,d = np.array(X).shape\n",
    "        gamma = np.zeros((n,self.k))\n",
    "        for i in range(n):\n",
    "            x = X[i]\n",
    "            p_x = 0.\n",
    "            vec = []\n",
    "            for k in range(self.k):\n",
    "                p_xk = self.pi[k] * (GMM.gaussian(x, self.mu[k], self.sigma[k]))\n",
    "                vec.append(p_xk.item())\n",
    "                p_x += p_xk\n",
    "            if(p_x < 1e-9):\n",
    "                print(\"p_x is \", p_x)\n",
    "            gamma[i] = (np.array(vec, dtype=np.float64))*1.0/p_x\n",
    "        # self.pi = np.mean(self.gamma, axis=0)\n",
    "        return np.argmax(gamma, axis=1)\n",
    "        weights = self.predict_proba(X)\n",
    "        # datapoint belongs to cluster with maximum probability\n",
    "        # returns this value\n",
    "        return np.argmax(weights, axis=1)\n",
    "    \n",
    "    def score(self, x, ret_gamma: bool = False):\n",
    "        # x is d-dimensional single input feature vector\n",
    "        if(ret_gamma):\n",
    "            gamma = np.zeros(self.k)\n",
    "            vec = []\n",
    "        p_x = 0.\n",
    "        for k in range(self.k):\n",
    "            p_xk = self.pi[k] * (GMM.gaussian(x, self.mu[k], self.sigma[k]))\n",
    "            if(ret_gamma):\n",
    "                vec.append(p_xk.item())\n",
    "            p_x += p_xk.item()\n",
    "        if(ret_gamma):\n",
    "            gamma = (np.array(vec))*1.0/p_x\n",
    "            return p_x, gamma\n",
    "        return p_x\n",
    "    \n",
    "    def plot_contour(self, fig, ax, _range, _input, color='red'):\n",
    "        N, _, d = _input.shape\n",
    "        if(d != 2):\n",
    "            print(\"Can't plot for input not 2d\")\n",
    "            return None\n",
    "        Z = np.empty((self.k,N,N))\n",
    "        for k in range(0,self.k):\n",
    "            for i in range(N):\n",
    "                for j in range(N):\n",
    "                    Z[k][i][j] = GMM.gaussian(_input[i][j], self.mu[k], self.sigma[k])\n",
    "            ax.contour(_input[:,:,0], _input[:,:,1], Z[k], colors=color, levels=np.arange(0.2, 2.0, 0.5))"
   ]
  },
  {
   "cell_type": "code",
   "execution_count": 36,
   "metadata": {},
   "outputs": [
    {
     "name": "stdout",
     "output_type": "stream",
     "text": [
      "(43560, 23)\n"
     ]
    }
   ],
   "source": [
    "X = []\n",
    "Y = []\n",
    "classes = os.listdir(\"Features/\")\n",
    "for i in range(len(classes)):\n",
    "    _class = classes[i]\n",
    "    inputfiles = os.listdir(\"Features/\"+_class+\"/train/\")\n",
    "    for inputfile in inputfiles:\n",
    "        with open(\"Features/\"+_class+\"/train/\" + inputfile) as f:\n",
    "            reader = np.genfromtxt(f, delimiter=\" \")\n",
    "            for row in reader:\n",
    "                X.append(row)\n",
    "                Y.append(i)\n",
    "                \n",
    "df = pd.DataFrame(X)\n",
    "df_norm = (df-df.mean())/(df.std())\n",
    "X = df_norm.to_numpy()\n",
    "print(X.shape)"
   ]
  },
  {
   "cell_type": "code",
   "execution_count": 34,
   "metadata": {},
   "outputs": [
    {
     "name": "stdout",
     "output_type": "stream",
     "text": [
      "(array([  0,   1,   2,   3,   4,   5,   6,   7,   8,   9,  10,  11,  12,\n",
      "        13,  14,  15,  16,  17,  18,  19,  20,  21,  22,  23,  24,  25,\n",
      "        26,  27,  28,  29,  30,  31,  32,  33,  34,  35,  36,  37,  38,\n",
      "        39,  40,  41,  42,  43,  44,  45,  46,  47,  48,  49,  50,  51,\n",
      "        52,  53,  54,  55,  56,  57,  58,  59,  60,  61,  62,  63,  64,\n",
      "        65,  66,  67,  68,  69,  70,  71,  72,  73,  74,  75,  76,  77,\n",
      "        78,  79,  80,  81,  82,  83,  84,  85,  86,  87,  88,  89,  90,\n",
      "        91,  92,  93,  94,  95,  96,  97,  98,  99, 100, 101, 102, 103,\n",
      "       104, 105, 106, 107, 108, 109, 110, 111, 112, 113, 114, 115, 116,\n",
      "       117, 118, 119, 120, 121, 122, 123, 124, 125, 126, 127, 128, 129,\n",
      "       130, 131, 132, 133, 134, 135, 136, 137, 138, 139, 140, 141, 142,\n",
      "       143, 144, 145, 146, 147, 148, 149, 150, 151, 152, 153, 154, 155,\n",
      "       156, 157, 158, 159, 160, 161, 162, 163, 164, 165, 166, 167, 168,\n",
      "       169, 170, 171, 172, 173, 174, 175, 176, 177, 178, 179, 180, 181,\n",
      "       182, 183, 184, 185, 186, 187, 188, 189, 190, 191, 192, 193, 194,\n",
      "       195, 196, 197, 198, 199, 200, 201, 202, 203, 204, 205, 206, 207,\n",
      "       208, 209, 210, 211, 212, 213, 214, 215, 216, 217, 218, 219, 220,\n",
      "       221, 222, 223, 224, 225, 226, 227, 228, 229, 230, 231, 232, 233,\n",
      "       234, 235, 236, 237, 238, 239, 240, 241, 242, 243, 244, 245, 246,\n",
      "       247, 248, 249, 250], dtype=int64),)\n",
      "(array([251, 252, 253, 254, 255, 256, 257, 258, 259, 260, 261, 262, 263,\n",
      "       264, 265, 266, 267, 268, 269, 270, 271, 272, 273, 274, 275, 276,\n",
      "       277, 278, 279, 280, 281, 282, 283, 284, 285, 286, 287, 288, 289,\n",
      "       290, 291, 292, 293, 294, 295, 296, 297, 298, 299, 300, 301, 302,\n",
      "       303, 304, 305, 306, 307, 308, 309, 310, 311, 312, 313, 314, 315,\n",
      "       316, 317, 318, 319, 320, 321, 322, 323, 324, 325, 326, 327, 328,\n",
      "       329, 330, 331, 332, 333, 334, 335, 336, 337, 338, 339, 340, 341,\n",
      "       342, 343, 344, 345, 346, 347, 348, 349, 350, 351, 352, 353, 354,\n",
      "       355, 356, 357, 358, 359, 360, 361, 362, 363, 364, 365, 366, 367,\n",
      "       368, 369, 370, 371, 372, 373, 374, 375, 376, 377, 378, 379, 380,\n",
      "       381, 382, 383, 384, 385, 386, 387, 388, 389, 390, 391, 392, 393,\n",
      "       394, 395, 396, 397, 398, 399, 400, 401, 402, 403, 404, 405, 406,\n",
      "       407, 408, 409, 410, 411, 412, 413, 414, 415, 416, 417, 418, 419,\n",
      "       420, 421, 422, 423, 424, 425, 426, 427, 428, 429, 430, 431, 432,\n",
      "       433, 434, 435, 436, 437, 438, 439, 440, 441, 442, 443, 444, 445,\n",
      "       446, 447, 448, 449, 450, 451, 452, 453, 454, 455, 456, 457, 458,\n",
      "       459, 460, 461, 462, 463, 464, 465, 466, 467, 468, 469, 470, 471,\n",
      "       472, 473, 474, 475, 476, 477, 478, 479], dtype=int64),)\n",
      "(array([480, 481, 482, 483, 484, 485, 486, 487, 488, 489, 490, 491, 492,\n",
      "       493, 494, 495, 496, 497, 498, 499, 500, 501, 502, 503, 504, 505,\n",
      "       506, 507, 508, 509, 510, 511, 512, 513, 514, 515, 516, 517, 518,\n",
      "       519, 520, 521, 522, 523, 524, 525, 526, 527, 528, 529, 530, 531,\n",
      "       532, 533, 534, 535, 536, 537, 538, 539, 540, 541, 542, 543, 544,\n",
      "       545, 546, 547, 548, 549, 550, 551, 552, 553, 554, 555, 556, 557,\n",
      "       558, 559, 560, 561, 562, 563, 564, 565, 566, 567, 568, 569, 570,\n",
      "       571, 572, 573, 574, 575, 576, 577, 578, 579, 580, 581, 582, 583,\n",
      "       584, 585, 586, 587, 588, 589, 590, 591, 592, 593, 594, 595, 596,\n",
      "       597, 598, 599, 600, 601, 602, 603, 604, 605, 606, 607, 608, 609,\n",
      "       610, 611, 612, 613, 614, 615, 616, 617, 618, 619, 620, 621, 622,\n",
      "       623, 624, 625, 626, 627, 628, 629, 630, 631, 632, 633, 634, 635,\n",
      "       636, 637, 638, 639, 640, 641, 642, 643, 644, 645, 646, 647, 648,\n",
      "       649, 650, 651, 652, 653, 654, 655, 656, 657, 658, 659, 660, 661],\n",
      "      dtype=int64),)\n",
      "(array([662, 663, 664, 665, 666, 667, 668, 669, 670, 671, 672, 673, 674,\n",
      "       675, 676, 677, 678, 679, 680, 681, 682, 683, 684, 685, 686, 687,\n",
      "       688, 689, 690, 691, 692, 693, 694, 695, 696, 697, 698, 699, 700,\n",
      "       701, 702, 703, 704, 705, 706, 707, 708, 709, 710, 711, 712, 713,\n",
      "       714, 715, 716, 717, 718, 719, 720, 721, 722, 723, 724, 725, 726,\n",
      "       727, 728, 729, 730, 731, 732, 733, 734, 735, 736, 737, 738, 739,\n",
      "       740, 741, 742, 743, 744, 745, 746, 747, 748, 749, 750, 751, 752,\n",
      "       753, 754, 755, 756, 757, 758, 759, 760, 761, 762, 763, 764, 765,\n",
      "       766, 767, 768, 769, 770, 771, 772, 773, 774, 775, 776, 777, 778,\n",
      "       779, 780, 781, 782, 783, 784, 785, 786, 787, 788, 789, 790, 791,\n",
      "       792, 793, 794, 795, 796, 797, 798, 799, 800, 801, 802, 803, 804,\n",
      "       805, 806, 807, 808, 809, 810, 811, 812, 813, 814, 815, 816, 817,\n",
      "       818, 819, 820, 821, 822, 823, 824, 825, 826, 827, 828, 829, 830,\n",
      "       831, 832, 833, 834, 835, 836, 837, 838, 839, 840, 841, 842, 843,\n",
      "       844, 845, 846, 847, 848, 849, 850, 851, 852, 853, 854, 855, 856,\n",
      "       857, 858, 859, 860, 861, 862, 863, 864, 865, 866, 867, 868, 869,\n",
      "       870, 871, 872, 873, 874, 875, 876, 877, 878, 879, 880, 881, 882,\n",
      "       883, 884, 885, 886, 887, 888, 889, 890, 891, 892, 893, 894, 895,\n",
      "       896, 897, 898, 899, 900, 901, 902, 903, 904, 905, 906, 907, 908,\n",
      "       909, 910, 911, 912, 913, 914, 915, 916, 917, 918, 919, 920, 921,\n",
      "       922], dtype=int64),)\n",
      "(array([ 923,  924,  925,  926,  927,  928,  929,  930,  931,  932,  933,\n",
      "        934,  935,  936,  937,  938,  939,  940,  941,  942,  943,  944,\n",
      "        945,  946,  947,  948,  949,  950,  951,  952,  953,  954,  955,\n",
      "        956,  957,  958,  959,  960,  961,  962,  963,  964,  965,  966,\n",
      "        967,  968,  969,  970,  971,  972,  973,  974,  975,  976,  977,\n",
      "        978,  979,  980,  981,  982,  983,  984,  985,  986,  987,  988,\n",
      "        989,  990,  991,  992,  993,  994,  995,  996,  997,  998,  999,\n",
      "       1000, 1001, 1002, 1003, 1004, 1005, 1006, 1007, 1008, 1009, 1010,\n",
      "       1011, 1012, 1013, 1014, 1015, 1016, 1017, 1018, 1019, 1020, 1021,\n",
      "       1022, 1023, 1024, 1025, 1026, 1027, 1028, 1029, 1030, 1031, 1032,\n",
      "       1033, 1034, 1035, 1036, 1037, 1038, 1039, 1040, 1041, 1042, 1043,\n",
      "       1044, 1045, 1046, 1047, 1048, 1049, 1050, 1051, 1052, 1053, 1054,\n",
      "       1055, 1056, 1057, 1058, 1059, 1060, 1061, 1062, 1063, 1064, 1065,\n",
      "       1066, 1067, 1068, 1069, 1070, 1071, 1072, 1073, 1074, 1075, 1076,\n",
      "       1077, 1078, 1079, 1080, 1081, 1082, 1083, 1084, 1085, 1086, 1087,\n",
      "       1088, 1089, 1090, 1091, 1092, 1093, 1094, 1095, 1096, 1097, 1098,\n",
      "       1099, 1100, 1101, 1102, 1103, 1104, 1105, 1106, 1107, 1108, 1109,\n",
      "       1110, 1111, 1112, 1113, 1114, 1115, 1116, 1117, 1118, 1119, 1120,\n",
      "       1121, 1122, 1123, 1124, 1125, 1126, 1127, 1128, 1129, 1130, 1131,\n",
      "       1132, 1133, 1134, 1135, 1136, 1137, 1138, 1139, 1140, 1141, 1142,\n",
      "       1143, 1144, 1145, 1146, 1147, 1148, 1149, 1150, 1151, 1152, 1153,\n",
      "       1154, 1155, 1156, 1157, 1158, 1159, 1160, 1161, 1162, 1163, 1164,\n",
      "       1165, 1166, 1167, 1168, 1169, 1170, 1171, 1172, 1173, 1174, 1175,\n",
      "       1176, 1177, 1178, 1179, 1180, 1181, 1182, 1183, 1184, 1185, 1186,\n",
      "       1187, 1188, 1189, 1190, 1191, 1192, 1193, 1194, 1195, 1196, 1197,\n",
      "       1198, 1199, 1200, 1201, 1202, 1203, 1204, 1205, 1206, 1207, 1208,\n",
      "       1209], dtype=int64),)\n"
     ]
    }
   ],
   "source": [
    "Y = np.array(Y, dtype=np.float64)\n",
    "X = np.array(X, dtype=np.float64)\n",
    "ind1 = np.where(Y == 0)\n",
    "print(ind1)\n",
    "ind2 = np.where(Y == 1)\n",
    "print(ind2)\n",
    "ind3 = np.where(Y == 2)\n",
    "print(ind3)\n",
    "ind4 = np.where(Y == 3)\n",
    "print(ind4)\n",
    "ind5 = np.where(Y == 4)\n",
    "print(ind5)\n",
    "\n",
    "X1 = X[ind1]\n",
    "X2 = X[ind2]\n",
    "X3 = X[ind3]\n",
    "X4 = X[ind4]\n",
    "X5 = X[ind5]"
   ]
  },
  {
   "cell_type": "code",
   "execution_count": 35,
   "metadata": {},
   "outputs": [],
   "source": [
    "import numpy as np\n",
    "from scipy.stats import multivariate_normal \n",
    "\n",
    "class GMM:\n",
    "    def __init__(self, k, max_iter=5):\n",
    "        self.k = k\n",
    "        self.max_iter = int(max_iter) \n",
    "\n",
    "    def initialize(self, X):\n",
    "        # returns the (r,c) value of the numpy array of X\n",
    "        self.shape = X.shape \n",
    "        # n has the number of rows while m has the number of columns of dataset X\n",
    "        self.n, self.m = self.shape \n",
    "        \n",
    "\n",
    "        # initial weights given to each cluster are stored in phi or P(Ci=j)\n",
    "        self.phi = np.full(shape=self.k, fill_value=1/self.k) \n",
    "\n",
    "        # initial weights given to each data point wrt to each cluster or P(Xi/Ci=j)\n",
    "        self.weights = np.full(shape=self.shape, fill_value=1/self.k)\n",
    "        \n",
    "        # dataset is divided randomly into k parts of unequal sizes\n",
    "        random_row = np.random.randint(low=0, high=self.n, size=self.k)\n",
    "\n",
    "        # initial value of mean of k Gaussians\n",
    "        self.mu = [  X[row_index,:] for row_index in random_row ] \n",
    "\n",
    "        # initial value of covariance matrix of k Gaussians\n",
    "        self.sigma = [ np.cov(X.T) for _ in range(self.k) ] \n",
    "        # theta =(mu1,sigma1,mu2,simga2......muk,sigmak)\n",
    "\n",
    "    # E-Step: update weights and phi holding mu and sigma constant\n",
    "    def e_step(self, X):\n",
    "        # updated weights or P(Xi/Ci=j)\n",
    "        self.weights = self.predict_proba(X)\n",
    "        # mean of sum of probability of all data points wrt to one cluster is new updated probability of cluster k or (phi)k\n",
    "        self.phi = self.weights.mean(axis=0)\n",
    "\n",
    "    # M-Step: update meu and sigma holding phi and weights constant\n",
    "    def m_step(self, X):\n",
    "        for i in range(self.k):\n",
    "            weight = self.weights[:, [i]]\n",
    "            total_weight = weight.sum()\n",
    "\n",
    "            self.mu[i] = (X * weight).sum(axis=0) / total_weight\n",
    "            self.sigma[i] = np.cov(X.T,aweights=(weight/total_weight).flatten(), bias=True)\n",
    "\n",
    "    # responsible for clustering the data points correctly\n",
    "    def fit(self, X):\n",
    "        # initialise parameters like weights, phi, meu, sigma of all Gaussians in dataset X\n",
    "        self.initialize(X)\n",
    "        plt.figure(figsize=(16, 25))\n",
    "        for iteration in range(self.max_iter):\n",
    "            # iterate to update the value of P(Xi/Ci=j) and (phi)k\n",
    "            self.e_step(X)\n",
    "            # iterate to update the value of meu and sigma as the clusters shift\n",
    "            self.m_step(X)\n",
    "            \n",
    "\n",
    "    # predicts probability of each data point wrt each cluster\n",
    "    def predict_proba(self, X):\n",
    "        # Creates a n*k matrix denoting probability of each point wrt each cluster \n",
    "        likelihood = np.zeros( (self.n, self.k) ) \n",
    "        for i in range(self.k):\n",
    "            distribution = multivariate_normal(mean=self.mu[i],cov=self.sigma[i], allow_singular=True)\n",
    "            # pdf : probability denisty function\n",
    "            likelihood[:,i] = distribution.pdf(X) \n",
    "\n",
    "        numerator = likelihood * self.phi\n",
    "        denominator = numerator.sum(axis=1)[:, np.newaxis]\n",
    "        weights = numerator / denominator\n",
    "        return weights\n",
    "    \n",
    "    # predict function \n",
    "    def predict(self, X):\n",
    "        weights = self.predict_proba(X)\n",
    "        # datapoint belongs to cluster with maximum probability\n",
    "        # returns this value\n",
    "        return np.argmax(weights, axis=1)"
   ]
  },
  {
   "cell_type": "code",
   "execution_count": 35,
   "metadata": {},
   "outputs": [
    {
     "data": {
      "application/vnd.jupyter.widget-view+json": {
       "model_id": "e0569189693740b6ac12da3fb107735a",
       "version_major": 2,
       "version_minor": 0
      },
      "text/plain": [
       "K MEANS CLUSTERING: k=10:   0%|          | 0/30 [00:00<?, ?it/s]"
      ]
     },
     "metadata": {},
     "output_type": "display_data"
    },
    {
     "data": {
      "image/png": "[encoded data removed]",
      "text/plain": [
       "<Figure size 720x504 with 1 Axes>"
      ]
     },
     "metadata": {
      "needs_background": "light"
     },
     "output_type": "display_data"
    },
    {
     "data": {
      "application/vnd.jupyter.widget-view+json": {
       "model_id": "e55a261dcc9b4ad9bf2ba854f10456e5",
       "version_major": 2,
       "version_minor": 0
      },
      "text/plain": [
       "GMM (EM): k=10:   0%|          | 0/30 [00:00<?, ?it/s]"
      ]
     },
     "metadata": {},
     "output_type": "display_data"
    },
    {
     "name": "stdout",
     "output_type": "stream",
     "text": [
      "(10,)\n",
      "[0.16034415 0.00796813 0.03585663 0.00398406 0.11196703 0.0877952\n",
      " 0.1281205  0.29186367 0.14022811 0.03187252]\n"
     ]
    },
    {
     "name": "stderr",
     "output_type": "stream",
     "text": [
      "C:\\Users\\Vedant\\AppData\\Local\\Programs\\Python\\Python39\\lib\\site-packages\\scipy\\stats\\_multivariate.py:744: RuntimeWarning: overflow encountered in exp\n",
      "  return np.exp(self.logpdf(x))\n",
      "C:\\Users\\Vedant\\AppData\\Local\\Temp\\ipykernel_33712\\29434629.py:51: RuntimeWarning: invalid value encountered in true_divide\n",
      "  self.gamma = numerator / denominator\n"
     ]
    },
    {
     "name": "stdout",
     "output_type": "stream",
     "text": [
      "Anomaly!\n",
      "(10,)\n",
      "[0.15936255 0.00796813 0.00358566 0.00039841 0.11155378 0.0876494\n",
      " 0.12749004 0.29482072 0.13944223 0.00318725]\n",
      "(10,)\n",
      "[3.92455748e-39 3.14348825e-01 7.24251931e-11 6.85651174e-01\n",
      " 9.14042945e-29 6.27246645e-24 5.96902161e-33 7.98715918e-62\n",
      " 5.02006811e-35 4.00069360e-10]\n",
      "(10,)\n",
      "[0.30678636 0.0525627  0.02858961 0.08057698 0.10686341 0.07637425\n",
      " 0.12351557 0.07171315 0.14012549 0.01289246]\n",
      "(10,)\n",
      "[2.64739157e-49 3.30327161e-02 3.18725100e-02 8.42702577e-16\n",
      " 3.75297679e-09 1.01075379e-04 1.68790957e-14 9.19016775e-01\n",
      " 4.06643766e-05 1.59362550e-02]\n",
      "(10,)\n",
      "[3.11805173e-101 4.56432431e-012 1.07594534e-005 3.14570079e-014\n",
      " 1.59355534e-002 1.19353528e-002 4.79614722e-041 1.52261424e-157\n",
      " 1.44798972e-032 9.72118334e-001]\n",
      "(10,)\n",
      "[1.19521568e-002 1.88115367e-016 2.85125917e-121 8.80182994e-015\n",
      " 3.46950750e-002 7.78930360e-001 7.42962175e-014 4.02457645e-125\n",
      " 1.74422408e-001 2.43954716e-161]\n",
      "(10,)\n",
      "[9.98333886e-001 4.09275211e-016 1.79407867e-117 5.45772767e-014\n",
      " 6.32786840e-122 1.60115482e-145 1.66611383e-003 0.00000000e+000\n",
      " 1.00586204e-042 8.23053524e-282]\n",
      "MU IS NAN AFTER M  8\n",
      "SIGMA IS NAN AFTER M  8\n"
     ]
    },
    {
     "name": "stderr",
     "output_type": "stream",
     "text": [
      "C:\\Users\\Vedant\\AppData\\Local\\Temp\\ipykernel_33712\\29434629.py:66: RuntimeWarning: invalid value encountered in true_divide\n",
      "  self.mu[i] = (X * row_i).sum(axis=0) / total_\n",
      "C:\\Users\\Vedant\\AppData\\Local\\Temp\\ipykernel_33712\\29434629.py:67: RuntimeWarning: invalid value encountered in true_divide\n",
      "  self.sigma[i] = np.cov(X.T,aweights=(row_i/total_).flatten(), bias=True)\n"
     ]
    },
    {
     "ename": "ValueError",
     "evalue": "array must not contain infs or NaNs",
     "output_type": "error",
     "traceback": [
      "\u001b[1;31m---------------------------------------------------------------------------\u001b[0m",
      "\u001b[1;31mValueError\u001b[0m                                Traceback (most recent call last)",
      "\u001b[1;32md:\\Files\\PRML\\Assignment 3\\GMM\\6.ipynb Cell 7'\u001b[0m in \u001b[0;36m<module>\u001b[1;34m\u001b[0m\n\u001b[0;32m      <a href='vscode-notebook-cell:/d%3A/Files/PRML/Assignment%203/GMM/6.ipynb#ch0000006?line=0'>1</a>\u001b[0m gmm1 \u001b[39m=\u001b[39m GMM(\u001b[39m10\u001b[39m, \u001b[39m30\u001b[39m, \u001b[39m30\u001b[39m)\n\u001b[1;32m----> <a href='vscode-notebook-cell:/d%3A/Files/PRML/Assignment%203/GMM/6.ipynb#ch0000006?line=1'>2</a>\u001b[0m gmm1\u001b[39m.\u001b[39;49mfit(X1)\n",
      "\u001b[1;32md:\\Files\\PRML\\Assignment 3\\GMM\\6.ipynb Cell 3'\u001b[0m in \u001b[0;36mGMM.fit\u001b[1;34m(self, X)\u001b[0m\n\u001b[0;32m     <a href='vscode-notebook-cell:/d%3A/Files/PRML/Assignment%203/GMM/6.ipynb#ch0000002?line=73'>74</a>\u001b[0m \u001b[39mself\u001b[39m\u001b[39m.\u001b[39minitialize(X)\n\u001b[0;32m     <a href='vscode-notebook-cell:/d%3A/Files/PRML/Assignment%203/GMM/6.ipynb#ch0000002?line=74'>75</a>\u001b[0m \u001b[39mfor\u001b[39;00m iteration \u001b[39min\u001b[39;00m tqdm(\u001b[39mrange\u001b[39m(\u001b[39mself\u001b[39m\u001b[39m.\u001b[39mmax_iter),desc\u001b[39m=\u001b[39m\u001b[39m'\u001b[39m\u001b[39mGMM (EM): k=\u001b[39m\u001b[39m'\u001b[39m\u001b[39m+\u001b[39m\u001b[39mstr\u001b[39m(\u001b[39mself\u001b[39m\u001b[39m.\u001b[39mk)):\n\u001b[0;32m     <a href='vscode-notebook-cell:/d%3A/Files/PRML/Assignment%203/GMM/6.ipynb#ch0000002?line=75'>76</a>\u001b[0m     \u001b[39m# iterate to update the value of P(Xi/Ci=j) and (phi)k\u001b[39;00m\n\u001b[1;32m---> <a href='vscode-notebook-cell:/d%3A/Files/PRML/Assignment%203/GMM/6.ipynb#ch0000002?line=76'>77</a>\u001b[0m     \u001b[39mself\u001b[39;49m\u001b[39m.\u001b[39;49me_step(X)\n\u001b[0;32m     <a href='vscode-notebook-cell:/d%3A/Files/PRML/Assignment%203/GMM/6.ipynb#ch0000002?line=77'>78</a>\u001b[0m     \u001b[39mif\u001b[39;00m(np\u001b[39m.\u001b[39misnan(\u001b[39mself\u001b[39m\u001b[39m.\u001b[39mmu)\u001b[39m.\u001b[39many()):\n\u001b[0;32m     <a href='vscode-notebook-cell:/d%3A/Files/PRML/Assignment%203/GMM/6.ipynb#ch0000002?line=78'>79</a>\u001b[0m         \u001b[39mprint\u001b[39m(\u001b[39m\"\u001b[39m\u001b[39mMU IS NAN AFTER E \u001b[39m\u001b[39m\"\u001b[39m, iteration\u001b[39m+\u001b[39m\u001b[39m1\u001b[39m)\n",
      "\u001b[1;32md:\\Files\\PRML\\Assignment 3\\GMM\\6.ipynb Cell 3'\u001b[0m in \u001b[0;36mGMM.e_step\u001b[1;34m(self, X)\u001b[0m\n\u001b[0;32m     <a href='vscode-notebook-cell:/d%3A/Files/PRML/Assignment%203/GMM/6.ipynb#ch0000002?line=45'>46</a>\u001b[0m likelihood \u001b[39m=\u001b[39m np\u001b[39m.\u001b[39mzeros( (n, \u001b[39mself\u001b[39m\u001b[39m.\u001b[39mk) ) \n\u001b[0;32m     <a href='vscode-notebook-cell:/d%3A/Files/PRML/Assignment%203/GMM/6.ipynb#ch0000002?line=46'>47</a>\u001b[0m \u001b[39mfor\u001b[39;00m i \u001b[39min\u001b[39;00m \u001b[39mrange\u001b[39m(\u001b[39mself\u001b[39m\u001b[39m.\u001b[39mk):\n\u001b[1;32m---> <a href='vscode-notebook-cell:/d%3A/Files/PRML/Assignment%203/GMM/6.ipynb#ch0000002?line=47'>48</a>\u001b[0m     likelihood[:,i] \u001b[39m=\u001b[39m multivariate_normal(mean\u001b[39m=\u001b[39;49m\u001b[39mself\u001b[39;49m\u001b[39m.\u001b[39;49mmu[i],cov\u001b[39m=\u001b[39;49m\u001b[39mself\u001b[39;49m\u001b[39m.\u001b[39;49msigma[i], allow_singular\u001b[39m=\u001b[39;49m\u001b[39mTrue\u001b[39;49;00m, seed\u001b[39m=\u001b[39;49m\u001b[39mself\u001b[39;49m\u001b[39m.\u001b[39;49mseed)\u001b[39m.\u001b[39mpdf(X)\n\u001b[0;32m     <a href='vscode-notebook-cell:/d%3A/Files/PRML/Assignment%203/GMM/6.ipynb#ch0000002?line=48'>49</a>\u001b[0m numerator \u001b[39m=\u001b[39m likelihood \u001b[39m*\u001b[39m \u001b[39mself\u001b[39m\u001b[39m.\u001b[39mpi\n\u001b[0;32m     <a href='vscode-notebook-cell:/d%3A/Files/PRML/Assignment%203/GMM/6.ipynb#ch0000002?line=49'>50</a>\u001b[0m denominator \u001b[39m=\u001b[39m numerator\u001b[39m.\u001b[39msum(axis\u001b[39m=\u001b[39m\u001b[39m1\u001b[39m)[:, np\u001b[39m.\u001b[39mnewaxis]\n",
      "File \u001b[1;32m~\\AppData\\Local\\Programs\\Python\\Python39\\lib\\site-packages\\scipy\\stats\\_multivariate.py:360\u001b[0m, in \u001b[0;36mmultivariate_normal_gen.__call__\u001b[1;34m(self, mean, cov, allow_singular, seed)\u001b[0m\n\u001b[0;32m    <a href='file:///c%3A/Users/Vedant/AppData/Local/Programs/Python/Python39/lib/site-packages/scipy/stats/_multivariate.py?line=354'>355</a>\u001b[0m \u001b[39mdef\u001b[39;00m \u001b[39m__call__\u001b[39m(\u001b[39mself\u001b[39m, mean\u001b[39m=\u001b[39m\u001b[39mNone\u001b[39;00m, cov\u001b[39m=\u001b[39m\u001b[39m1\u001b[39m, allow_singular\u001b[39m=\u001b[39m\u001b[39mFalse\u001b[39;00m, seed\u001b[39m=\u001b[39m\u001b[39mNone\u001b[39;00m):\n\u001b[0;32m    <a href='file:///c%3A/Users/Vedant/AppData/Local/Programs/Python/Python39/lib/site-packages/scipy/stats/_multivariate.py?line=355'>356</a>\u001b[0m     \u001b[39m\"\"\"Create a frozen multivariate normal distribution.\u001b[39;00m\n\u001b[0;32m    <a href='file:///c%3A/Users/Vedant/AppData/Local/Programs/Python/Python39/lib/site-packages/scipy/stats/_multivariate.py?line=356'>357</a>\u001b[0m \n\u001b[0;32m    <a href='file:///c%3A/Users/Vedant/AppData/Local/Programs/Python/Python39/lib/site-packages/scipy/stats/_multivariate.py?line=357'>358</a>\u001b[0m \u001b[39m    See `multivariate_normal_frozen` for more information.\u001b[39;00m\n\u001b[0;32m    <a href='file:///c%3A/Users/Vedant/AppData/Local/Programs/Python/Python39/lib/site-packages/scipy/stats/_multivariate.py?line=358'>359</a>\u001b[0m \u001b[39m    \"\"\"\u001b[39;00m\n\u001b[1;32m--> <a href='file:///c%3A/Users/Vedant/AppData/Local/Programs/Python/Python39/lib/site-packages/scipy/stats/_multivariate.py?line=359'>360</a>\u001b[0m     \u001b[39mreturn\u001b[39;00m multivariate_normal_frozen(mean, cov,\n\u001b[0;32m    <a href='file:///c%3A/Users/Vedant/AppData/Local/Programs/Python/Python39/lib/site-packages/scipy/stats/_multivariate.py?line=360'>361</a>\u001b[0m                                       allow_singular\u001b[39m=\u001b[39;49mallow_singular,\n\u001b[0;32m    <a href='file:///c%3A/Users/Vedant/AppData/Local/Programs/Python/Python39/lib/site-packages/scipy/stats/_multivariate.py?line=361'>362</a>\u001b[0m                                       seed\u001b[39m=\u001b[39;49mseed)\n",
      "File \u001b[1;32m~\\AppData\\Local\\Programs\\Python\\Python39\\lib\\site-packages\\scipy\\stats\\_multivariate.py:730\u001b[0m, in \u001b[0;36mmultivariate_normal_frozen.__init__\u001b[1;34m(self, mean, cov, allow_singular, seed, maxpts, abseps, releps)\u001b[0m\n\u001b[0;32m    <a href='file:///c%3A/Users/Vedant/AppData/Local/Programs/Python/Python39/lib/site-packages/scipy/stats/_multivariate.py?line=726'>727</a>\u001b[0m \u001b[39mself\u001b[39m\u001b[39m.\u001b[39m_dist \u001b[39m=\u001b[39m multivariate_normal_gen(seed)\n\u001b[0;32m    <a href='file:///c%3A/Users/Vedant/AppData/Local/Programs/Python/Python39/lib/site-packages/scipy/stats/_multivariate.py?line=727'>728</a>\u001b[0m \u001b[39mself\u001b[39m\u001b[39m.\u001b[39mdim, \u001b[39mself\u001b[39m\u001b[39m.\u001b[39mmean, \u001b[39mself\u001b[39m\u001b[39m.\u001b[39mcov \u001b[39m=\u001b[39m \u001b[39mself\u001b[39m\u001b[39m.\u001b[39m_dist\u001b[39m.\u001b[39m_process_parameters(\n\u001b[0;32m    <a href='file:///c%3A/Users/Vedant/AppData/Local/Programs/Python/Python39/lib/site-packages/scipy/stats/_multivariate.py?line=728'>729</a>\u001b[0m                                                     \u001b[39mNone\u001b[39;00m, mean, cov)\n\u001b[1;32m--> <a href='file:///c%3A/Users/Vedant/AppData/Local/Programs/Python/Python39/lib/site-packages/scipy/stats/_multivariate.py?line=729'>730</a>\u001b[0m \u001b[39mself\u001b[39m\u001b[39m.\u001b[39mcov_info \u001b[39m=\u001b[39m _PSD(\u001b[39mself\u001b[39;49m\u001b[39m.\u001b[39;49mcov, allow_singular\u001b[39m=\u001b[39;49mallow_singular)\n\u001b[0;32m    <a href='file:///c%3A/Users/Vedant/AppData/Local/Programs/Python/Python39/lib/site-packages/scipy/stats/_multivariate.py?line=730'>731</a>\u001b[0m \u001b[39mif\u001b[39;00m \u001b[39mnot\u001b[39;00m maxpts:\n\u001b[0;32m    <a href='file:///c%3A/Users/Vedant/AppData/Local/Programs/Python/Python39/lib/site-packages/scipy/stats/_multivariate.py?line=731'>732</a>\u001b[0m     maxpts \u001b[39m=\u001b[39m \u001b[39m1000000\u001b[39m \u001b[39m*\u001b[39m \u001b[39mself\u001b[39m\u001b[39m.\u001b[39mdim\n",
      "File \u001b[1;32m~\\AppData\\Local\\Programs\\Python\\Python39\\lib\\site-packages\\scipy\\stats\\_multivariate.py:158\u001b[0m, in \u001b[0;36m_PSD.__init__\u001b[1;34m(self, M, cond, rcond, lower, check_finite, allow_singular)\u001b[0m\n\u001b[0;32m    <a href='file:///c%3A/Users/Vedant/AppData/Local/Programs/Python/Python39/lib/site-packages/scipy/stats/_multivariate.py?line=152'>153</a>\u001b[0m \u001b[39mdef\u001b[39;00m \u001b[39m__init__\u001b[39m(\u001b[39mself\u001b[39m, M, cond\u001b[39m=\u001b[39m\u001b[39mNone\u001b[39;00m, rcond\u001b[39m=\u001b[39m\u001b[39mNone\u001b[39;00m, lower\u001b[39m=\u001b[39m\u001b[39mTrue\u001b[39;00m,\n\u001b[0;32m    <a href='file:///c%3A/Users/Vedant/AppData/Local/Programs/Python/Python39/lib/site-packages/scipy/stats/_multivariate.py?line=153'>154</a>\u001b[0m              check_finite\u001b[39m=\u001b[39m\u001b[39mTrue\u001b[39;00m, allow_singular\u001b[39m=\u001b[39m\u001b[39mTrue\u001b[39;00m):\n\u001b[0;32m    <a href='file:///c%3A/Users/Vedant/AppData/Local/Programs/Python/Python39/lib/site-packages/scipy/stats/_multivariate.py?line=154'>155</a>\u001b[0m     \u001b[39m# Compute the symmetric eigendecomposition.\u001b[39;00m\n\u001b[0;32m    <a href='file:///c%3A/Users/Vedant/AppData/Local/Programs/Python/Python39/lib/site-packages/scipy/stats/_multivariate.py?line=155'>156</a>\u001b[0m     \u001b[39m# Note that eigh takes care of array conversion, chkfinite,\u001b[39;00m\n\u001b[0;32m    <a href='file:///c%3A/Users/Vedant/AppData/Local/Programs/Python/Python39/lib/site-packages/scipy/stats/_multivariate.py?line=156'>157</a>\u001b[0m     \u001b[39m# and assertion that the matrix is square.\u001b[39;00m\n\u001b[1;32m--> <a href='file:///c%3A/Users/Vedant/AppData/Local/Programs/Python/Python39/lib/site-packages/scipy/stats/_multivariate.py?line=157'>158</a>\u001b[0m     s, u \u001b[39m=\u001b[39m scipy\u001b[39m.\u001b[39;49mlinalg\u001b[39m.\u001b[39;49meigh(M, lower\u001b[39m=\u001b[39;49mlower, check_finite\u001b[39m=\u001b[39;49mcheck_finite)\n\u001b[0;32m    <a href='file:///c%3A/Users/Vedant/AppData/Local/Programs/Python/Python39/lib/site-packages/scipy/stats/_multivariate.py?line=159'>160</a>\u001b[0m     eps \u001b[39m=\u001b[39m _eigvalsh_to_eps(s, cond, rcond)\n\u001b[0;32m    <a href='file:///c%3A/Users/Vedant/AppData/Local/Programs/Python/Python39/lib/site-packages/scipy/stats/_multivariate.py?line=160'>161</a>\u001b[0m     \u001b[39mif\u001b[39;00m np\u001b[39m.\u001b[39mmin(s) \u001b[39m<\u001b[39m \u001b[39m-\u001b[39meps:\n",
      "File \u001b[1;32m~\\AppData\\Local\\Programs\\Python\\Python39\\lib\\site-packages\\scipy\\linalg\\_decomp.py:447\u001b[0m, in \u001b[0;36meigh\u001b[1;34m(a, b, lower, eigvals_only, overwrite_a, overwrite_b, turbo, eigvals, type, check_finite, subset_by_index, subset_by_value, driver)\u001b[0m\n\u001b[0;32m    <a href='file:///c%3A/Users/Vedant/AppData/Local/Programs/Python/Python39/lib/site-packages/scipy/linalg/_decomp.py?line=442'>443</a>\u001b[0m \u001b[39mif\u001b[39;00m driver \u001b[39mnot\u001b[39;00m \u001b[39min\u001b[39;00m drv_str:\n\u001b[0;32m    <a href='file:///c%3A/Users/Vedant/AppData/Local/Programs/Python/Python39/lib/site-packages/scipy/linalg/_decomp.py?line=443'>444</a>\u001b[0m     \u001b[39mraise\u001b[39;00m \u001b[39mValueError\u001b[39;00m(\u001b[39m'\u001b[39m\u001b[39m\"\u001b[39m\u001b[39m{}\u001b[39;00m\u001b[39m\"\u001b[39m\u001b[39m is unknown. Possible values are \u001b[39m\u001b[39m\"\u001b[39m\u001b[39mNone\u001b[39m\u001b[39m\"\u001b[39m\u001b[39m, \u001b[39m\u001b[39m\"\u001b[39m\u001b[39m{}\u001b[39;00m\u001b[39m\"\u001b[39m\u001b[39m.\u001b[39m\u001b[39m'\u001b[39m\n\u001b[0;32m    <a href='file:///c%3A/Users/Vedant/AppData/Local/Programs/Python/Python39/lib/site-packages/scipy/linalg/_decomp.py?line=444'>445</a>\u001b[0m                      \u001b[39m'\u001b[39m\u001b[39m'\u001b[39m\u001b[39m.\u001b[39mformat(driver, \u001b[39m'\u001b[39m\u001b[39m\"\u001b[39m\u001b[39m, \u001b[39m\u001b[39m\"\u001b[39m\u001b[39m'\u001b[39m\u001b[39m.\u001b[39mjoin(drv_str[\u001b[39m1\u001b[39m:])))\n\u001b[1;32m--> <a href='file:///c%3A/Users/Vedant/AppData/Local/Programs/Python/Python39/lib/site-packages/scipy/linalg/_decomp.py?line=446'>447</a>\u001b[0m a1 \u001b[39m=\u001b[39m _asarray_validated(a, check_finite\u001b[39m=\u001b[39;49mcheck_finite)\n\u001b[0;32m    <a href='file:///c%3A/Users/Vedant/AppData/Local/Programs/Python/Python39/lib/site-packages/scipy/linalg/_decomp.py?line=447'>448</a>\u001b[0m \u001b[39mif\u001b[39;00m \u001b[39mlen\u001b[39m(a1\u001b[39m.\u001b[39mshape) \u001b[39m!=\u001b[39m \u001b[39m2\u001b[39m \u001b[39mor\u001b[39;00m a1\u001b[39m.\u001b[39mshape[\u001b[39m0\u001b[39m] \u001b[39m!=\u001b[39m a1\u001b[39m.\u001b[39mshape[\u001b[39m1\u001b[39m]:\n\u001b[0;32m    <a href='file:///c%3A/Users/Vedant/AppData/Local/Programs/Python/Python39/lib/site-packages/scipy/linalg/_decomp.py?line=448'>449</a>\u001b[0m     \u001b[39mraise\u001b[39;00m \u001b[39mValueError\u001b[39;00m(\u001b[39m'\u001b[39m\u001b[39mexpected square \u001b[39m\u001b[39m\"\u001b[39m\u001b[39ma\u001b[39m\u001b[39m\"\u001b[39m\u001b[39m matrix\u001b[39m\u001b[39m'\u001b[39m)\n",
      "File \u001b[1;32m~\\AppData\\Local\\Programs\\Python\\Python39\\lib\\site-packages\\scipy\\_lib\\_util.py:287\u001b[0m, in \u001b[0;36m_asarray_validated\u001b[1;34m(a, check_finite, sparse_ok, objects_ok, mask_ok, as_inexact)\u001b[0m\n\u001b[0;32m    <a href='file:///c%3A/Users/Vedant/AppData/Local/Programs/Python/Python39/lib/site-packages/scipy/_lib/_util.py?line=284'>285</a>\u001b[0m         \u001b[39mraise\u001b[39;00m \u001b[39mValueError\u001b[39;00m(\u001b[39m'\u001b[39m\u001b[39mmasked arrays are not supported\u001b[39m\u001b[39m'\u001b[39m)\n\u001b[0;32m    <a href='file:///c%3A/Users/Vedant/AppData/Local/Programs/Python/Python39/lib/site-packages/scipy/_lib/_util.py?line=285'>286</a>\u001b[0m toarray \u001b[39m=\u001b[39m np\u001b[39m.\u001b[39masarray_chkfinite \u001b[39mif\u001b[39;00m check_finite \u001b[39melse\u001b[39;00m np\u001b[39m.\u001b[39masarray\n\u001b[1;32m--> <a href='file:///c%3A/Users/Vedant/AppData/Local/Programs/Python/Python39/lib/site-packages/scipy/_lib/_util.py?line=286'>287</a>\u001b[0m a \u001b[39m=\u001b[39m toarray(a)\n\u001b[0;32m    <a href='file:///c%3A/Users/Vedant/AppData/Local/Programs/Python/Python39/lib/site-packages/scipy/_lib/_util.py?line=287'>288</a>\u001b[0m \u001b[39mif\u001b[39;00m \u001b[39mnot\u001b[39;00m objects_ok:\n\u001b[0;32m    <a href='file:///c%3A/Users/Vedant/AppData/Local/Programs/Python/Python39/lib/site-packages/scipy/_lib/_util.py?line=288'>289</a>\u001b[0m     \u001b[39mif\u001b[39;00m a\u001b[39m.\u001b[39mdtype \u001b[39mis\u001b[39;00m np\u001b[39m.\u001b[39mdtype(\u001b[39m'\u001b[39m\u001b[39mO\u001b[39m\u001b[39m'\u001b[39m):\n",
      "File \u001b[1;32m~\\AppData\\Roaming\\Python\\Python39\\site-packages\\numpy\\lib\\function_base.py:603\u001b[0m, in \u001b[0;36masarray_chkfinite\u001b[1;34m(a, dtype, order)\u001b[0m\n\u001b[0;32m    <a href='file:///c%3A/Users/Vedant/AppData/Roaming/Python/Python39/site-packages/numpy/lib/function_base.py?line=600'>601</a>\u001b[0m a \u001b[39m=\u001b[39m asarray(a, dtype\u001b[39m=\u001b[39mdtype, order\u001b[39m=\u001b[39morder)\n\u001b[0;32m    <a href='file:///c%3A/Users/Vedant/AppData/Roaming/Python/Python39/site-packages/numpy/lib/function_base.py?line=601'>602</a>\u001b[0m \u001b[39mif\u001b[39;00m a\u001b[39m.\u001b[39mdtype\u001b[39m.\u001b[39mchar \u001b[39min\u001b[39;00m typecodes[\u001b[39m'\u001b[39m\u001b[39mAllFloat\u001b[39m\u001b[39m'\u001b[39m] \u001b[39mand\u001b[39;00m \u001b[39mnot\u001b[39;00m np\u001b[39m.\u001b[39misfinite(a)\u001b[39m.\u001b[39mall():\n\u001b[1;32m--> <a href='file:///c%3A/Users/Vedant/AppData/Roaming/Python/Python39/site-packages/numpy/lib/function_base.py?line=602'>603</a>\u001b[0m     \u001b[39mraise\u001b[39;00m \u001b[39mValueError\u001b[39;00m(\n\u001b[0;32m    <a href='file:///c%3A/Users/Vedant/AppData/Roaming/Python/Python39/site-packages/numpy/lib/function_base.py?line=603'>604</a>\u001b[0m         \u001b[39m\"\u001b[39m\u001b[39marray must not contain infs or NaNs\u001b[39m\u001b[39m\"\u001b[39m)\n\u001b[0;32m    <a href='file:///c%3A/Users/Vedant/AppData/Roaming/Python/Python39/site-packages/numpy/lib/function_base.py?line=604'>605</a>\u001b[0m \u001b[39mreturn\u001b[39;00m a\n",
      "\u001b[1;31mValueError\u001b[0m: array must not contain infs or NaNs"
     ]
    }
   ],
   "source": [
    "gmm1 = GMM(10, 30, 30)\n",
    "gmm1.fit(X1)"
   ]
  },
  {
   "cell_type": "code",
   "execution_count": 24,
   "metadata": {},
   "outputs": [
    {
     "data": {
      "application/vnd.jupyter.widget-view+json": {
       "model_id": "6152e5e3bbfc42ffb622427c083ff13f",
       "version_major": 2,
       "version_minor": 0
      },
      "text/plain": [
       "K MEANS CLUSTERING: k=10:   0%|          | 0/30 [00:00<?, ?it/s]"
      ]
     },
     "metadata": {},
     "output_type": "display_data"
    },
    {
     "data": {
      "image/png": "[encoded data removed]",
      "text/plain": [
       "<Figure size 720x504 with 1 Axes>"
      ]
     },
     "metadata": {
      "needs_background": "light"
     },
     "output_type": "display_data"
    },
    {
     "data": {
      "application/vnd.jupyter.widget-view+json": {
       "model_id": "7a4c35b861664489b55f91058a2164f5",
       "version_major": 2,
       "version_minor": 0
      },
      "text/plain": [
       "GMM (EM): k=10:   0%|          | 0/30 [00:00<?, ?it/s]"
      ]
     },
     "metadata": {},
     "output_type": "display_data"
    },
    {
     "name": "stdout",
     "output_type": "stream",
     "text": [
      "(10,)\n",
      "[0.02863404 0.1512164  0.097744   0.00995999 0.13316365 0.16347688\n",
      " 0.02842886 0.1737948  0.18716084 0.02642054]\n",
      "(10,)\n",
      "[0.05927774 0.10860446 0.10982743 0.0157811  0.10630403 0.09945199\n",
      " 0.01472206 0.24667161 0.21405333 0.02530625]\n",
      "(10,)\n",
      "[0.043849   0.12132711 0.1220886  0.01119846 0.10290343 0.10486707\n",
      " 0.01096829 0.26020203 0.20655531 0.01604071]\n",
      "(10,)\n",
      "[0.06709594 0.00970368 0.14019828 0.0099104  0.16663874 0.13719618\n",
      " 0.00698293 0.29752484 0.15680641 0.00794259]\n",
      "(10,)\n",
      "[0.04545493 0.00456504 0.15306321 0.00993733 0.0060233  0.19911287\n",
      " 0.00556625 0.41931332 0.15038701 0.00657674]\n",
      "(10,)\n",
      "[0.05884891 0.00370063 0.14024275 0.00855677 0.01787227 0.19759387\n",
      " 0.00479336 0.44164214 0.12066282 0.00608648]\n",
      "(10,)\n",
      "[0.03726725 0.00329448 0.1620393  0.00859784 0.05132903 0.30761459\n",
      " 0.00434063 0.08218514 0.33752419 0.00580755]\n",
      "(10,)\n",
      "[0.04602631 0.00185041 0.13740361 0.00841203 0.05101059 0.28541893\n",
      " 0.00450494 0.27807461 0.18155092 0.00574765]\n",
      "(10,)\n",
      "[0.044799   0.00172575 0.2811312  0.01029155 0.16204505 0.0784765\n",
      " 0.00529836 0.06415802 0.34638392 0.00569065]\n",
      "(10,)\n",
      "[0.03877002 0.0016982  0.32322465 0.01046949 0.15171497 0.02477983\n",
      " 0.0053276  0.23415424 0.20414152 0.0057195 ]\n",
      "(10,)\n",
      "[0.03319025 0.00118393 0.33261322 0.01149832 0.15253208 0.00188572\n",
      " 0.00546203 0.29734388 0.15844281 0.00584777]\n",
      "(10,)\n",
      "[0.02728267 0.00156694 0.32315903 0.00961888 0.22031488 0.00158102\n",
      " 0.00510107 0.09860716 0.30682508 0.00594328]\n",
      "(10,)\n",
      "[0.02236318 0.00098939 0.39871681 0.0086692  0.28441536 0.00181951\n",
      " 0.00488732 0.25190594 0.02040126 0.00583203]\n",
      "(10,)\n",
      "[0.01975619 0.0013337  0.36086402 0.00849659 0.27217027 0.00169893\n",
      " 0.0049278  0.26335959 0.06160944 0.00578347]\n",
      "(10,)\n",
      "[0.01693889 0.00370389 0.33892886 0.00834023 0.26339447 0.00051897\n",
      " 0.00488882 0.26766876 0.08999552 0.00562159]\n",
      "(10,)\n",
      "[0.01452564 0.00404281 0.32414007 0.00775147 0.25912913 0.00121295\n",
      " 0.00478251 0.26951421 0.10933011 0.00557109]\n",
      "(10,)\n",
      "[0.01287059 0.00469631 0.3070214  0.00691251 0.27762469 0.00096157\n",
      " 0.00468958 0.26682731 0.11291439 0.00548165]\n",
      "(10,)\n",
      "[0.01165027 0.00484341 0.38789613 0.00630274 0.04014554 0.00124442\n",
      " 0.00454577 0.28764917 0.25026733 0.00545523]\n",
      "(10,)\n",
      "[0.01140706 0.00543882 0.33501644 0.00617038 0.10663604 0.00121147\n",
      " 0.00454608 0.28502359 0.239094   0.00545611]\n",
      "(10,)\n",
      "[0.01096592 0.00871757 0.31206831 0.00605761 0.14067166 0.00128433\n",
      " 0.00446005 0.28082078 0.22975285 0.00520092]\n",
      "(10,)\n",
      "[0.01051113 0.01828216 0.38533597 0.00602629 0.25772826 0.0013343\n",
      " 0.00437099 0.28462398 0.02675127 0.00503562]\n",
      "(10,)\n",
      "[0.01063121 0.02787114 0.32819723 0.00595528 0.26055153 0.00136213\n",
      " 0.004371   0.28017045 0.07617193 0.0047181 ]\n",
      "(10,)\n",
      "[0.01030677 0.03745726 0.30180168 0.00579692 0.25538133 0.00167572\n",
      " 0.00432715 0.27603894 0.10264321 0.00457102]\n",
      "(10,)\n",
      "[0.00977638 0.04593838 0.27909228 0.0056117  0.27262627 0.00169447\n",
      " 0.00427153 0.26905024 0.10734263 0.00459612]\n",
      "(10,)\n",
      "[0.00918294 0.05483539 0.35969398 0.00545256 0.03007354 0.00091141\n",
      " 0.00417151 0.28713466 0.24407313 0.00447089]\n",
      "(10,)\n",
      "[0.00929632 0.06272117 0.30753649 0.00532185 0.09218505 0.00133475\n",
      " 0.00421831 0.28421574 0.22888356 0.00428678]\n",
      "(10,)\n",
      "[0.00900451 0.06836258 0.28580401 0.00537505 0.1224126  0.0011825\n",
      " 0.00421341 0.27970527 0.21975549 0.00418458]\n",
      "(10,)\n",
      "[0.0085543  0.10718956 0.34041523 0.00536463 0.23131817 0.0013343\n",
      " 0.00419651 0.28294228 0.01443969 0.00424532]\n",
      "(10,)\n",
      "[0.00850607 0.10198378 0.29986126 0.00537048 0.23814577 0.0017148\n",
      " 0.00420448 0.27888652 0.05710947 0.00421738]\n",
      "(10,)\n",
      "[0.00814697 0.09606269 0.28242643 0.00541905 0.23814359 0.00178409\n",
      " 0.00417996 0.27466387 0.08501983 0.00415353]\n"
     ]
    }
   ],
   "source": [
    "gmm2 = GMM(10, 30, 30)\n",
    "gmm2.fit(X2)"
   ]
  },
  {
   "cell_type": "code",
   "execution_count": 25,
   "metadata": {},
   "outputs": [
    {
     "data": {
      "application/vnd.jupyter.widget-view+json": {
       "model_id": "94e1b596a62746a1b981b414b3b67260",
       "version_major": 2,
       "version_minor": 0
      },
      "text/plain": [
       "K MEANS CLUSTERING: k=10:   0%|          | 0/30 [00:00<?, ?it/s]"
      ]
     },
     "metadata": {},
     "output_type": "display_data"
    },
    {
     "data": {
      "image/png": "[encoded data removed]",
      "text/plain": [
       "<Figure size 720x504 with 1 Axes>"
      ]
     },
     "metadata": {
      "needs_background": "light"
     },
     "output_type": "display_data"
    },
    {
     "data": {
      "application/vnd.jupyter.widget-view+json": {
       "model_id": "cd26202f2529461d8fefbdcd734e71ed",
       "version_major": 2,
       "version_minor": 0
      },
      "text/plain": [
       "GMM (EM): k=10:   0%|          | 0/30 [00:00<?, ?it/s]"
      ]
     },
     "metadata": {},
     "output_type": "display_data"
    },
    {
     "name": "stdout",
     "output_type": "stream",
     "text": [
      "(10,)\n",
      "[0.02863404 0.1512164  0.097744   0.00995999 0.13316365 0.16347688\n",
      " 0.02842886 0.1737948  0.18716084 0.02642054]\n",
      "(10,)\n",
      "[0.05927774 0.10860446 0.10982743 0.0157811  0.10630403 0.09945199\n",
      " 0.01472206 0.24667161 0.21405333 0.02530625]\n",
      "(10,)\n",
      "[0.043849   0.12132711 0.1220886  0.01119846 0.10290343 0.10486707\n",
      " 0.01096829 0.26020203 0.20655531 0.01604071]\n",
      "(10,)\n",
      "[0.06709594 0.00970368 0.14019828 0.0099104  0.16663874 0.13719618\n",
      " 0.00698293 0.29752484 0.15680641 0.00794259]\n",
      "(10,)\n",
      "[0.04545493 0.00456504 0.15306321 0.00993733 0.0060233  0.19911287\n",
      " 0.00556625 0.41931332 0.15038701 0.00657674]\n",
      "(10,)\n",
      "[0.05884891 0.00370063 0.14024275 0.00855677 0.01787227 0.19759387\n",
      " 0.00479336 0.44164214 0.12066282 0.00608648]\n",
      "(10,)\n",
      "[0.03726725 0.00329448 0.1620393  0.00859784 0.05132903 0.30761459\n",
      " 0.00434063 0.08218514 0.33752419 0.00580755]\n",
      "(10,)\n",
      "[0.04602631 0.00185041 0.13740361 0.00841203 0.05101059 0.28541893\n",
      " 0.00450494 0.27807461 0.18155092 0.00574765]\n",
      "(10,)\n",
      "[0.044799   0.00172575 0.2811312  0.01029155 0.16204505 0.0784765\n",
      " 0.00529836 0.06415802 0.34638392 0.00569065]\n",
      "(10,)\n",
      "[0.03877002 0.0016982  0.32322465 0.01046949 0.15171497 0.02477983\n",
      " 0.0053276  0.23415424 0.20414152 0.0057195 ]\n",
      "(10,)\n",
      "[0.03319025 0.00118393 0.33261322 0.01149832 0.15253208 0.00188572\n",
      " 0.00546203 0.29734388 0.15844281 0.00584777]\n",
      "(10,)\n",
      "[0.02728267 0.00156694 0.32315903 0.00961888 0.22031488 0.00158102\n",
      " 0.00510107 0.09860716 0.30682508 0.00594328]\n",
      "(10,)\n",
      "[0.02236318 0.00098939 0.39871681 0.0086692  0.28441536 0.00181951\n",
      " 0.00488732 0.25190594 0.02040126 0.00583203]\n",
      "(10,)\n",
      "[0.01975619 0.0013337  0.36086402 0.00849659 0.27217027 0.00169893\n",
      " 0.0049278  0.26335959 0.06160944 0.00578347]\n",
      "(10,)\n",
      "[0.01693889 0.00370389 0.33892886 0.00834023 0.26339447 0.00051897\n",
      " 0.00488882 0.26766876 0.08999552 0.00562159]\n",
      "(10,)\n",
      "[0.01452564 0.00404281 0.32414007 0.00775147 0.25912913 0.00121295\n",
      " 0.00478251 0.26951421 0.10933011 0.00557109]\n",
      "(10,)\n",
      "[0.01287059 0.00469631 0.3070214  0.00691251 0.27762469 0.00096157\n",
      " 0.00468958 0.26682731 0.11291439 0.00548165]\n",
      "(10,)\n",
      "[0.01165027 0.00484341 0.38789613 0.00630274 0.04014554 0.00124442\n",
      " 0.00454577 0.28764917 0.25026733 0.00545523]\n",
      "(10,)\n",
      "[0.01140706 0.00543882 0.33501644 0.00617038 0.10663604 0.00121147\n",
      " 0.00454608 0.28502359 0.239094   0.00545611]\n",
      "(10,)\n",
      "[0.01096592 0.00871757 0.31206831 0.00605761 0.14067166 0.00128433\n",
      " 0.00446005 0.28082078 0.22975285 0.00520092]\n",
      "(10,)\n",
      "[0.01051113 0.01828216 0.38533597 0.00602629 0.25772826 0.0013343\n",
      " 0.00437099 0.28462398 0.02675127 0.00503562]\n",
      "(10,)\n",
      "[0.01063121 0.02787114 0.32819723 0.00595528 0.26055153 0.00136213\n",
      " 0.004371   0.28017045 0.07617193 0.0047181 ]\n",
      "(10,)\n",
      "[0.01030677 0.03745726 0.30180168 0.00579692 0.25538133 0.00167572\n",
      " 0.00432715 0.27603894 0.10264321 0.00457102]\n",
      "(10,)\n",
      "[0.00977638 0.04593838 0.27909228 0.0056117  0.27262627 0.00169447\n",
      " 0.00427153 0.26905024 0.10734263 0.00459612]\n",
      "(10,)\n",
      "[0.00918294 0.05483539 0.35969398 0.00545256 0.03007354 0.00091141\n",
      " 0.00417151 0.28713466 0.24407313 0.00447089]\n",
      "(10,)\n",
      "[0.00929632 0.06272117 0.30753649 0.00532185 0.09218505 0.00133475\n",
      " 0.00421831 0.28421574 0.22888356 0.00428678]\n",
      "(10,)\n",
      "[0.00900451 0.06836258 0.28580401 0.00537505 0.1224126  0.0011825\n",
      " 0.00421341 0.27970527 0.21975549 0.00418458]\n",
      "(10,)\n",
      "[0.0085543  0.10718956 0.34041523 0.00536463 0.23131817 0.0013343\n",
      " 0.00419651 0.28294228 0.01443969 0.00424532]\n",
      "(10,)\n",
      "[0.00850607 0.10198378 0.29986126 0.00537048 0.23814577 0.0017148\n",
      " 0.00420448 0.27888652 0.05710947 0.00421738]\n",
      "(10,)\n",
      "[0.00814697 0.09606269 0.28242643 0.00541905 0.23814359 0.00178409\n",
      " 0.00417996 0.27466387 0.08501983 0.00415353]\n"
     ]
    }
   ],
   "source": [
    "gmm3 = GMM(10, 30, 30)\n",
    "gmm3.fit(X2)"
   ]
  },
  {
   "cell_type": "code",
   "execution_count": 26,
   "metadata": {},
   "outputs": [
    {
     "data": {
      "application/vnd.jupyter.widget-view+json": {
       "model_id": "4230445ca8e5429eb9742e793b5b01c2",
       "version_major": 2,
       "version_minor": 0
      },
      "text/plain": [
       "K MEANS CLUSTERING: k=10:   0%|          | 0/30 [00:00<?, ?it/s]"
      ]
     },
     "metadata": {},
     "output_type": "display_data"
    },
    {
     "data": {
      "image/png": "[encoded data removed]",
      "text/plain": [
       "<Figure size 720x504 with 1 Axes>"
      ]
     },
     "metadata": {
      "needs_background": "light"
     },
     "output_type": "display_data"
    },
    {
     "data": {
      "application/vnd.jupyter.widget-view+json": {
       "model_id": "99126dbf482f47c691f91c6d3e5927e6",
       "version_major": 2,
       "version_minor": 0
      },
      "text/plain": [
       "GMM (EM): k=10:   0%|          | 0/30 [00:00<?, ?it/s]"
      ]
     },
     "metadata": {},
     "output_type": "display_data"
    },
    {
     "name": "stdout",
     "output_type": "stream",
     "text": [
      "(10,)\n",
      "[0.02863404 0.1512164  0.097744   0.00995999 0.13316365 0.16347688\n",
      " 0.02842886 0.1737948  0.18716084 0.02642054]\n",
      "(10,)\n",
      "[0.05927774 0.10860446 0.10982743 0.0157811  0.10630403 0.09945199\n",
      " 0.01472206 0.24667161 0.21405333 0.02530625]\n",
      "(10,)\n",
      "[0.043849   0.12132711 0.1220886  0.01119846 0.10290343 0.10486707\n",
      " 0.01096829 0.26020203 0.20655531 0.01604071]\n",
      "(10,)\n",
      "[0.06709594 0.00970368 0.14019828 0.0099104  0.16663874 0.13719618\n",
      " 0.00698293 0.29752484 0.15680641 0.00794259]\n",
      "(10,)\n",
      "[0.04545493 0.00456504 0.15306321 0.00993733 0.0060233  0.19911287\n",
      " 0.00556625 0.41931332 0.15038701 0.00657674]\n",
      "(10,)\n",
      "[0.05884891 0.00370063 0.14024275 0.00855677 0.01787227 0.19759387\n",
      " 0.00479336 0.44164214 0.12066282 0.00608648]\n",
      "(10,)\n",
      "[0.03726725 0.00329448 0.1620393  0.00859784 0.05132903 0.30761459\n",
      " 0.00434063 0.08218514 0.33752419 0.00580755]\n",
      "(10,)\n",
      "[0.04602631 0.00185041 0.13740361 0.00841203 0.05101059 0.28541893\n",
      " 0.00450494 0.27807461 0.18155092 0.00574765]\n",
      "(10,)\n",
      "[0.044799   0.00172575 0.2811312  0.01029155 0.16204505 0.0784765\n",
      " 0.00529836 0.06415802 0.34638392 0.00569065]\n",
      "(10,)\n",
      "[0.03877002 0.0016982  0.32322465 0.01046949 0.15171497 0.02477983\n",
      " 0.0053276  0.23415424 0.20414152 0.0057195 ]\n",
      "(10,)\n",
      "[0.03319025 0.00118393 0.33261322 0.01149832 0.15253208 0.00188572\n",
      " 0.00546203 0.29734388 0.15844281 0.00584777]\n",
      "(10,)\n",
      "[0.02728267 0.00156694 0.32315903 0.00961888 0.22031488 0.00158102\n",
      " 0.00510107 0.09860716 0.30682508 0.00594328]\n",
      "(10,)\n",
      "[0.02236318 0.00098939 0.39871681 0.0086692  0.28441536 0.00181951\n",
      " 0.00488732 0.25190594 0.02040126 0.00583203]\n",
      "(10,)\n",
      "[0.01975619 0.0013337  0.36086402 0.00849659 0.27217027 0.00169893\n",
      " 0.0049278  0.26335959 0.06160944 0.00578347]\n",
      "(10,)\n",
      "[0.01693889 0.00370389 0.33892886 0.00834023 0.26339447 0.00051897\n",
      " 0.00488882 0.26766876 0.08999552 0.00562159]\n",
      "(10,)\n",
      "[0.01452564 0.00404281 0.32414007 0.00775147 0.25912913 0.00121295\n",
      " 0.00478251 0.26951421 0.10933011 0.00557109]\n",
      "(10,)\n",
      "[0.01287059 0.00469631 0.3070214  0.00691251 0.27762469 0.00096157\n",
      " 0.00468958 0.26682731 0.11291439 0.00548165]\n",
      "(10,)\n",
      "[0.01165027 0.00484341 0.38789613 0.00630274 0.04014554 0.00124442\n",
      " 0.00454577 0.28764917 0.25026733 0.00545523]\n",
      "(10,)\n",
      "[0.01140706 0.00543882 0.33501644 0.00617038 0.10663604 0.00121147\n",
      " 0.00454608 0.28502359 0.239094   0.00545611]\n",
      "(10,)\n",
      "[0.01096592 0.00871757 0.31206831 0.00605761 0.14067166 0.00128433\n",
      " 0.00446005 0.28082078 0.22975285 0.00520092]\n",
      "(10,)\n",
      "[0.01051113 0.01828216 0.38533597 0.00602629 0.25772826 0.0013343\n",
      " 0.00437099 0.28462398 0.02675127 0.00503562]\n",
      "(10,)\n",
      "[0.01063121 0.02787114 0.32819723 0.00595528 0.26055153 0.00136213\n",
      " 0.004371   0.28017045 0.07617193 0.0047181 ]\n",
      "(10,)\n",
      "[0.01030677 0.03745726 0.30180168 0.00579692 0.25538133 0.00167572\n",
      " 0.00432715 0.27603894 0.10264321 0.00457102]\n",
      "(10,)\n",
      "[0.00977638 0.04593838 0.27909228 0.0056117  0.27262627 0.00169447\n",
      " 0.00427153 0.26905024 0.10734263 0.00459612]\n",
      "(10,)\n",
      "[0.00918294 0.05483539 0.35969398 0.00545256 0.03007354 0.00091141\n",
      " 0.00417151 0.28713466 0.24407313 0.00447089]\n",
      "(10,)\n",
      "[0.00929632 0.06272117 0.30753649 0.00532185 0.09218505 0.00133475\n",
      " 0.00421831 0.28421574 0.22888356 0.00428678]\n",
      "(10,)\n",
      "[0.00900451 0.06836258 0.28580401 0.00537505 0.1224126  0.0011825\n",
      " 0.00421341 0.27970527 0.21975549 0.00418458]\n",
      "(10,)\n",
      "[0.0085543  0.10718956 0.34041523 0.00536463 0.23131817 0.0013343\n",
      " 0.00419651 0.28294228 0.01443969 0.00424532]\n",
      "(10,)\n",
      "[0.00850607 0.10198378 0.29986126 0.00537048 0.23814577 0.0017148\n",
      " 0.00420448 0.27888652 0.05710947 0.00421738]\n",
      "(10,)\n",
      "[0.00814697 0.09606269 0.28242643 0.00541905 0.23814359 0.00178409\n",
      " 0.00417996 0.27466387 0.08501983 0.00415353]\n"
     ]
    }
   ],
   "source": [
    "gmm4 = GMM(10, 30, 30)\n",
    "gmm4.fit(X2)"
   ]
  },
  {
   "cell_type": "code",
   "execution_count": 27,
   "metadata": {},
   "outputs": [
    {
     "data": {
      "application/vnd.jupyter.widget-view+json": {
       "model_id": "0690476afc1a4a2ead96db81c476f81a",
       "version_major": 2,
       "version_minor": 0
      },
      "text/plain": [
       "K MEANS CLUSTERING: k=10:   0%|          | 0/30 [00:00<?, ?it/s]"
      ]
     },
     "metadata": {},
     "output_type": "display_data"
    },
    {
     "data": {
      "image/png": "[encoded data removed]",
      "text/plain": [
       "<Figure size 720x504 with 1 Axes>"
      ]
     },
     "metadata": {
      "needs_background": "light"
     },
     "output_type": "display_data"
    },
    {
     "data": {
      "application/vnd.jupyter.widget-view+json": {
       "model_id": "c5ae514ddd1a4e7a8848e03e896e10c3",
       "version_major": 2,
       "version_minor": 0
      },
      "text/plain": [
       "GMM (EM): k=10:   0%|          | 0/30 [00:00<?, ?it/s]"
      ]
     },
     "metadata": {},
     "output_type": "display_data"
    },
    {
     "name": "stdout",
     "output_type": "stream",
     "text": [
      "(10,)\n",
      "[0.02863404 0.1512164  0.097744   0.00995999 0.13316365 0.16347688\n",
      " 0.02842886 0.1737948  0.18716084 0.02642054]\n",
      "(10,)\n",
      "[0.05927774 0.10860446 0.10982743 0.0157811  0.10630403 0.09945199\n",
      " 0.01472206 0.24667161 0.21405333 0.02530625]\n",
      "(10,)\n",
      "[0.043849   0.12132711 0.1220886  0.01119846 0.10290343 0.10486707\n",
      " 0.01096829 0.26020203 0.20655531 0.01604071]\n",
      "(10,)\n",
      "[0.06709594 0.00970368 0.14019828 0.0099104  0.16663874 0.13719618\n",
      " 0.00698293 0.29752484 0.15680641 0.00794259]\n",
      "(10,)\n",
      "[0.04545493 0.00456504 0.15306321 0.00993733 0.0060233  0.19911287\n",
      " 0.00556625 0.41931332 0.15038701 0.00657674]\n",
      "(10,)\n",
      "[0.05884891 0.00370063 0.14024275 0.00855677 0.01787227 0.19759387\n",
      " 0.00479336 0.44164214 0.12066282 0.00608648]\n",
      "(10,)\n",
      "[0.03726725 0.00329448 0.1620393  0.00859784 0.05132903 0.30761459\n",
      " 0.00434063 0.08218514 0.33752419 0.00580755]\n",
      "(10,)\n",
      "[0.04602631 0.00185041 0.13740361 0.00841203 0.05101059 0.28541893\n",
      " 0.00450494 0.27807461 0.18155092 0.00574765]\n",
      "(10,)\n",
      "[0.044799   0.00172575 0.2811312  0.01029155 0.16204505 0.0784765\n",
      " 0.00529836 0.06415802 0.34638392 0.00569065]\n",
      "(10,)\n",
      "[0.03877002 0.0016982  0.32322465 0.01046949 0.15171497 0.02477983\n",
      " 0.0053276  0.23415424 0.20414152 0.0057195 ]\n",
      "(10,)\n",
      "[0.03319025 0.00118393 0.33261322 0.01149832 0.15253208 0.00188572\n",
      " 0.00546203 0.29734388 0.15844281 0.00584777]\n",
      "(10,)\n",
      "[0.02728267 0.00156694 0.32315903 0.00961888 0.22031488 0.00158102\n",
      " 0.00510107 0.09860716 0.30682508 0.00594328]\n",
      "(10,)\n",
      "[0.02236318 0.00098939 0.39871681 0.0086692  0.28441536 0.00181951\n",
      " 0.00488732 0.25190594 0.02040126 0.00583203]\n",
      "(10,)\n",
      "[0.01975619 0.0013337  0.36086402 0.00849659 0.27217027 0.00169893\n",
      " 0.0049278  0.26335959 0.06160944 0.00578347]\n",
      "(10,)\n",
      "[0.01693889 0.00370389 0.33892886 0.00834023 0.26339447 0.00051897\n",
      " 0.00488882 0.26766876 0.08999552 0.00562159]\n",
      "(10,)\n",
      "[0.01452564 0.00404281 0.32414007 0.00775147 0.25912913 0.00121295\n",
      " 0.00478251 0.26951421 0.10933011 0.00557109]\n",
      "(10,)\n",
      "[0.01287059 0.00469631 0.3070214  0.00691251 0.27762469 0.00096157\n",
      " 0.00468958 0.26682731 0.11291439 0.00548165]\n",
      "(10,)\n",
      "[0.01165027 0.00484341 0.38789613 0.00630274 0.04014554 0.00124442\n",
      " 0.00454577 0.28764917 0.25026733 0.00545523]\n",
      "(10,)\n",
      "[0.01140706 0.00543882 0.33501644 0.00617038 0.10663604 0.00121147\n",
      " 0.00454608 0.28502359 0.239094   0.00545611]\n",
      "(10,)\n",
      "[0.01096592 0.00871757 0.31206831 0.00605761 0.14067166 0.00128433\n",
      " 0.00446005 0.28082078 0.22975285 0.00520092]\n",
      "(10,)\n",
      "[0.01051113 0.01828216 0.38533597 0.00602629 0.25772826 0.0013343\n",
      " 0.00437099 0.28462398 0.02675127 0.00503562]\n",
      "(10,)\n",
      "[0.01063121 0.02787114 0.32819723 0.00595528 0.26055153 0.00136213\n",
      " 0.004371   0.28017045 0.07617193 0.0047181 ]\n",
      "(10,)\n",
      "[0.01030677 0.03745726 0.30180168 0.00579692 0.25538133 0.00167572\n",
      " 0.00432715 0.27603894 0.10264321 0.00457102]\n",
      "(10,)\n",
      "[0.00977638 0.04593838 0.27909228 0.0056117  0.27262627 0.00169447\n",
      " 0.00427153 0.26905024 0.10734263 0.00459612]\n",
      "(10,)\n",
      "[0.00918294 0.05483539 0.35969398 0.00545256 0.03007354 0.00091141\n",
      " 0.00417151 0.28713466 0.24407313 0.00447089]\n",
      "(10,)\n",
      "[0.00929632 0.06272117 0.30753649 0.00532185 0.09218505 0.00133475\n",
      " 0.00421831 0.28421574 0.22888356 0.00428678]\n",
      "(10,)\n",
      "[0.00900451 0.06836258 0.28580401 0.00537505 0.1224126  0.0011825\n",
      " 0.00421341 0.27970527 0.21975549 0.00418458]\n",
      "(10,)\n",
      "[0.0085543  0.10718956 0.34041523 0.00536463 0.23131817 0.0013343\n",
      " 0.00419651 0.28294228 0.01443969 0.00424532]\n",
      "(10,)\n",
      "[0.00850607 0.10198378 0.29986126 0.00537048 0.23814577 0.0017148\n",
      " 0.00420448 0.27888652 0.05710947 0.00421738]\n",
      "(10,)\n",
      "[0.00814697 0.09606269 0.28242643 0.00541905 0.23814359 0.00178409\n",
      " 0.00417996 0.27466387 0.08501983 0.00415353]\n"
     ]
    }
   ],
   "source": [
    "gmm5 = GMM(10, 30, 30)\n",
    "gmm5.fit(X2)"
   ]
  },
  {
   "cell_type": "code",
   "execution_count": 31,
   "metadata": {},
   "outputs": [],
   "source": [
    "# import numpy as np\n",
    "# from sklearn.mixture import GaussianMixture\n",
    "# # Suppose Data X is a 2-D Numpy array (One apple has two features, size and flavor)\n",
    "# gmm1 = GaussianMixture(n_components=4, random_state=0).fit(X1)\n",
    "# gmm2 = GaussianMixture(n_components=4, random_state=0).fit(X2)\n",
    "# gmm3 = GaussianMixture(n_components=4, random_state=0).fit(X3)\n",
    "# gmm4 = GaussianMixture(n_components=4, random_state=0).fit(X4)\n",
    "# gmm5 = GaussianMixture(n_components=4, random_state=0).fit(X5)"
   ]
  },
  {
   "cell_type": "code",
   "execution_count": 28,
   "metadata": {},
   "outputs": [
    {
     "name": "stdout",
     "output_type": "stream",
     "text": [
      "(12528, 23)\n"
     ]
    }
   ],
   "source": [
    "X_dev = []\n",
    "Y_dev = []\n",
    "classes = os.listdir(\"Features/\")\n",
    "for i in range(len(classes)):\n",
    "    _class = classes[i]\n",
    "    inputfiles = os.listdir(\"Features/\"+_class+\"/dev/\")\n",
    "    for inputfile in inputfiles:\n",
    "        with open(\"Features/\"+_class+\"/dev/\" + inputfile) as f:\n",
    "            reader = np.genfromtxt(f, delimiter=\" \")\n",
    "            for row in reader:\n",
    "                X_dev.append(row)\n",
    "                Y_dev.append(i)\n",
    "                \n",
    "df = pd.DataFrame(X_dev)\n",
    "df_norm = (df-df.mean())/(df.std())\n",
    "X_dev = df_norm.to_numpy()\n",
    "print(X_dev.shape)"
   ]
  },
  {
   "cell_type": "code",
   "execution_count": 29,
   "metadata": {},
   "outputs": [],
   "source": [
    "post1 = lambda x: gmm1.score(x)\n",
    "post2 = lambda x: gmm2.score(x)\n",
    "post3 = lambda x: gmm3.score(x)\n",
    "post4 = lambda x: gmm4.score(x)\n",
    "post5 = lambda x: gmm5.score(x)\n",
    "classifier = lambda x : np.argmax([post1(x),post2(x),post3(x),post4(x),post5(x)])"
   ]
  },
  {
   "cell_type": "code",
   "execution_count": 44,
   "metadata": {},
   "outputs": [],
   "source": [
    "# construct a meshgrid using _range. N = no of sampling points(common for both x1, x2 intervals)\n",
    "# returns the meshgrid(X1, X2) and Z = result of applying the 3 pdfs(pdf1 with mean mus[0], \n",
    "# covariance covs[0] and so on) on the meshgrid\n",
    "def GridHelper(_range,N,mus,covs):\n",
    "    X1 = np.linspace(_range[0][0], _range[0][1], N)\n",
    "    X2 = np.linspace(_range[1][0], _range[1][1], N)\n",
    "    X1, X2 = np.meshgrid(X1, X2)\n",
    "\n",
    "    _input = np.empty((N,N,2))\n",
    "    _input[:,:,0] = X1\n",
    "    _input[:,:,1] = X2\n",
    "\n",
    "    return (X1,X2,_input)"
   ]
  },
  {
   "cell_type": "code",
   "execution_count": 45,
   "metadata": {},
   "outputs": [],
   "source": [
    "# main plotting function\n",
    "import matplotlib.colors as mcol\n",
    "from tqdm.notebook import tqdm_notebook as tqdm\n",
    "def DecisionBoundaryPlotter(_range,mus,covs,data,truth,classifier):\n",
    "\n",
    "    fig, ax = plt.subplots(figsize=(10, 10))\n",
    "\n",
    "    # construct grid and apply the three gaussians on it\n",
    "    print(\"Making Grid...\")\n",
    "    X1, X2, _input = GridHelper(_range,100,mus,covs)\n",
    "    print(\"Done.\")\n",
    "\n",
    "    # plot contours\n",
    "    gmm1.plot_contour(fig,ax,_range,_input,'red')\n",
    "    gmm2.plot_contour(fig,ax,_range,_input,'pink')\n",
    "\n",
    "    # code to apply classifier function to each point on grid and use the result to plot \n",
    "    # decision regions\n",
    "    _x1, _x2 = X1.flatten(), X2.flatten()\n",
    "    surf = np.empty(_x1.shape)\n",
    "    print(\"Evaluating classifier for \", _x1.size, \" points...\")\n",
    "    for i in tqdm(range(0,_x1.size)):\n",
    "        surf[i] = classifier([_x1[i],_x2[i]])\n",
    "    print(\"Done.\")\n",
    "    surf = surf.reshape(X1.shape)\n",
    "    ax.contourf(X1, X2, surf,cmap = mcol.ListedColormap(['orange', 'violet']))\n",
    "\n",
    "    # code to plot the dev vectors labeled by their true class\n",
    "    c1x1, c1x2 = [], []\n",
    "    c2x1, c2x2 = [], []\n",
    "    _sz = len(data)\n",
    "    for i in range(0,_sz):\n",
    "        if truth[i] == 1:\n",
    "            c1x1.append(data[i][0]), c1x2.append(data[i][1])\n",
    "        elif truth[i] == 2:\n",
    "            c2x1.append(data[i][0]), c2x2.append(data[i][1])\n",
    "    print(\"Plotting dev data points...\")\n",
    "    ax.scatter(c1x1, c1x2, edgecolors='yellow',label='Class 1 data',s=20,facecolors='none')\n",
    "    ax.scatter(c2x1, c2x2, edgecolors='blue',label='Class 2 data',s=20,facecolors='none')\n",
    "    print(\"Done.\")\n",
    "\n",
    "    # code to label axes and save the plot\n",
    "    ax.set_xlabel('x1')\n",
    "    ax.set_ylabel('x2')\n",
    "    ax.set_title('Decision Boundary Diagram')\n",
    "    ax.legend()\n",
    "    plt.show()"
   ]
  },
  {
   "cell_type": "code",
   "execution_count": null,
   "metadata": {},
   "outputs": [
    {
     "name": "stdout",
     "output_type": "stream",
     "text": [
      "Making Grid...\n",
      "Done.\n",
      "Plotting contours...\n"
     ]
    },
    {
     "data": {
      "application/vnd.jupyter.widget-view+json": {
       "model_id": "29532985e2dc43f8b24e8110a6eb41bd",
       "version_major": 2,
       "version_minor": 0
      },
      "text/plain": [
       "  0%|          | 0/14 [00:00<?, ?it/s]"
      ]
     },
     "metadata": {},
     "output_type": "display_data"
    },
    {
     "name": "stdout",
     "output_type": "stream",
     "text": [
      "Done\n",
      "Plotting contours...\n"
     ]
    },
    {
     "data": {
      "application/vnd.jupyter.widget-view+json": {
       "model_id": "38ad68e1dfb941a89526fd7291e5ed66",
       "version_major": 2,
       "version_minor": 0
      },
      "text/plain": [
       "  0%|          | 0/16 [00:00<?, ?it/s]"
      ]
     },
     "metadata": {},
     "output_type": "display_data"
    },
    {
     "name": "stdout",
     "output_type": "stream",
     "text": [
      "Done\n",
      "Evaluating classifier for  10000  points...\n"
     ]
    },
    {
     "data": {
      "application/vnd.jupyter.widget-view+json": {
       "model_id": "7d520bb012fa458cb4988094aeb6427d",
       "version_major": 2,
       "version_minor": 0
      },
      "text/plain": [
       "  0%|          | 0/10000 [00:00<?, ?it/s]"
      ]
     },
     "metadata": {},
     "output_type": "display_data"
    },
    {
     "name": "stdout",
     "output_type": "stream",
     "text": [
      "Done.\n",
      "Plotting dev data points...\n",
      "Done.\n"
     ]
    },
    {
     "data": {
      "image/png": "[encoded data removed]",
      "text/plain": [
       "<Figure size 720x720 with 1 Axes>"
      ]
     },
     "metadata": {},
     "output_type": "display_data"
    }
   ],
   "source": [
    "DecisionBoundaryPlotter([[-16,-2],[-7,8]], [gmm1.mu,gmm2.mu], [gmm1.sigma,gmm2.sigma], X_dev, Y_dev, classifier=classifier)"
   ]
  },
  {
   "cell_type": "code",
   "execution_count": null,
   "metadata": {},
   "outputs": [],
   "source": [
    "def measure_accuracy_syn(gmm1: GMM, gmm2: GMM, X_dev,Y_dev):\n",
    "    accuracy = 0.\n",
    "    for i in range(len(X_dev)):\n",
    "        x = X_dev[i]\n",
    "        s1 = gmm1.score(x)\n",
    "        s2 = gmm2.score(x)\n",
    "        if(s1 > s2):\n",
    "            if(Y_dev[i] == 1):\n",
    "                accuracy += 1\n",
    "            else:\n",
    "                accuracy -= 1\n",
    "        elif(s2 > s1):\n",
    "            if(Y_dev[i] == 2):\n",
    "                accuracy += 1\n",
    "            else:\n",
    "                accuracy -= 1\n",
    "        else:\n",
    "            print(\"Ambigious point\")\n",
    "            # random\n",
    "            r = np.random.randint(1,3)\n",
    "            if(r == Y_dev[i]):\n",
    "                accuracy += 1\n",
    "            else:\n",
    "                accuracy -= 1\n",
    "    accuracy *= 100/len(X_dev)\n",
    "    return accuracy"
   ]
  },
  {
   "cell_type": "code",
   "execution_count": 30,
   "metadata": {},
   "outputs": [],
   "source": [
    "def measure_accuracy(classifier, X_dev,Y_dev):\n",
    "    accuracy = 0.\n",
    "    for i in tqdm(range(len(X_dev))):\n",
    "        x = X_dev[i]\n",
    "        pred = classifier(x)\n",
    "        if(pred == Y_dev[i]):\n",
    "            accuracy += 1\n",
    "    accuracy *= 100/len(X_dev)\n",
    "    return accuracy"
   ]
  },
  {
   "cell_type": "code",
   "execution_count": 31,
   "metadata": {},
   "outputs": [
    {
     "data": {
      "application/vnd.jupyter.widget-view+json": {
       "model_id": "8faa5e7e4ae7468e9fcb3c2f8736a0e1",
       "version_major": 2,
       "version_minor": 0
      },
      "text/plain": [
       "  0%|          | 0/12528 [00:00<?, ?it/s]"
      ]
     },
     "metadata": {},
     "output_type": "display_data"
    },
    {
     "name": "stderr",
     "output_type": "stream",
     "text": [
      "C:\\Users\\Vedant\\AppData\\Local\\Temp\\ipykernel_33712\\29434629.py:39: RuntimeWarning: overflow encountered in exp\n",
      "  rs = norm_factor*np.exp(-0.5*x_mu*np.linalg.inv(sigma)*x_mu.T)\n"
     ]
    },
    {
     "name": "stdout",
     "output_type": "stream",
     "text": [
      "20.98499361430396\n"
     ]
    }
   ],
   "source": [
    "# print(measure_accuracy(classifier, X, Y))\n",
    "print(measure_accuracy(classifier, X_dev, Y_dev))"
   ]
  },
  {
   "cell_type": "code",
   "execution_count": 32,
   "metadata": {},
   "outputs": [
    {
     "data": {
      "application/vnd.jupyter.widget-view+json": {
       "model_id": "e9c976112f0f42b6beba7802ec14ed4d",
       "version_major": 2,
       "version_minor": 0
      },
      "text/plain": [
       "  0%|          | 0/12528 [00:00<?, ?it/s]"
      ]
     },
     "metadata": {},
     "output_type": "display_data"
    },
    {
     "name": "stderr",
     "output_type": "stream",
     "text": [
      "C:\\Users\\Vedant\\AppData\\Local\\Temp\\ipykernel_33712\\29434629.py:39: RuntimeWarning: overflow encountered in exp\n",
      "  rs = norm_factor*np.exp(-0.5*x_mu*np.linalg.inv(sigma)*x_mu.T)\n"
     ]
    },
    {
     "name": "stdout",
     "output_type": "stream",
     "text": [
      "[[2370  258    0    0    0]\n",
      " [2117  259    0    0    0]\n",
      " [1634  238    0    0    0]\n",
      " [2284  416    0    0    0]\n",
      " [2626  326    0    0    0]]\n"
     ]
    }
   ],
   "source": [
    "from sklearn.metrics import confusion_matrix\n",
    "preds = []\n",
    "for i in tqdm(range(len(X_dev))):\n",
    "    x = X_dev[i]\n",
    "    pred = classifier(x)\n",
    "    preds.append(pred)\n",
    "mat = confusion_matrix(Y_dev, preds)\n",
    "print(mat)"
   ]
  },
  {
   "cell_type": "code",
   "execution_count": 162,
   "metadata": {},
   "outputs": [],
   "source": [
    "# roc curve\n",
    "from sklearn.metrics import roc_curve\n",
    "from scipy.special import softmax\n",
    "\n",
    "import numpy as np\n",
    "from sklearn.mixture import GaussianMixture\n",
    "# Suppose Data X is a 2-D Numpy array (One apple has two features, size and flavor)\n",
    "_gmm1 = GaussianMixture(n_components=15, random_state=0).fit(X1)\n",
    "_gmm2 = GaussianMixture(n_components=15, random_state=0).fit(X2)\n",
    "_gmm3 = GaussianMixture(n_components=15, random_state=0).fit(X3)\n",
    "_gmm4 = GaussianMixture(n_components=15, random_state=0).fit(X4)\n",
    "_gmm5 = GaussianMixture(n_components=15, random_state=0).fit(X5)\n",
    "\n",
    "def _classifier(X):\n",
    "    s1 = _gmm1.score_samples(X)\n",
    "    s2 = _gmm2.score_samples(X)\n",
    "    s3 = _gmm3.score_samples(X)\n",
    "    s4 = _gmm4.score_samples(X)\n",
    "    s5 = _gmm5.score_samples(X)\n",
    "    s = np.array([s1,s2,s3,s4,s5])\n",
    "    print(s)\n",
    "    assign = np.argmax(s, axis=0)\n",
    "    return assign\n",
    "\n",
    "def _proba(X):\n",
    "    s1 = _gmm1.score_samples(X)\n",
    "    s2 = _gmm2.score_samples(X)\n",
    "    s3 = _gmm3.score_samples(X)\n",
    "    s4 = _gmm4.score_samples(X)\n",
    "    s5 = _gmm5.score_samples(X)\n",
    "    s = np.array([s1,s2,s3,s4,s5])\n",
    "    return s\n",
    "    \n",
    "# try\n",
    "print(_classifier(X[:2]))\n",
    "print(Y[:2])"
   ]
  },
  {
   "cell_type": "code",
   "execution_count": 156,
   "metadata": {},
   "outputs": [
    {
     "name": "stdout",
     "output_type": "stream",
     "text": [
      "[[-34438.01618648 -35589.41619348 -34173.81437698 ... -35068.06231581\n",
      "  -35450.57220334 -35826.33436094]\n",
      " [-35945.34017045 -40154.49129898 -35019.77180508 ... -37293.8944132\n",
      "  -35733.97205902 -36573.7491848 ]\n",
      " [-67626.97649841 -70236.09762214 -59220.95601707 ... -88170.00049604\n",
      "  -89255.95080695 -80633.71035069]\n",
      " [-38527.44433388 -39192.26868195 -37838.19676345 ... -39346.03757761\n",
      "  -40584.33525831 -39882.31687385]\n",
      " [-44718.21100013 -51240.27325883 -44936.23018489 ... -45449.04231931\n",
      "  -46099.87531243 -46732.2590362 ]]\n",
      "7.982120051085569e-05\n"
     ]
    }
   ],
   "source": [
    "preds = _classifier(X_dev)\n",
    "acc = np.where(preds == Y_dev)\n",
    "print(len(acc)/len(X_dev))"
   ]
  },
  {
   "cell_type": "code",
   "execution_count": 157,
   "metadata": {},
   "outputs": [
    {
     "name": "stdout",
     "output_type": "stream",
     "text": [
      "[[38.1578368  50.18232458 45.9865214  ... 46.38552501 38.61048038\n",
      "  38.70483413]\n",
      " [31.18683566 42.59700417 39.25414763 ... 38.5956263  34.39746028\n",
      "  37.25420499]\n",
      " [34.4049624  53.71342219 42.19709693 ... 48.25364548 41.25876975\n",
      "  37.81489587]\n",
      " [37.70855682 48.93723806 46.28102132 ... 44.42212034 40.55158711\n",
      "  40.26577578]\n",
      " [39.49837619 49.20164276 46.37105944 ... 46.1793326  36.79400944\n",
      "  38.21637044]]\n",
      "2.295684113865932e-05\n"
     ]
    }
   ],
   "source": [
    "preds = _classifier(X)\n",
    "acc = np.where(preds == Y)\n",
    "print(len(acc)/len(X))"
   ]
  },
  {
   "cell_type": "code",
   "execution_count": 161,
   "metadata": {},
   "outputs": [
    {
     "name": "stdout",
     "output_type": "stream",
     "text": [
      "[[-34438.01618648 -35589.41619348 -34173.81437698 ... -35068.06231581\n",
      "  -35450.57220334 -35826.33436094]\n",
      " [-35945.34017045 -40154.49129898 -35019.77180508 ... -37293.8944132\n",
      "  -35733.97205902 -36573.7491848 ]\n",
      " [-67626.97649841 -70236.09762214 -59220.95601707 ... -88170.00049604\n",
      "  -89255.95080695 -80633.71035069]\n",
      " [-38527.44433388 -39192.26868195 -37838.19676345 ... -39346.03757761\n",
      "  -40584.33525831 -39882.31687385]\n",
      " [-44718.21100013 -51240.27325883 -44936.23018489 ... -45449.04231931\n",
      "  -46099.87531243 -46732.2590362 ]]\n",
      "(12528,)\n"
     ]
    },
    {
     "ename": "AxisError",
     "evalue": "axis 1 is out of bounds for array of dimension 1",
     "output_type": "error",
     "traceback": [
      "\u001b[1;31m---------------------------------------------------------------------------\u001b[0m",
      "\u001b[1;31mAxisError\u001b[0m                                 Traceback (most recent call last)",
      "\u001b[1;32md:\\Files\\PRML\\Assignment 3\\GMM\\6.ipynb Cell 24'\u001b[0m in \u001b[0;36m<module>\u001b[1;34m\u001b[0m\n\u001b[0;32m      <a href='vscode-notebook-cell:/d%3A/Files/PRML/Assignment%203/GMM/6.ipynb#ch0000023?line=6'>7</a>\u001b[0m min_s \u001b[39m=\u001b[39m np\u001b[39m.\u001b[39mmin(scores)\n\u001b[0;32m      <a href='vscode-notebook-cell:/d%3A/Files/PRML/Assignment%203/GMM/6.ipynb#ch0000023?line=7'>8</a>\u001b[0m max_s \u001b[39m=\u001b[39m np\u001b[39m.\u001b[39mmax(scores)\n\u001b[1;32m----> <a href='vscode-notebook-cell:/d%3A/Files/PRML/Assignment%203/GMM/6.ipynb#ch0000023?line=8'>9</a>\u001b[0m thresholds \u001b[39m=\u001b[39m np\u001b[39m.\u001b[39;49maverage(scores, axis\u001b[39m=\u001b[39;49m\u001b[39m1\u001b[39;49m)\n\u001b[0;32m     <a href='vscode-notebook-cell:/d%3A/Files/PRML/Assignment%203/GMM/6.ipynb#ch0000023?line=9'>10</a>\u001b[0m thresholds\u001b[39m.\u001b[39msort()\n\u001b[0;32m     <a href='vscode-notebook-cell:/d%3A/Files/PRML/Assignment%203/GMM/6.ipynb#ch0000023?line=10'>11</a>\u001b[0m \u001b[39mfor\u001b[39;00m t \u001b[39min\u001b[39;00m tqdm(\u001b[39mrange\u001b[39m(\u001b[39mlen\u001b[39m(thresholds))):\n",
      "File \u001b[1;32m<__array_function__ internals>:180\u001b[0m, in \u001b[0;36maverage\u001b[1;34m(*args, **kwargs)\u001b[0m\n",
      "File \u001b[1;32m~\\AppData\\Roaming\\Python\\Python39\\site-packages\\numpy\\lib\\function_base.py:495\u001b[0m, in \u001b[0;36maverage\u001b[1;34m(a, axis, weights, returned)\u001b[0m\n\u001b[0;32m    <a href='file:///c%3A/Users/Vedant/AppData/Roaming/Python/Python39/site-packages/numpy/lib/function_base.py?line=491'>492</a>\u001b[0m a \u001b[39m=\u001b[39m np\u001b[39m.\u001b[39masanyarray(a)\n\u001b[0;32m    <a href='file:///c%3A/Users/Vedant/AppData/Roaming/Python/Python39/site-packages/numpy/lib/function_base.py?line=493'>494</a>\u001b[0m \u001b[39mif\u001b[39;00m weights \u001b[39mis\u001b[39;00m \u001b[39mNone\u001b[39;00m:\n\u001b[1;32m--> <a href='file:///c%3A/Users/Vedant/AppData/Roaming/Python/Python39/site-packages/numpy/lib/function_base.py?line=494'>495</a>\u001b[0m     avg \u001b[39m=\u001b[39m a\u001b[39m.\u001b[39;49mmean(axis)\n\u001b[0;32m    <a href='file:///c%3A/Users/Vedant/AppData/Roaming/Python/Python39/site-packages/numpy/lib/function_base.py?line=495'>496</a>\u001b[0m     scl \u001b[39m=\u001b[39m avg\u001b[39m.\u001b[39mdtype\u001b[39m.\u001b[39mtype(a\u001b[39m.\u001b[39msize\u001b[39m/\u001b[39mavg\u001b[39m.\u001b[39msize)\n\u001b[0;32m    <a href='file:///c%3A/Users/Vedant/AppData/Roaming/Python/Python39/site-packages/numpy/lib/function_base.py?line=496'>497</a>\u001b[0m \u001b[39melse\u001b[39;00m:\n",
      "File \u001b[1;32m~\\AppData\\Roaming\\Python\\Python39\\site-packages\\numpy\\core\\_methods.py:167\u001b[0m, in \u001b[0;36m_mean\u001b[1;34m(a, axis, dtype, out, keepdims, where)\u001b[0m\n\u001b[0;32m    <a href='file:///c%3A/Users/Vedant/AppData/Roaming/Python/Python39/site-packages/numpy/core/_methods.py?line=162'>163</a>\u001b[0m arr \u001b[39m=\u001b[39m asanyarray(a)\n\u001b[0;32m    <a href='file:///c%3A/Users/Vedant/AppData/Roaming/Python/Python39/site-packages/numpy/core/_methods.py?line=164'>165</a>\u001b[0m is_float16_result \u001b[39m=\u001b[39m \u001b[39mFalse\u001b[39;00m\n\u001b[1;32m--> <a href='file:///c%3A/Users/Vedant/AppData/Roaming/Python/Python39/site-packages/numpy/core/_methods.py?line=166'>167</a>\u001b[0m rcount \u001b[39m=\u001b[39m _count_reduce_items(arr, axis, keepdims\u001b[39m=\u001b[39;49mkeepdims, where\u001b[39m=\u001b[39;49mwhere)\n\u001b[0;32m    <a href='file:///c%3A/Users/Vedant/AppData/Roaming/Python/Python39/site-packages/numpy/core/_methods.py?line=167'>168</a>\u001b[0m \u001b[39mif\u001b[39;00m rcount \u001b[39m==\u001b[39m \u001b[39m0\u001b[39m \u001b[39mif\u001b[39;00m where \u001b[39mis\u001b[39;00m \u001b[39mTrue\u001b[39;00m \u001b[39melse\u001b[39;00m umr_any(rcount \u001b[39m==\u001b[39m \u001b[39m0\u001b[39m, axis\u001b[39m=\u001b[39m\u001b[39mNone\u001b[39;00m):\n\u001b[0;32m    <a href='file:///c%3A/Users/Vedant/AppData/Roaming/Python/Python39/site-packages/numpy/core/_methods.py?line=168'>169</a>\u001b[0m     warnings\u001b[39m.\u001b[39mwarn(\u001b[39m\"\u001b[39m\u001b[39mMean of empty slice.\u001b[39m\u001b[39m\"\u001b[39m, \u001b[39mRuntimeWarning\u001b[39;00m, stacklevel\u001b[39m=\u001b[39m\u001b[39m2\u001b[39m)\n",
      "File \u001b[1;32m~\\AppData\\Roaming\\Python\\Python39\\site-packages\\numpy\\core\\_methods.py:76\u001b[0m, in \u001b[0;36m_count_reduce_items\u001b[1;34m(arr, axis, keepdims, where)\u001b[0m\n\u001b[0;32m     <a href='file:///c%3A/Users/Vedant/AppData/Roaming/Python/Python39/site-packages/numpy/core/_methods.py?line=73'>74</a>\u001b[0m     items \u001b[39m=\u001b[39m nt\u001b[39m.\u001b[39mintp(\u001b[39m1\u001b[39m)\n\u001b[0;32m     <a href='file:///c%3A/Users/Vedant/AppData/Roaming/Python/Python39/site-packages/numpy/core/_methods.py?line=74'>75</a>\u001b[0m     \u001b[39mfor\u001b[39;00m ax \u001b[39min\u001b[39;00m axis:\n\u001b[1;32m---> <a href='file:///c%3A/Users/Vedant/AppData/Roaming/Python/Python39/site-packages/numpy/core/_methods.py?line=75'>76</a>\u001b[0m         items \u001b[39m*\u001b[39m\u001b[39m=\u001b[39m arr\u001b[39m.\u001b[39mshape[mu\u001b[39m.\u001b[39;49mnormalize_axis_index(ax, arr\u001b[39m.\u001b[39;49mndim)]\n\u001b[0;32m     <a href='file:///c%3A/Users/Vedant/AppData/Roaming/Python/Python39/site-packages/numpy/core/_methods.py?line=76'>77</a>\u001b[0m \u001b[39melse\u001b[39;00m:\n\u001b[0;32m     <a href='file:///c%3A/Users/Vedant/AppData/Roaming/Python/Python39/site-packages/numpy/core/_methods.py?line=77'>78</a>\u001b[0m     \u001b[39m# TODO: Optimize case when `where` is broadcast along a non-reduction\u001b[39;00m\n\u001b[0;32m     <a href='file:///c%3A/Users/Vedant/AppData/Roaming/Python/Python39/site-packages/numpy/core/_methods.py?line=78'>79</a>\u001b[0m     \u001b[39m# axis and full sum is more excessive than needed.\u001b[39;00m\n\u001b[0;32m     <a href='file:///c%3A/Users/Vedant/AppData/Roaming/Python/Python39/site-packages/numpy/core/_methods.py?line=79'>80</a>\u001b[0m \n\u001b[0;32m     <a href='file:///c%3A/Users/Vedant/AppData/Roaming/Python/Python39/site-packages/numpy/core/_methods.py?line=80'>81</a>\u001b[0m     \u001b[39m# guarded to protect circular imports\u001b[39;00m\n\u001b[0;32m     <a href='file:///c%3A/Users/Vedant/AppData/Roaming/Python/Python39/site-packages/numpy/core/_methods.py?line=81'>82</a>\u001b[0m     \u001b[39mfrom\u001b[39;00m \u001b[39mnumpy\u001b[39;00m\u001b[39m.\u001b[39;00m\u001b[39mlib\u001b[39;00m\u001b[39m.\u001b[39;00m\u001b[39mstride_tricks\u001b[39;00m \u001b[39mimport\u001b[39;00m broadcast_to\n",
      "\u001b[1;31mAxisError\u001b[0m: axis 1 is out of bounds for array of dimension 1"
     ]
    }
   ],
   "source": [
    "\n",
    "scores = _proba(X_dev)\n",
    "TPR = []\n",
    "FPR = []\n",
    "scores = np.array(scores)\n",
    "scores = np.transpose(scores)\n",
    "print(scores.shape)\n",
    "min_s = np.min(scores)\n",
    "max_s = np.max(scores)\n",
    "thresholds = np.average(scores, axis=1)\n",
    "thresholds.sort()\n",
    "for t in tqdm(range(len(thresholds))):\n",
    "    threshold = thresholds[t]\n",
    "    TP = 0\n",
    "    FP = 0\n",
    "    TN = 0\n",
    "    FN = 0\n",
    "    for i in range(len(X_dev)):\n",
    "        for j in range(5):\n",
    "            if(t == 0):\n",
    "                print(scores[i][j], X_dev[i], Y_dev[i], threshold, end='\\t')\n",
    "            if(scores[i][j] >= threshold):\n",
    "                if(Y_dev[i] == j):\n",
    "                    print(\"TP\")\n",
    "                    TP += 1\n",
    "                else:\n",
    "                    print(\"FP\")\n",
    "                    FP += 1\n",
    "            else:\n",
    "                if(Y_dev[i] == j):\n",
    "                    print(\"FN\")\n",
    "                    FN += 1\n",
    "                else:\n",
    "                    print(\"TN\")\n",
    "                    TN += 1\n",
    "    TPR.append(TP/(TP+FN))\n",
    "    FPR.append(FP/(FP+TN))\n",
    "plt.plot(FPR, TPR)"
   ]
  }
 ],
 "metadata": {
  "interpreter": {
   "hash": "94ae5e5b5ae5a1ee57a607c9497711b6bf7cc4fc8b73b07c0408939ea9c64789"
  },
  "kernelspec": {
   "display_name": "Python 3.9.2 64-bit",
   "language": "python",
   "name": "python3"
  },
  "language_info": {
   "codemirror_mode": {
    "name": "ipython",
    "version": 3
   },
   "file_extension": ".py",
   "mimetype": "text/x-python",
   "name": "python",
   "nbconvert_exporter": "python",
   "pygments_lexer": "ipython3",
   "version": "3.9.2"
  },
  "orig_nbformat": 4
 },
 "nbformat": 4,
 "nbformat_minor": 2
}
