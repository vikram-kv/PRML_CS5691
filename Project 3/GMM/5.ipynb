{
 "cells": [
  {
   "cell_type": "code",
   "execution_count": 1,
   "metadata": {},
   "outputs": [],
   "source": [
    "# imports\n",
    "import numpy as np\n",
    "import pandas as pd\n",
    "import matplotlib.pyplot as plt\n",
    "import matplotlib.colors as mcol\n",
    "from tqdm.notebook import tqdm_notebook as tqdm"
   ]
  },
  {
   "cell_type": "code",
   "execution_count": 2,
   "metadata": {},
   "outputs": [],
   "source": [
    "class KMeans:\n",
    "    def __init__(self, k:int, max_iter:int=10):\n",
    "        self.k = k\n",
    "        self.max_iter = max_iter\n",
    "        \n",
    "    def initialize(self, X):\n",
    "        self.N, self.d = X.shape\n",
    "        shuffled = np.copy(X)\n",
    "        np.random.seed(0)\n",
    "        np.random.shuffle(shuffled)\n",
    "        self.centroids = shuffled[:self.k]\n",
    "        self.assignment = np.zeros(self.N)\n",
    "        \n",
    "    def e_step(self, X):\n",
    "        for i in range(self.N):\n",
    "            x = X[i]\n",
    "            scores = []\n",
    "            for k in range(self.k):\n",
    "                scores.append(np.linalg.norm(x - self.centroids[k]))\n",
    "            self.assignment[i] = np.argmin(scores)\n",
    "            \n",
    "    def m_step(self, X):\n",
    "        for k in range(self.k):\n",
    "            ind_k = np.where(self.assignment == k)\n",
    "            X_k = X[ind_k]\n",
    "            self.centroids[k] = np.mean(X_k, axis=0)\n",
    "\n",
    "    def fit(self, X):\n",
    "        self.initialize(X)\n",
    "        for _ in tqdm(range(self.max_iter),desc='K MEANS CLUSTERING: k='+str(self.k)):\n",
    "            self.e_step(X)\n",
    "            self.m_step(X)\n",
    "        return self.centroids, self.predict(X)\n",
    "            \n",
    "    def predict(self, X):\n",
    "        if(len(X.shape) == 1):\n",
    "            X = np.array([X])\n",
    "        N, _ = X.shape\n",
    "        assignment = np.zeros(N,dtype=np.uint32)\n",
    "        for i in range(N):\n",
    "            x = X[i]\n",
    "            scores = []\n",
    "            for k in range(self.k):\n",
    "                scores.append(np.linalg.norm(x - self.centroids[k]))\n",
    "            assignment[i] = np.argmin(scores)\n",
    "        return assignment"
   ]
  },
  {
   "cell_type": "code",
   "execution_count": 3,
   "metadata": {},
   "outputs": [],
   "source": [
    "class GMM:\n",
    "    def __init__(self, k:int, max_iter:int =5, max_k_iter:int =10):\n",
    "        self.k = k\n",
    "        self.max_iter = max_iter \n",
    "        self.max_k_iter = max_iter\n",
    "\n",
    "    def initialize(self, X):\n",
    "        # theta = [Mu, Sigma, Pi]\n",
    "        n, d = X.shape\n",
    "        ##################################################\n",
    "        # USE K Means Engine to initialise (The M0 Step) #\n",
    "        ##################################################\n",
    "        kmeans = KMeans(k=self.k, max_iter= self.max_k_iter)\n",
    "        centroids, assignment = kmeans.fit(X)\n",
    "        self.mu = np.array(centroids)\n",
    "        self.sigma = np.array([ np.cov(X.T) for _ in range(self.k) ])\n",
    "        self.gamma = np.zeros((n,self.k))\n",
    "        for i in range(n):\n",
    "            self.gamma[i][assignment[i]] = 1\n",
    "        self.pi = np.mean(self.gamma, axis=0)\n",
    "                \n",
    "\n",
    "    def gaussian(x: np.ndarray, mu: np.ndarray, sigma: np.ndarray):\n",
    "        idvs = len(x)\n",
    "        norm_factor = (2*np.pi)**idvs\n",
    "\n",
    "        norm_factor *= np.linalg.det(sigma)\n",
    "        norm_factor = 1.0/np.sqrt(norm_factor)\n",
    "\n",
    "        x_mu = np.matrix(x-mu)\n",
    "\n",
    "        rs = norm_factor*np.exp(-0.5*x_mu*np.linalg.pinv(sigma)*x_mu.T)\n",
    "        return rs\n",
    "\n",
    "    # E-Step: \n",
    "    def e_step(self, X):\n",
    "        n,d = X.shape\n",
    "        for i in range(n):\n",
    "            x = X[i]\n",
    "            p_x = 0.\n",
    "            vec = []\n",
    "            for k in range(self.k):\n",
    "                p_xk = self.pi[k] * (GMM.gaussian(x, self.mu[k], self.sigma[k]))\n",
    "                vec.append(p_xk.item())\n",
    "                p_x += p_xk\n",
    "            self.gamma[i] = (np.array(vec))*1.0/p_x\n",
    "        self.pi = np.mean(self.gamma, axis=0)\n",
    "\n",
    "    # M-Step: update meu and sigma holding phi and weights constant\n",
    "    def m_step(self, X):\n",
    "        # n,d = X.shape\n",
    "        # for k in self.k:\n",
    "        #     _mu_k_new = np.zeros(d);\n",
    "        #     for i in range(n):\n",
    "        #         _mu_k_new += self.gamma[i][k]*X[i]\n",
    "        #     _mu_k_new /= self.gamma[:,k].sum()\n",
    "        #     self.mu[k] = _mu_k_new\n",
    "            # self.sigma[k] = np.cov(X.T,aweights=(weight/total_weight).flatten(), bias=True)\n",
    "        for i in range(self.k):\n",
    "            weight = self.gamma[:, [i]]\n",
    "            total_weight = weight.sum()\n",
    "\n",
    "            self.mu[i] = (X * weight).sum(axis=0) / total_weight\n",
    "            self.sigma[i] = np.cov(X.T,aweights=(weight/total_weight).flatten(), bias=True)\n",
    "\n",
    "    # responsible for clustering the data points correctly\n",
    "    def fit(self, X):\n",
    "        # initialise parameters like weights, phi, meu, sigma of all Gaussians in dataset X\n",
    "        self.initialize(X)\n",
    "        for iteration in tqdm(range(self.max_iter),desc='GMM (EM): k='+str(self.k)):\n",
    "            # iterate to update the value of P(Xi/Ci=j) and (phi)k\n",
    "            self.e_step(X)\n",
    "            # iterate to update the value of meu and sigma as the clusters shift\n",
    "            self.m_step(X)\n",
    "    \n",
    "    # predict function \n",
    "    def predict(self, X):\n",
    "        n,d = np.array(X).shape\n",
    "        gamma = np.zeros((n,self.k))\n",
    "        for i in range(n):\n",
    "            x = X[i]\n",
    "            p_x = 0.\n",
    "            vec = []\n",
    "            for k in range(self.k):\n",
    "                p_xk = self.pi[k] * (GMM.gaussian(x, self.mu[k], self.sigma[k]))\n",
    "                vec.append(p_xk.item())\n",
    "                p_x += p_xk\n",
    "            gamma[i] = (np.array(vec))*1.0/p_x\n",
    "        # self.pi = np.mean(self.gamma, axis=0)\n",
    "        return np.argmax(gamma, axis=1)\n",
    "        weights = self.predict_proba(X)\n",
    "        # datapoint belongs to cluster with maximum probability\n",
    "        # returns this value\n",
    "        return np.argmax(weights, axis=1)\n",
    "    \n",
    "    def score(self, x, ret_gamma: bool = False):\n",
    "        # x is d-dimensional single input feature vector\n",
    "        if(ret_gamma):\n",
    "            gamma = np.zeros(self.k)\n",
    "            vec = []\n",
    "        p_x = 0.\n",
    "        for k in range(self.k):\n",
    "            p_xk = self.pi[k] * (GMM.gaussian(x, self.mu[k], self.sigma[k]))\n",
    "            if(ret_gamma):\n",
    "                vec.append(p_xk.item())\n",
    "            p_x += p_xk.item()\n",
    "        if(ret_gamma):\n",
    "            gamma = (np.array(vec))*1.0/p_x\n",
    "            return p_x, gamma\n",
    "        return p_x\n",
    "    \n",
    "    def plot_contour(self, fig, ax, _range, _input, color='red'):\n",
    "        N, _, d = _input.shape\n",
    "        if(d != 2):\n",
    "            print(\"Can't plot for input not 2d\")\n",
    "            return None\n",
    "        Z = np.empty((self.k,N,N))\n",
    "        print(\"Plotting contours...\")\n",
    "        for k in tqdm(range(0,self.k)):\n",
    "            for i in range(N):\n",
    "                for j in range(N):\n",
    "                    Z[k][i][j] = GMM.gaussian(_input[i][j], self.mu[k], self.sigma[k])\n",
    "            ax.contour(_input[:,:,0], _input[:,:,1], Z[k], colors=color, levels=np.arange(0.2, 2.0, 0.5))\n",
    "        print(\"Done\")"
   ]
  },
  {
   "cell_type": "code",
   "execution_count": 4,
   "metadata": {},
   "outputs": [
    {
     "data": {
      "text/html": [
       "<div>\n",
       "<style scoped>\n",
       "    .dataframe tbody tr th:only-of-type {\n",
       "        vertical-align: middle;\n",
       "    }\n",
       "\n",
       "    .dataframe tbody tr th {\n",
       "        vertical-align: top;\n",
       "    }\n",
       "\n",
       "    .dataframe thead th {\n",
       "        text-align: right;\n",
       "    }\n",
       "</style>\n",
       "<table border=\"1\" class=\"dataframe\">\n",
       "  <thead>\n",
       "    <tr style=\"text-align: right;\">\n",
       "      <th></th>\n",
       "      <th>x</th>\n",
       "      <th>y</th>\n",
       "    </tr>\n",
       "  </thead>\n",
       "  <tbody>\n",
       "    <tr>\n",
       "      <th>0</th>\n",
       "      <td>-1.410683</td>\n",
       "      <td>1.139554</td>\n",
       "    </tr>\n",
       "    <tr>\n",
       "      <th>1</th>\n",
       "      <td>-0.967992</td>\n",
       "      <td>-0.830796</td>\n",
       "    </tr>\n",
       "    <tr>\n",
       "      <th>2</th>\n",
       "      <td>-1.451904</td>\n",
       "      <td>0.984208</td>\n",
       "    </tr>\n",
       "    <tr>\n",
       "      <th>3</th>\n",
       "      <td>-1.431584</td>\n",
       "      <td>1.302424</td>\n",
       "    </tr>\n",
       "    <tr>\n",
       "      <th>4</th>\n",
       "      <td>-1.080914</td>\n",
       "      <td>1.511558</td>\n",
       "    </tr>\n",
       "  </tbody>\n",
       "</table>\n",
       "</div>"
      ],
      "text/plain": [
       "          x         y\n",
       "0 -1.410683  1.139554\n",
       "1 -0.967992 -0.830796\n",
       "2 -1.451904  0.984208\n",
       "3 -1.431584  1.302424\n",
       "4 -1.080914  1.511558"
      ]
     },
     "execution_count": 4,
     "metadata": {},
     "output_type": "execute_result"
    }
   ],
   "source": [
    "import csv\n",
    "X = []\n",
    "Y = []\n",
    "with open(\"6/train.txt\") as f:\n",
    "    reader = csv.reader(f)\n",
    "    for row in reader:\n",
    "        X.append([float(row[0]), float(row[1])])\n",
    "        Y.append(int(row[2]))\n",
    "\n",
    "df = pd.DataFrame(X, columns = ['x', 'y'])\n",
    "df_norm = (df - df.mean()) / (df.std())\n",
    "df_norm.head()"
   ]
  },
  {
   "cell_type": "code",
   "execution_count": 5,
   "metadata": {},
   "outputs": [
    {
     "name": "stdout",
     "output_type": "stream",
     "text": [
      "(array([   0,    1,    2, ..., 1247, 1248, 1249], dtype=int64),)\n",
      "(array([1250, 1251, 1252, ..., 2497, 2498, 2499], dtype=int64),)\n"
     ]
    }
   ],
   "source": [
    "Y = np.array(Y)\n",
    "X = df_norm.to_numpy()\n",
    "ind1 = np.where(Y == 1)\n",
    "ind2 = np.where(Y == 2)\n",
    "\n",
    "X1 = X[ind1]\n",
    "X2 = X[ind2]"
   ]
  },
  {
   "cell_type": "code",
   "execution_count": 6,
   "metadata": {},
   "outputs": [
    {
     "data": {
      "application/vnd.jupyter.widget-view+json": {
       "model_id": "914ab8ba8ff5451aa05683e12d7a64d1",
       "version_major": 2,
       "version_minor": 0
      },
      "text/plain": [
       "K MEANS CLUSTERING: k=12:   0%|          | 0/30 [00:00<?, ?it/s]"
      ]
     },
     "metadata": {},
     "output_type": "display_data"
    },
    {
     "data": {
      "application/vnd.jupyter.widget-view+json": {
       "model_id": "406fb6e5b316482182d55a301946a042",
       "version_major": 2,
       "version_minor": 0
      },
      "text/plain": [
       "GMM (EM): k=12:   0%|          | 0/30 [00:00<?, ?it/s]"
      ]
     },
     "metadata": {},
     "output_type": "display_data"
    }
   ],
   "source": [
    "gmm1 = GMM(12, 30,30)\n",
    "gmm1.fit(X1)"
   ]
  },
  {
   "cell_type": "code",
   "execution_count": 7,
   "metadata": {},
   "outputs": [
    {
     "data": {
      "application/vnd.jupyter.widget-view+json": {
       "model_id": "1f4a69d248f54eebbba070af384963c3",
       "version_major": 2,
       "version_minor": 0
      },
      "text/plain": [
       "K MEANS CLUSTERING: k=12:   0%|          | 0/30 [00:00<?, ?it/s]"
      ]
     },
     "metadata": {},
     "output_type": "display_data"
    },
    {
     "data": {
      "application/vnd.jupyter.widget-view+json": {
       "model_id": "152fc5f8875043db8614615d853ec689",
       "version_major": 2,
       "version_minor": 0
      },
      "text/plain": [
       "GMM (EM): k=12:   0%|          | 0/30 [00:00<?, ?it/s]"
      ]
     },
     "metadata": {},
     "output_type": "display_data"
    }
   ],
   "source": [
    "gmm2 = GMM(12, 30, 30)\n",
    "gmm2.fit(X2)"
   ]
  },
  {
   "cell_type": "code",
   "execution_count": 8,
   "metadata": {},
   "outputs": [
    {
     "data": {
      "text/html": [
       "<div>\n",
       "<style scoped>\n",
       "    .dataframe tbody tr th:only-of-type {\n",
       "        vertical-align: middle;\n",
       "    }\n",
       "\n",
       "    .dataframe tbody tr th {\n",
       "        vertical-align: top;\n",
       "    }\n",
       "\n",
       "    .dataframe thead th {\n",
       "        text-align: right;\n",
       "    }\n",
       "</style>\n",
       "<table border=\"1\" class=\"dataframe\">\n",
       "  <thead>\n",
       "    <tr style=\"text-align: right;\">\n",
       "      <th></th>\n",
       "      <th>x</th>\n",
       "      <th>y</th>\n",
       "    </tr>\n",
       "  </thead>\n",
       "  <tbody>\n",
       "    <tr>\n",
       "      <th>0</th>\n",
       "      <td>-1.379694</td>\n",
       "      <td>1.438297</td>\n",
       "    </tr>\n",
       "    <tr>\n",
       "      <th>1</th>\n",
       "      <td>-0.779394</td>\n",
       "      <td>0.688003</td>\n",
       "    </tr>\n",
       "    <tr>\n",
       "      <th>2</th>\n",
       "      <td>-0.414967</td>\n",
       "      <td>-0.993740</td>\n",
       "    </tr>\n",
       "    <tr>\n",
       "      <th>3</th>\n",
       "      <td>0.180541</td>\n",
       "      <td>0.347841</td>\n",
       "    </tr>\n",
       "    <tr>\n",
       "      <th>4</th>\n",
       "      <td>-1.297913</td>\n",
       "      <td>-0.576706</td>\n",
       "    </tr>\n",
       "  </tbody>\n",
       "</table>\n",
       "</div>"
      ],
      "text/plain": [
       "          x         y\n",
       "0 -1.379694  1.438297\n",
       "1 -0.779394  0.688003\n",
       "2 -0.414967 -0.993740\n",
       "3  0.180541  0.347841\n",
       "4 -1.297913 -0.576706"
      ]
     },
     "execution_count": 8,
     "metadata": {},
     "output_type": "execute_result"
    }
   ],
   "source": [
    "import csv\n",
    "X_dev = []\n",
    "Y_dev = []\n",
    "with open(\"6/dev.txt\") as f:\n",
    "    reader = csv.reader(f)\n",
    "    for row in reader:\n",
    "        X_dev.append([float(row[0]), float(row[1])])\n",
    "        Y_dev.append(int(row[2]))\n",
    "df1 = pd.DataFrame(X_dev, columns = ['x', 'y'])\n",
    "df_norm1 = (df1 - df1.mean()) / (df1.std())\n",
    "df_norm1.head()"
   ]
  },
  {
   "cell_type": "code",
   "execution_count": 9,
   "metadata": {},
   "outputs": [],
   "source": [
    "X_dev = df_norm1.to_numpy()\n",
    "Y_dev = np.array(Y_dev)"
   ]
  },
  {
   "cell_type": "code",
   "execution_count": 10,
   "metadata": {},
   "outputs": [],
   "source": [
    "post1 = lambda x: gmm1.score(x)\n",
    "post2 = lambda x: gmm2.score(x)\n",
    "classifier = lambda x : np.argmax([post1(x),post2(x)]) + 1"
   ]
  },
  {
   "cell_type": "code",
   "execution_count": 11,
   "metadata": {},
   "outputs": [],
   "source": [
    "# construct a meshgrid using _range. N = no of sampling points(common for both x1, x2 intervals)\n",
    "# returns the meshgrid(X1, X2) and Z = result of applying the 3 pdfs(pdf1 with mean mus[0], \n",
    "# covariance covs[0] and so on) on the meshgrid\n",
    "def GridHelper(_range,N,mus,covs):\n",
    "    X1 = np.linspace(_range[0][0], _range[0][1], N)\n",
    "    X2 = np.linspace(_range[1][0], _range[1][1], N)\n",
    "    X1, X2 = np.meshgrid(X1, X2)\n",
    "\n",
    "    _input = np.empty((N,N,2))\n",
    "    _input[:,:,0] = X1\n",
    "    _input[:,:,1] = X2\n",
    "\n",
    "    return (X1,X2,_input)"
   ]
  },
  {
   "cell_type": "code",
   "execution_count": 12,
   "metadata": {},
   "outputs": [],
   "source": [
    "# main plotting function\n",
    "import matplotlib.colors as mcol\n",
    "from tqdm.notebook import tqdm_notebook as tqdm\n",
    "def DecisionBoundaryPlotter(_range,mus,covs,data,truth,classifier):\n",
    "\n",
    "    fig, ax = plt.subplots(figsize=(10, 10))\n",
    "\n",
    "    # construct grid and apply the three gaussians on it\n",
    "    print(\"Making Grid...\")\n",
    "    X1, X2, _input = GridHelper(_range,100,mus,covs)\n",
    "    print(\"Done.\")\n",
    "\n",
    "    # plot contours\n",
    "    gmm1.plot_contour(fig,ax,_range,_input,'red')\n",
    "    gmm2.plot_contour(fig,ax,_range,_input,'pink')\n",
    "\n",
    "    # code to apply classifier function to each point on grid and use the result to plot \n",
    "    # decision regions\n",
    "    _x1, _x2 = X1.flatten(), X2.flatten()\n",
    "    surf = np.empty(_x1.shape)\n",
    "    print(\"Evaluating classifier for \", _x1.size, \" points...\")\n",
    "    for i in tqdm(range(0,_x1.size)):\n",
    "        surf[i] = classifier([_x1[i],_x2[i]])\n",
    "    print(\"Done.\")\n",
    "    surf = surf.reshape(X1.shape)\n",
    "    ax.contourf(X1, X2, surf,cmap = mcol.ListedColormap(['orange', 'violet']))\n",
    "\n",
    "    # code to plot the dev vectors labeled by their true class\n",
    "    c1x1, c1x2 = [], []\n",
    "    c2x1, c2x2 = [], []\n",
    "    _sz = len(data)\n",
    "    for i in range(0,_sz):\n",
    "        if truth[i] == 1:\n",
    "            c1x1.append(data[i][0]), c1x2.append(data[i][1])\n",
    "        elif truth[i] == 2:\n",
    "            c2x1.append(data[i][0]), c2x2.append(data[i][1])\n",
    "    print(\"Plotting dev data points...\")\n",
    "    ax.scatter(c1x1, c1x2, edgecolors='yellow',label='Class 1 data',s=20,facecolors='none')\n",
    "    ax.scatter(c2x1, c2x2, edgecolors='blue',label='Class 2 data',s=20,facecolors='none')\n",
    "    print(\"Done.\")\n",
    "\n",
    "    # code to label axes and save the plot\n",
    "    ax.set_xlabel('x1')\n",
    "    ax.set_ylabel('x2')\n",
    "    ax.set_title('Decision Boundary Diagram')\n",
    "    ax.legend()\n",
    "    plt.show()"
   ]
  },
  {
   "cell_type": "code",
   "execution_count": 13,
   "metadata": {},
   "outputs": [
    {
     "name": "stdout",
     "output_type": "stream",
     "text": [
      "Making Grid...\n",
      "Done.\n",
      "Plotting contours...\n"
     ]
    },
    {
     "data": {
      "application/vnd.jupyter.widget-view+json": {
       "model_id": "584f39cdc20842399aeaef356ce61389",
       "version_major": 2,
       "version_minor": 0
      },
      "text/plain": [
       "  0%|          | 0/12 [00:00<?, ?it/s]"
      ]
     },
     "metadata": {},
     "output_type": "display_data"
    },
    {
     "name": "stderr",
     "output_type": "stream",
     "text": [
      "C:\\Users\\Vedant\\AppData\\Local\\Temp\\ipykernel_31732\\958930776.py:123: UserWarning: No contour levels were found within the data range.\n",
      "  ax.contour(_input[:,:,0], _input[:,:,1], Z[k], colors=color, levels=np.arange(0.2, 2.0, 0.5))\n"
     ]
    },
    {
     "name": "stdout",
     "output_type": "stream",
     "text": [
      "Done\n",
      "Plotting contours...\n"
     ]
    },
    {
     "data": {
      "application/vnd.jupyter.widget-view+json": {
       "model_id": "b6cb1641a64d4286bd811ccc21841052",
       "version_major": 2,
       "version_minor": 0
      },
      "text/plain": [
       "  0%|          | 0/12 [00:00<?, ?it/s]"
      ]
     },
     "metadata": {},
     "output_type": "display_data"
    },
    {
     "name": "stdout",
     "output_type": "stream",
     "text": [
      "Done\n",
      "Evaluating classifier for  10000  points...\n"
     ]
    },
    {
     "data": {
      "application/vnd.jupyter.widget-view+json": {
       "model_id": "df7218d3c44a42e3a647c06c050e4f03",
       "version_major": 2,
       "version_minor": 0
      },
      "text/plain": [
       "  0%|          | 0/10000 [00:00<?, ?it/s]"
      ]
     },
     "metadata": {},
     "output_type": "display_data"
    },
    {
     "name": "stdout",
     "output_type": "stream",
     "text": [
      "Done.\n",
      "Plotting dev data points...\n",
      "Done.\n"
     ]
    },
    {
     "data": {
      "image/png": "[encoded data removed]",
      "text/plain": [
       "<Figure size 720x720 with 1 Axes>"
      ]
     },
     "metadata": {
      "needs_background": "light"
     },
     "output_type": "display_data"
    }
   ],
   "source": [
    "DecisionBoundaryPlotter([[-16,-2],[-7,8]], [gmm1.mu,gmm2.mu], [gmm1.sigma,gmm2.sigma], X_dev, Y_dev, classifier=classifier)"
   ]
  },
  {
   "cell_type": "code",
   "execution_count": 14,
   "metadata": {},
   "outputs": [],
   "source": [
    "def measure_accuracy_syn(gmm1: GMM, gmm2: GMM, X_dev,Y_dev):\n",
    "    accuracy = 0.\n",
    "    for i in range(len(X_dev)):\n",
    "        x = X_dev[i]\n",
    "        s1 = gmm1.score(x)\n",
    "        s2 = gmm2.score(x)\n",
    "        if(s1 > s2):\n",
    "            if(Y_dev[i] == 1):\n",
    "                accuracy += 1\n",
    "            else:\n",
    "                accuracy -= 1\n",
    "        elif(s2 > s1):\n",
    "            if(Y_dev[i] == 2):\n",
    "                accuracy += 1\n",
    "            else:\n",
    "                accuracy -= 1\n",
    "        else:\n",
    "            print(\"Ambigious point\")\n",
    "            # random\n",
    "            r = np.random.randint(1,3)\n",
    "            if(r == Y_dev[i]):\n",
    "                accuracy += 1\n",
    "            else:\n",
    "                accuracy -= 1\n",
    "    accuracy *= 100/len(X_dev)\n",
    "    return accuracy"
   ]
  },
  {
   "cell_type": "code",
   "execution_count": 20,
   "metadata": {},
   "outputs": [
    {
     "data": {
      "application/vnd.jupyter.widget-view+json": {
       "model_id": "e5daf9c663ad48418954910c40853113",
       "version_major": 2,
       "version_minor": 0
      },
      "text/plain": [
       "  0%|          | 0/7056 [00:00<?, ?it/s]"
      ]
     },
     "metadata": {},
     "output_type": "display_data"
    },
    {
     "data": {
      "application/vnd.jupyter.widget-view+json": {
       "model_id": "6cbf5cd7e8ba4346b40f42cc8c54107d",
       "version_major": 2,
       "version_minor": 0
      },
      "text/plain": [
       "K MEANS CLUSTERING: k=16:   0%|          | 0/5 [00:00<?, ?it/s]"
      ]
     },
     "metadata": {},
     "output_type": "display_data"
    },
    {
     "data": {
      "application/vnd.jupyter.widget-view+json": {
       "model_id": "1eae2c028f5a4b798cca49cba102d07f",
       "version_major": 2,
       "version_minor": 0
      },
      "text/plain": [
       "GMM (EM): k=16:   0%|          | 0/5 [00:00<?, ?it/s]"
      ]
     },
     "metadata": {},
     "output_type": "display_data"
    },
    {
     "data": {
      "application/vnd.jupyter.widget-view+json": {
       "model_id": "e43424fe91604d29aaad2a5ccc05c4ef",
       "version_major": 2,
       "version_minor": 0
      },
      "text/plain": [
       "K MEANS CLUSTERING: k=16:   0%|          | 0/5 [00:00<?, ?it/s]"
      ]
     },
     "metadata": {},
     "output_type": "display_data"
    },
    {
     "data": {
      "application/vnd.jupyter.widget-view+json": {
       "model_id": "d1f20f3c3ce14d5382e8223cdf2d5032",
       "version_major": 2,
       "version_minor": 0
      },
      "text/plain": [
       "GMM (EM): k=16:   0%|          | 0/5 [00:00<?, ?it/s]"
      ]
     },
     "metadata": {},
     "output_type": "display_data"
    },
    {
     "name": "stdout",
     "output_type": "stream",
     "text": [
      "Accuracy =  98.2 %\n"
     ]
    },
    {
     "data": {
      "application/vnd.jupyter.widget-view+json": {
       "model_id": "541fa878211840ebbdb540a34e83059c",
       "version_major": 2,
       "version_minor": 0
      },
      "text/plain": [
       "K MEANS CLUSTERING: k=16:   0%|          | 0/5 [00:00<?, ?it/s]"
      ]
     },
     "metadata": {},
     "output_type": "display_data"
    },
    {
     "data": {
      "application/vnd.jupyter.widget-view+json": {
       "model_id": "3db99e261de14b35917f8a2d5c0a4c78",
       "version_major": 2,
       "version_minor": 0
      },
      "text/plain": [
       "GMM (EM): k=16:   0%|          | 0/5 [00:00<?, ?it/s]"
      ]
     },
     "metadata": {},
     "output_type": "display_data"
    },
    {
     "data": {
      "application/vnd.jupyter.widget-view+json": {
       "model_id": "7a63b5fdbacf4bde9d4830079af621ba",
       "version_major": 2,
       "version_minor": 0
      },
      "text/plain": [
       "K MEANS CLUSTERING: k=16:   0%|          | 0/5 [00:00<?, ?it/s]"
      ]
     },
     "metadata": {},
     "output_type": "display_data"
    },
    {
     "data": {
      "application/vnd.jupyter.widget-view+json": {
       "model_id": "9cdfbf0c73d542c4a688d69bccc06e5a",
       "version_major": 2,
       "version_minor": 0
      },
      "text/plain": [
       "GMM (EM): k=16:   0%|          | 0/5 [00:00<?, ?it/s]"
      ]
     },
     "metadata": {},
     "output_type": "display_data"
    },
    {
     "name": "stdout",
     "output_type": "stream",
     "text": [
      "Accuracy =  98.2 %\n"
     ]
    },
    {
     "data": {
      "application/vnd.jupyter.widget-view+json": {
       "model_id": "fff6669d675049759a29c339c0da0163",
       "version_major": 2,
       "version_minor": 0
      },
      "text/plain": [
       "K MEANS CLUSTERING: k=16:   0%|          | 0/5 [00:00<?, ?it/s]"
      ]
     },
     "metadata": {},
     "output_type": "display_data"
    },
    {
     "data": {
      "application/vnd.jupyter.widget-view+json": {
       "model_id": "790daef83a5143f5bb3f2077f60a5c7b",
       "version_major": 2,
       "version_minor": 0
      },
      "text/plain": [
       "GMM (EM): k=16:   0%|          | 0/5 [00:00<?, ?it/s]"
      ]
     },
     "metadata": {},
     "output_type": "display_data"
    },
    {
     "data": {
      "application/vnd.jupyter.widget-view+json": {
       "model_id": "0ae087bbe9fc4f598b4690f9e2ed7a62",
       "version_major": 2,
       "version_minor": 0
      },
      "text/plain": [
       "K MEANS CLUSTERING: k=16:   0%|          | 0/5 [00:00<?, ?it/s]"
      ]
     },
     "metadata": {},
     "output_type": "display_data"
    },
    {
     "data": {
      "application/vnd.jupyter.widget-view+json": {
       "model_id": "a5448529ef4b4d03a08b453b2ca7d3fd",
       "version_major": 2,
       "version_minor": 0
      },
      "text/plain": [
       "GMM (EM): k=16:   0%|          | 0/5 [00:00<?, ?it/s]"
      ]
     },
     "metadata": {},
     "output_type": "display_data"
    },
    {
     "name": "stdout",
     "output_type": "stream",
     "text": [
      "Accuracy =  98.2 %\n"
     ]
    },
    {
     "data": {
      "application/vnd.jupyter.widget-view+json": {
       "model_id": "71789f5bd011419eb7139eccad0e608e",
       "version_major": 2,
       "version_minor": 0
      },
      "text/plain": [
       "K MEANS CLUSTERING: k=16:   0%|          | 0/5 [00:00<?, ?it/s]"
      ]
     },
     "metadata": {},
     "output_type": "display_data"
    },
    {
     "data": {
      "application/vnd.jupyter.widget-view+json": {
       "model_id": "534d592559e842cf95da77e1ad4202e6",
       "version_major": 2,
       "version_minor": 0
      },
      "text/plain": [
       "GMM (EM): k=16:   0%|          | 0/5 [00:00<?, ?it/s]"
      ]
     },
     "metadata": {},
     "output_type": "display_data"
    },
    {
     "data": {
      "application/vnd.jupyter.widget-view+json": {
       "model_id": "440f321fe3964277a211a6cc1de483d0",
       "version_major": 2,
       "version_minor": 0
      },
      "text/plain": [
       "K MEANS CLUSTERING: k=16:   0%|          | 0/5 [00:00<?, ?it/s]"
      ]
     },
     "metadata": {},
     "output_type": "display_data"
    },
    {
     "data": {
      "application/vnd.jupyter.widget-view+json": {
       "model_id": "5a1c3acd14404eed9d116456f957809d",
       "version_major": 2,
       "version_minor": 0
      },
      "text/plain": [
       "GMM (EM): k=16:   0%|          | 0/5 [00:00<?, ?it/s]"
      ]
     },
     "metadata": {},
     "output_type": "display_data"
    },
    {
     "name": "stdout",
     "output_type": "stream",
     "text": [
      "Accuracy =  98.2 %\n"
     ]
    },
    {
     "data": {
      "application/vnd.jupyter.widget-view+json": {
       "model_id": "bec5cebe58904a24aa920203c0e9c871",
       "version_major": 2,
       "version_minor": 0
      },
      "text/plain": [
       "K MEANS CLUSTERING: k=16:   0%|          | 0/5 [00:00<?, ?it/s]"
      ]
     },
     "metadata": {},
     "output_type": "display_data"
    },
    {
     "data": {
      "application/vnd.jupyter.widget-view+json": {
       "model_id": "77bfe5adaaa84e529b75d62fb0c60aa9",
       "version_major": 2,
       "version_minor": 0
      },
      "text/plain": [
       "GMM (EM): k=16:   0%|          | 0/5 [00:00<?, ?it/s]"
      ]
     },
     "metadata": {},
     "output_type": "display_data"
    },
    {
     "data": {
      "application/vnd.jupyter.widget-view+json": {
       "model_id": "bc7bc08de9f647af962a5609d0ff6ee2",
       "version_major": 2,
       "version_minor": 0
      },
      "text/plain": [
       "K MEANS CLUSTERING: k=16:   0%|          | 0/5 [00:00<?, ?it/s]"
      ]
     },
     "metadata": {},
     "output_type": "display_data"
    },
    {
     "data": {
      "application/vnd.jupyter.widget-view+json": {
       "model_id": "09b0fea1ee17400489df7107ea2618e7",
       "version_major": 2,
       "version_minor": 0
      },
      "text/plain": [
       "GMM (EM): k=16:   0%|          | 0/5 [00:00<?, ?it/s]"
      ]
     },
     "metadata": {},
     "output_type": "display_data"
    },
    {
     "name": "stdout",
     "output_type": "stream",
     "text": [
      "Accuracy =  98.2 %\n"
     ]
    },
    {
     "data": {
      "application/vnd.jupyter.widget-view+json": {
       "model_id": "3b7114f3ab8e478da91fb445b1f4da92",
       "version_major": 2,
       "version_minor": 0
      },
      "text/plain": [
       "K MEANS CLUSTERING: k=16:   0%|          | 0/5 [00:00<?, ?it/s]"
      ]
     },
     "metadata": {},
     "output_type": "display_data"
    },
    {
     "data": {
      "application/vnd.jupyter.widget-view+json": {
       "model_id": "c49af4714e46471eb5807859c8e3c488",
       "version_major": 2,
       "version_minor": 0
      },
      "text/plain": [
       "GMM (EM): k=16:   0%|          | 0/5 [00:00<?, ?it/s]"
      ]
     },
     "metadata": {},
     "output_type": "display_data"
    },
    {
     "data": {
      "application/vnd.jupyter.widget-view+json": {
       "model_id": "b4ce08cbe49648abac38a518242443ea",
       "version_major": 2,
       "version_minor": 0
      },
      "text/plain": [
       "K MEANS CLUSTERING: k=16:   0%|          | 0/5 [00:00<?, ?it/s]"
      ]
     },
     "metadata": {},
     "output_type": "display_data"
    },
    {
     "data": {
      "application/vnd.jupyter.widget-view+json": {
       "model_id": "35cb00c97896467c929602a96594da3f",
       "version_major": 2,
       "version_minor": 0
      },
      "text/plain": [
       "GMM (EM): k=16:   0%|          | 0/5 [00:00<?, ?it/s]"
      ]
     },
     "metadata": {},
     "output_type": "display_data"
    },
    {
     "name": "stdout",
     "output_type": "stream",
     "text": [
      "Accuracy =  98.2 %\n"
     ]
    },
    {
     "data": {
      "application/vnd.jupyter.widget-view+json": {
       "model_id": "30a914abc41343e9b5df76dfbdb400c4",
       "version_major": 2,
       "version_minor": 0
      },
      "text/plain": [
       "K MEANS CLUSTERING: k=16:   0%|          | 0/10 [00:00<?, ?it/s]"
      ]
     },
     "metadata": {},
     "output_type": "display_data"
    },
    {
     "data": {
      "application/vnd.jupyter.widget-view+json": {
       "model_id": "78494a2579c842d5ab9243f8a7d21f27",
       "version_major": 2,
       "version_minor": 0
      },
      "text/plain": [
       "GMM (EM): k=16:   0%|          | 0/10 [00:00<?, ?it/s]"
      ]
     },
     "metadata": {},
     "output_type": "display_data"
    },
    {
     "data": {
      "application/vnd.jupyter.widget-view+json": {
       "model_id": "7f4e533e78824991a3c25e6f8a861cba",
       "version_major": 2,
       "version_minor": 0
      },
      "text/plain": [
       "K MEANS CLUSTERING: k=16:   0%|          | 0/10 [00:00<?, ?it/s]"
      ]
     },
     "metadata": {},
     "output_type": "display_data"
    },
    {
     "data": {
      "application/vnd.jupyter.widget-view+json": {
       "model_id": "dcd6bcfcb8b54d3189cd756e728c4e7d",
       "version_major": 2,
       "version_minor": 0
      },
      "text/plain": [
       "GMM (EM): k=16:   0%|          | 0/10 [00:00<?, ?it/s]"
      ]
     },
     "metadata": {},
     "output_type": "display_data"
    },
    {
     "name": "stdout",
     "output_type": "stream",
     "text": [
      "Accuracy =  100.0 %\n"
     ]
    },
    {
     "data": {
      "application/vnd.jupyter.widget-view+json": {
       "model_id": "7699c6b55c9f4651ab60d0cbd24485ef",
       "version_major": 2,
       "version_minor": 0
      },
      "text/plain": [
       "K MEANS CLUSTERING: k=16:   0%|          | 0/10 [00:00<?, ?it/s]"
      ]
     },
     "metadata": {},
     "output_type": "display_data"
    },
    {
     "data": {
      "application/vnd.jupyter.widget-view+json": {
       "model_id": "149adc47f4324de7b36ca27d6143b70d",
       "version_major": 2,
       "version_minor": 0
      },
      "text/plain": [
       "GMM (EM): k=16:   0%|          | 0/10 [00:00<?, ?it/s]"
      ]
     },
     "metadata": {},
     "output_type": "display_data"
    },
    {
     "data": {
      "application/vnd.jupyter.widget-view+json": {
       "model_id": "d2739f47584745af937286804be2dcab",
       "version_major": 2,
       "version_minor": 0
      },
      "text/plain": [
       "K MEANS CLUSTERING: k=16:   0%|          | 0/10 [00:00<?, ?it/s]"
      ]
     },
     "metadata": {},
     "output_type": "display_data"
    },
    {
     "data": {
      "application/vnd.jupyter.widget-view+json": {
       "model_id": "dfa741aecc2f4b8583723bb50c0aa4e1",
       "version_major": 2,
       "version_minor": 0
      },
      "text/plain": [
       "GMM (EM): k=16:   0%|          | 0/10 [00:00<?, ?it/s]"
      ]
     },
     "metadata": {},
     "output_type": "display_data"
    },
    {
     "name": "stdout",
     "output_type": "stream",
     "text": [
      "Accuracy =  100.0 %\n"
     ]
    },
    {
     "data": {
      "application/vnd.jupyter.widget-view+json": {
       "model_id": "a514d1d0b7fc47ae96a19a94b6ab823b",
       "version_major": 2,
       "version_minor": 0
      },
      "text/plain": [
       "K MEANS CLUSTERING: k=16:   0%|          | 0/10 [00:00<?, ?it/s]"
      ]
     },
     "metadata": {},
     "output_type": "display_data"
    },
    {
     "data": {
      "application/vnd.jupyter.widget-view+json": {
       "model_id": "939a9862073d431bb3229e39ebd4e4b0",
       "version_major": 2,
       "version_minor": 0
      },
      "text/plain": [
       "GMM (EM): k=16:   0%|          | 0/10 [00:00<?, ?it/s]"
      ]
     },
     "metadata": {},
     "output_type": "display_data"
    },
    {
     "data": {
      "application/vnd.jupyter.widget-view+json": {
       "model_id": "57b0e4184951404a8f153e01033ebc08",
       "version_major": 2,
       "version_minor": 0
      },
      "text/plain": [
       "K MEANS CLUSTERING: k=16:   0%|          | 0/10 [00:00<?, ?it/s]"
      ]
     },
     "metadata": {},
     "output_type": "display_data"
    },
    {
     "data": {
      "application/vnd.jupyter.widget-view+json": {
       "model_id": "721bda878ab54a43a9275222e026eaec",
       "version_major": 2,
       "version_minor": 0
      },
      "text/plain": [
       "GMM (EM): k=16:   0%|          | 0/10 [00:00<?, ?it/s]"
      ]
     },
     "metadata": {},
     "output_type": "display_data"
    },
    {
     "name": "stdout",
     "output_type": "stream",
     "text": [
      "Accuracy =  100.0 %\n"
     ]
    },
    {
     "data": {
      "application/vnd.jupyter.widget-view+json": {
       "model_id": "c9974f975e1a417599d49cf67777ec1e",
       "version_major": 2,
       "version_minor": 0
      },
      "text/plain": [
       "K MEANS CLUSTERING: k=16:   0%|          | 0/10 [00:00<?, ?it/s]"
      ]
     },
     "metadata": {},
     "output_type": "display_data"
    },
    {
     "data": {
      "application/vnd.jupyter.widget-view+json": {
       "model_id": "378d879d2d074e608e76b3accaa74da3",
       "version_major": 2,
       "version_minor": 0
      },
      "text/plain": [
       "GMM (EM): k=16:   0%|          | 0/10 [00:00<?, ?it/s]"
      ]
     },
     "metadata": {},
     "output_type": "display_data"
    },
    {
     "data": {
      "application/vnd.jupyter.widget-view+json": {
       "model_id": "830d5a417e7740d6a14d87a880b24f70",
       "version_major": 2,
       "version_minor": 0
      },
      "text/plain": [
       "K MEANS CLUSTERING: k=16:   0%|          | 0/10 [00:00<?, ?it/s]"
      ]
     },
     "metadata": {},
     "output_type": "display_data"
    },
    {
     "data": {
      "application/vnd.jupyter.widget-view+json": {
       "model_id": "b58ecbb63ee0415badaf549c8f8ea0ea",
       "version_major": 2,
       "version_minor": 0
      },
      "text/plain": [
       "GMM (EM): k=16:   0%|          | 0/10 [00:00<?, ?it/s]"
      ]
     },
     "metadata": {},
     "output_type": "display_data"
    },
    {
     "name": "stdout",
     "output_type": "stream",
     "text": [
      "Accuracy =  100.0 %\n"
     ]
    },
    {
     "data": {
      "application/vnd.jupyter.widget-view+json": {
       "model_id": "44e58dc41f9c4833877fd5e0f71675f6",
       "version_major": 2,
       "version_minor": 0
      },
      "text/plain": [
       "K MEANS CLUSTERING: k=16:   0%|          | 0/10 [00:00<?, ?it/s]"
      ]
     },
     "metadata": {},
     "output_type": "display_data"
    },
    {
     "data": {
      "application/vnd.jupyter.widget-view+json": {
       "model_id": "8f913dca7ffc4a4487dd7053936c4f3e",
       "version_major": 2,
       "version_minor": 0
      },
      "text/plain": [
       "GMM (EM): k=16:   0%|          | 0/10 [00:00<?, ?it/s]"
      ]
     },
     "metadata": {},
     "output_type": "display_data"
    },
    {
     "data": {
      "application/vnd.jupyter.widget-view+json": {
       "model_id": "95ccd8b1bbfe479bb1b9bd80a4608229",
       "version_major": 2,
       "version_minor": 0
      },
      "text/plain": [
       "K MEANS CLUSTERING: k=16:   0%|          | 0/10 [00:00<?, ?it/s]"
      ]
     },
     "metadata": {},
     "output_type": "display_data"
    },
    {
     "data": {
      "application/vnd.jupyter.widget-view+json": {
       "model_id": "63f334ed9dd04bed85918268f63fbaef",
       "version_major": 2,
       "version_minor": 0
      },
      "text/plain": [
       "GMM (EM): k=16:   0%|          | 0/10 [00:00<?, ?it/s]"
      ]
     },
     "metadata": {},
     "output_type": "display_data"
    },
    {
     "name": "stdout",
     "output_type": "stream",
     "text": [
      "Accuracy =  100.0 %\n"
     ]
    },
    {
     "data": {
      "application/vnd.jupyter.widget-view+json": {
       "model_id": "ba70b229e00243b4a142dd832954790a",
       "version_major": 2,
       "version_minor": 0
      },
      "text/plain": [
       "K MEANS CLUSTERING: k=16:   0%|          | 0/10 [00:00<?, ?it/s]"
      ]
     },
     "metadata": {},
     "output_type": "display_data"
    },
    {
     "data": {
      "application/vnd.jupyter.widget-view+json": {
       "model_id": "240d0b93762f48be9d6b37713e9f373a",
       "version_major": 2,
       "version_minor": 0
      },
      "text/plain": [
       "GMM (EM): k=16:   0%|          | 0/10 [00:00<?, ?it/s]"
      ]
     },
     "metadata": {},
     "output_type": "display_data"
    },
    {
     "data": {
      "application/vnd.jupyter.widget-view+json": {
       "model_id": "ecba4b42f74740b0b5533946b4dfd192",
       "version_major": 2,
       "version_minor": 0
      },
      "text/plain": [
       "K MEANS CLUSTERING: k=16:   0%|          | 0/10 [00:00<?, ?it/s]"
      ]
     },
     "metadata": {},
     "output_type": "display_data"
    },
    {
     "data": {
      "application/vnd.jupyter.widget-view+json": {
       "model_id": "15f1efd892ac4706b03e95ccee182a74",
       "version_major": 2,
       "version_minor": 0
      },
      "text/plain": [
       "GMM (EM): k=16:   0%|          | 0/10 [00:00<?, ?it/s]"
      ]
     },
     "metadata": {},
     "output_type": "display_data"
    },
    {
     "name": "stdout",
     "output_type": "stream",
     "text": [
      "Accuracy =  100.0 %\n"
     ]
    },
    {
     "data": {
      "application/vnd.jupyter.widget-view+json": {
       "model_id": "2633dfa78060475ea447684a75a066d9",
       "version_major": 2,
       "version_minor": 0
      },
      "text/plain": [
       "K MEANS CLUSTERING: k=16:   0%|          | 0/15 [00:00<?, ?it/s]"
      ]
     },
     "metadata": {},
     "output_type": "display_data"
    },
    {
     "data": {
      "application/vnd.jupyter.widget-view+json": {
       "model_id": "f78b6927b10c4fdfa7125b3a8cfd4f30",
       "version_major": 2,
       "version_minor": 0
      },
      "text/plain": [
       "GMM (EM): k=16:   0%|          | 0/15 [00:00<?, ?it/s]"
      ]
     },
     "metadata": {},
     "output_type": "display_data"
    },
    {
     "data": {
      "application/vnd.jupyter.widget-view+json": {
       "model_id": "4e8eff316a524b959fee160ef14b8da7",
       "version_major": 2,
       "version_minor": 0
      },
      "text/plain": [
       "K MEANS CLUSTERING: k=16:   0%|          | 0/15 [00:00<?, ?it/s]"
      ]
     },
     "metadata": {},
     "output_type": "display_data"
    },
    {
     "data": {
      "application/vnd.jupyter.widget-view+json": {
       "model_id": "dff9cf0640c34f60a6959e7fcce1ba63",
       "version_major": 2,
       "version_minor": 0
      },
      "text/plain": [
       "GMM (EM): k=16:   0%|          | 0/15 [00:00<?, ?it/s]"
      ]
     },
     "metadata": {},
     "output_type": "display_data"
    },
    {
     "name": "stdout",
     "output_type": "stream",
     "text": [
      "Accuracy =  100.0 %\n"
     ]
    },
    {
     "data": {
      "application/vnd.jupyter.widget-view+json": {
       "model_id": "fecbbc6b0e1f4313b9d42e289c4daa6e",
       "version_major": 2,
       "version_minor": 0
      },
      "text/plain": [
       "K MEANS CLUSTERING: k=16:   0%|          | 0/15 [00:00<?, ?it/s]"
      ]
     },
     "metadata": {},
     "output_type": "display_data"
    },
    {
     "data": {
      "application/vnd.jupyter.widget-view+json": {
       "model_id": "181db4c1b90c4fdb9aeb09b03c061445",
       "version_major": 2,
       "version_minor": 0
      },
      "text/plain": [
       "GMM (EM): k=16:   0%|          | 0/15 [00:00<?, ?it/s]"
      ]
     },
     "metadata": {},
     "output_type": "display_data"
    },
    {
     "data": {
      "application/vnd.jupyter.widget-view+json": {
       "model_id": "47110632c7a8438f86376f9fe313af37",
       "version_major": 2,
       "version_minor": 0
      },
      "text/plain": [
       "K MEANS CLUSTERING: k=16:   0%|          | 0/15 [00:00<?, ?it/s]"
      ]
     },
     "metadata": {},
     "output_type": "display_data"
    },
    {
     "data": {
      "application/vnd.jupyter.widget-view+json": {
       "model_id": "e5dfadd7561b487aa65459bf1d4f26e0",
       "version_major": 2,
       "version_minor": 0
      },
      "text/plain": [
       "GMM (EM): k=16:   0%|          | 0/15 [00:00<?, ?it/s]"
      ]
     },
     "metadata": {},
     "output_type": "display_data"
    },
    {
     "name": "stdout",
     "output_type": "stream",
     "text": [
      "Accuracy =  100.0 %\n"
     ]
    },
    {
     "data": {
      "application/vnd.jupyter.widget-view+json": {
       "model_id": "c6dec3fb1247499ea8a35dcbb50d8703",
       "version_major": 2,
       "version_minor": 0
      },
      "text/plain": [
       "K MEANS CLUSTERING: k=16:   0%|          | 0/15 [00:00<?, ?it/s]"
      ]
     },
     "metadata": {},
     "output_type": "display_data"
    },
    {
     "data": {
      "application/vnd.jupyter.widget-view+json": {
       "model_id": "32e4d1ce1b394695b782ef95fc0be8c5",
       "version_major": 2,
       "version_minor": 0
      },
      "text/plain": [
       "GMM (EM): k=16:   0%|          | 0/15 [00:00<?, ?it/s]"
      ]
     },
     "metadata": {},
     "output_type": "display_data"
    },
    {
     "data": {
      "application/vnd.jupyter.widget-view+json": {
       "model_id": "83b3a1dea0724f919f493b30f21ade52",
       "version_major": 2,
       "version_minor": 0
      },
      "text/plain": [
       "K MEANS CLUSTERING: k=16:   0%|          | 0/15 [00:00<?, ?it/s]"
      ]
     },
     "metadata": {},
     "output_type": "display_data"
    },
    {
     "data": {
      "application/vnd.jupyter.widget-view+json": {
       "model_id": "f10523cf264a46a48a1956f15626df50",
       "version_major": 2,
       "version_minor": 0
      },
      "text/plain": [
       "GMM (EM): k=16:   0%|          | 0/15 [00:00<?, ?it/s]"
      ]
     },
     "metadata": {},
     "output_type": "display_data"
    },
    {
     "name": "stdout",
     "output_type": "stream",
     "text": [
      "Accuracy =  100.0 %\n"
     ]
    },
    {
     "data": {
      "application/vnd.jupyter.widget-view+json": {
       "model_id": "aad23d9a3753404b958e4c95a967a914",
       "version_major": 2,
       "version_minor": 0
      },
      "text/plain": [
       "K MEANS CLUSTERING: k=16:   0%|          | 0/15 [00:00<?, ?it/s]"
      ]
     },
     "metadata": {},
     "output_type": "display_data"
    },
    {
     "data": {
      "application/vnd.jupyter.widget-view+json": {
       "model_id": "345a8a2a17b3470ca2a3a641949149b7",
       "version_major": 2,
       "version_minor": 0
      },
      "text/plain": [
       "GMM (EM): k=16:   0%|          | 0/15 [00:00<?, ?it/s]"
      ]
     },
     "metadata": {},
     "output_type": "display_data"
    },
    {
     "data": {
      "application/vnd.jupyter.widget-view+json": {
       "model_id": "8eb07634242e45c688056d2e3cb55e28",
       "version_major": 2,
       "version_minor": 0
      },
      "text/plain": [
       "K MEANS CLUSTERING: k=16:   0%|          | 0/15 [00:00<?, ?it/s]"
      ]
     },
     "metadata": {},
     "output_type": "display_data"
    },
    {
     "data": {
      "application/vnd.jupyter.widget-view+json": {
       "model_id": "97925ea5e77e4a678c5c302c109feb8c",
       "version_major": 2,
       "version_minor": 0
      },
      "text/plain": [
       "GMM (EM): k=16:   0%|          | 0/15 [00:00<?, ?it/s]"
      ]
     },
     "metadata": {},
     "output_type": "display_data"
    },
    {
     "name": "stdout",
     "output_type": "stream",
     "text": [
      "Accuracy =  100.0 %\n"
     ]
    },
    {
     "data": {
      "application/vnd.jupyter.widget-view+json": {
       "model_id": "7220687962f4435780d49d4db153505d",
       "version_major": 2,
       "version_minor": 0
      },
      "text/plain": [
       "K MEANS CLUSTERING: k=16:   0%|          | 0/15 [00:00<?, ?it/s]"
      ]
     },
     "metadata": {},
     "output_type": "display_data"
    },
    {
     "data": {
      "application/vnd.jupyter.widget-view+json": {
       "model_id": "79ed588771a94a1a9c6e8885bcf1adf6",
       "version_major": 2,
       "version_minor": 0
      },
      "text/plain": [
       "GMM (EM): k=16:   0%|          | 0/15 [00:00<?, ?it/s]"
      ]
     },
     "metadata": {},
     "output_type": "display_data"
    },
    {
     "data": {
      "application/vnd.jupyter.widget-view+json": {
       "model_id": "1a0971cf8d0642f69f4c8c48bdd025b1",
       "version_major": 2,
       "version_minor": 0
      },
      "text/plain": [
       "K MEANS CLUSTERING: k=16:   0%|          | 0/15 [00:00<?, ?it/s]"
      ]
     },
     "metadata": {},
     "output_type": "display_data"
    },
    {
     "data": {
      "application/vnd.jupyter.widget-view+json": {
       "model_id": "2b49d04cd91a4b54b1f7a504045876fd",
       "version_major": 2,
       "version_minor": 0
      },
      "text/plain": [
       "GMM (EM): k=16:   0%|          | 0/15 [00:00<?, ?it/s]"
      ]
     },
     "metadata": {},
     "output_type": "display_data"
    },
    {
     "name": "stdout",
     "output_type": "stream",
     "text": [
      "Accuracy =  100.0 %\n"
     ]
    },
    {
     "data": {
      "application/vnd.jupyter.widget-view+json": {
       "model_id": "f1af2ec11e1f4a45b0afb8fa3f7225e2",
       "version_major": 2,
       "version_minor": 0
      },
      "text/plain": [
       "K MEANS CLUSTERING: k=16:   0%|          | 0/15 [00:00<?, ?it/s]"
      ]
     },
     "metadata": {},
     "output_type": "display_data"
    },
    {
     "data": {
      "application/vnd.jupyter.widget-view+json": {
       "model_id": "b430a13672634be78ad7870ce2841cad",
       "version_major": 2,
       "version_minor": 0
      },
      "text/plain": [
       "GMM (EM): k=16:   0%|          | 0/15 [00:00<?, ?it/s]"
      ]
     },
     "metadata": {},
     "output_type": "display_data"
    },
    {
     "data": {
      "application/vnd.jupyter.widget-view+json": {
       "model_id": "b4a1aa9eeebe40589d7e7b147cfaaab3",
       "version_major": 2,
       "version_minor": 0
      },
      "text/plain": [
       "K MEANS CLUSTERING: k=16:   0%|          | 0/15 [00:00<?, ?it/s]"
      ]
     },
     "metadata": {},
     "output_type": "display_data"
    },
    {
     "data": {
      "application/vnd.jupyter.widget-view+json": {
       "model_id": "a523a772ccc4444699a0304de8e8cc92",
       "version_major": 2,
       "version_minor": 0
      },
      "text/plain": [
       "GMM (EM): k=16:   0%|          | 0/15 [00:00<?, ?it/s]"
      ]
     },
     "metadata": {},
     "output_type": "display_data"
    },
    {
     "name": "stdout",
     "output_type": "stream",
     "text": [
      "Accuracy =  100.0 %\n"
     ]
    },
    {
     "data": {
      "application/vnd.jupyter.widget-view+json": {
       "model_id": "e580fa81f71a495e936c55fe7c131d5b",
       "version_major": 2,
       "version_minor": 0
      },
      "text/plain": [
       "K MEANS CLUSTERING: k=16:   0%|          | 0/20 [00:00<?, ?it/s]"
      ]
     },
     "metadata": {},
     "output_type": "display_data"
    },
    {
     "data": {
      "application/vnd.jupyter.widget-view+json": {
       "model_id": "453182c68600402da61c30ef6e1f9589",
       "version_major": 2,
       "version_minor": 0
      },
      "text/plain": [
       "GMM (EM): k=16:   0%|          | 0/20 [00:00<?, ?it/s]"
      ]
     },
     "metadata": {},
     "output_type": "display_data"
    },
    {
     "data": {
      "application/vnd.jupyter.widget-view+json": {
       "model_id": "977fb60ced394beb83a9485f4c389c57",
       "version_major": 2,
       "version_minor": 0
      },
      "text/plain": [
       "K MEANS CLUSTERING: k=16:   0%|          | 0/20 [00:00<?, ?it/s]"
      ]
     },
     "metadata": {},
     "output_type": "display_data"
    },
    {
     "data": {
      "application/vnd.jupyter.widget-view+json": {
       "model_id": "061b5c1177104e9fa90ec4b1dd85b617",
       "version_major": 2,
       "version_minor": 0
      },
      "text/plain": [
       "GMM (EM): k=16:   0%|          | 0/20 [00:00<?, ?it/s]"
      ]
     },
     "metadata": {},
     "output_type": "display_data"
    },
    {
     "name": "stdout",
     "output_type": "stream",
     "text": [
      "Accuracy =  100.0 %\n"
     ]
    },
    {
     "data": {
      "application/vnd.jupyter.widget-view+json": {
       "model_id": "f7319c34a31d49d88e18e696abb5b323",
       "version_major": 2,
       "version_minor": 0
      },
      "text/plain": [
       "K MEANS CLUSTERING: k=16:   0%|          | 0/20 [00:00<?, ?it/s]"
      ]
     },
     "metadata": {},
     "output_type": "display_data"
    },
    {
     "data": {
      "application/vnd.jupyter.widget-view+json": {
       "model_id": "70345bf1bc264a9ebf68c272d8a34abd",
       "version_major": 2,
       "version_minor": 0
      },
      "text/plain": [
       "GMM (EM): k=16:   0%|          | 0/20 [00:00<?, ?it/s]"
      ]
     },
     "metadata": {},
     "output_type": "display_data"
    },
    {
     "data": {
      "application/vnd.jupyter.widget-view+json": {
       "model_id": "d3392bd7de5343869c9f9041d6c14921",
       "version_major": 2,
       "version_minor": 0
      },
      "text/plain": [
       "K MEANS CLUSTERING: k=16:   0%|          | 0/20 [00:00<?, ?it/s]"
      ]
     },
     "metadata": {},
     "output_type": "display_data"
    },
    {
     "data": {
      "application/vnd.jupyter.widget-view+json": {
       "model_id": "8ef416627a7e4ba8a8892d67a407528e",
       "version_major": 2,
       "version_minor": 0
      },
      "text/plain": [
       "GMM (EM): k=16:   0%|          | 0/20 [00:00<?, ?it/s]"
      ]
     },
     "metadata": {},
     "output_type": "display_data"
    },
    {
     "name": "stdout",
     "output_type": "stream",
     "text": [
      "Accuracy =  100.0 %\n"
     ]
    },
    {
     "data": {
      "application/vnd.jupyter.widget-view+json": {
       "model_id": "0437fe00162c40598777fbd98f8dcba5",
       "version_major": 2,
       "version_minor": 0
      },
      "text/plain": [
       "K MEANS CLUSTERING: k=16:   0%|          | 0/20 [00:00<?, ?it/s]"
      ]
     },
     "metadata": {},
     "output_type": "display_data"
    },
    {
     "data": {
      "application/vnd.jupyter.widget-view+json": {
       "model_id": "6ca10b0454384df3b1f4a13a54d7c24f",
       "version_major": 2,
       "version_minor": 0
      },
      "text/plain": [
       "GMM (EM): k=16:   0%|          | 0/20 [00:00<?, ?it/s]"
      ]
     },
     "metadata": {},
     "output_type": "display_data"
    },
    {
     "data": {
      "application/vnd.jupyter.widget-view+json": {
       "model_id": "149fda1ecae9495789a6e81b80d90036",
       "version_major": 2,
       "version_minor": 0
      },
      "text/plain": [
       "K MEANS CLUSTERING: k=16:   0%|          | 0/20 [00:00<?, ?it/s]"
      ]
     },
     "metadata": {},
     "output_type": "display_data"
    },
    {
     "data": {
      "application/vnd.jupyter.widget-view+json": {
       "model_id": "d35cf4e574e1403081eea4ac4a54cfe5",
       "version_major": 2,
       "version_minor": 0
      },
      "text/plain": [
       "GMM (EM): k=16:   0%|          | 0/20 [00:00<?, ?it/s]"
      ]
     },
     "metadata": {},
     "output_type": "display_data"
    },
    {
     "name": "stdout",
     "output_type": "stream",
     "text": [
      "Accuracy =  100.0 %\n"
     ]
    },
    {
     "data": {
      "application/vnd.jupyter.widget-view+json": {
       "model_id": "26a4ec6f3db54e3b9585db455832fdf3",
       "version_major": 2,
       "version_minor": 0
      },
      "text/plain": [
       "K MEANS CLUSTERING: k=16:   0%|          | 0/20 [00:00<?, ?it/s]"
      ]
     },
     "metadata": {},
     "output_type": "display_data"
    },
    {
     "data": {
      "application/vnd.jupyter.widget-view+json": {
       "model_id": "6e7d7edce75e4ee7963c886828bc7fa4",
       "version_major": 2,
       "version_minor": 0
      },
      "text/plain": [
       "GMM (EM): k=16:   0%|          | 0/20 [00:00<?, ?it/s]"
      ]
     },
     "metadata": {},
     "output_type": "display_data"
    },
    {
     "data": {
      "application/vnd.jupyter.widget-view+json": {
       "model_id": "a0b5df01e6654ff0a1510bb5eeca80a7",
       "version_major": 2,
       "version_minor": 0
      },
      "text/plain": [
       "K MEANS CLUSTERING: k=16:   0%|          | 0/20 [00:00<?, ?it/s]"
      ]
     },
     "metadata": {},
     "output_type": "display_data"
    },
    {
     "data": {
      "application/vnd.jupyter.widget-view+json": {
       "model_id": "a70388f14b8f43809e19acfa44fe028b",
       "version_major": 2,
       "version_minor": 0
      },
      "text/plain": [
       "GMM (EM): k=16:   0%|          | 0/20 [00:00<?, ?it/s]"
      ]
     },
     "metadata": {},
     "output_type": "display_data"
    },
    {
     "name": "stdout",
     "output_type": "stream",
     "text": [
      "Accuracy =  100.0 %\n"
     ]
    },
    {
     "data": {
      "application/vnd.jupyter.widget-view+json": {
       "model_id": "646a5ab4e8d241b5ab66c71689c2bc4b",
       "version_major": 2,
       "version_minor": 0
      },
      "text/plain": [
       "K MEANS CLUSTERING: k=16:   0%|          | 0/20 [00:00<?, ?it/s]"
      ]
     },
     "metadata": {},
     "output_type": "display_data"
    },
    {
     "data": {
      "application/vnd.jupyter.widget-view+json": {
       "model_id": "dd5a232bccb94891a8377b8514a857d4",
       "version_major": 2,
       "version_minor": 0
      },
      "text/plain": [
       "GMM (EM): k=16:   0%|          | 0/20 [00:00<?, ?it/s]"
      ]
     },
     "metadata": {},
     "output_type": "display_data"
    },
    {
     "data": {
      "application/vnd.jupyter.widget-view+json": {
       "model_id": "5966e8e96a374cdca63cda55da93977a",
       "version_major": 2,
       "version_minor": 0
      },
      "text/plain": [
       "K MEANS CLUSTERING: k=16:   0%|          | 0/20 [00:00<?, ?it/s]"
      ]
     },
     "metadata": {},
     "output_type": "display_data"
    },
    {
     "data": {
      "application/vnd.jupyter.widget-view+json": {
       "model_id": "4b6e4ff547da4c848b35d0fa9f82c817",
       "version_major": 2,
       "version_minor": 0
      },
      "text/plain": [
       "GMM (EM): k=16:   0%|          | 0/20 [00:00<?, ?it/s]"
      ]
     },
     "metadata": {},
     "output_type": "display_data"
    },
    {
     "name": "stdout",
     "output_type": "stream",
     "text": [
      "Accuracy =  100.0 %\n"
     ]
    },
    {
     "data": {
      "application/vnd.jupyter.widget-view+json": {
       "model_id": "f709879410ec4566a2aa502a7b243952",
       "version_major": 2,
       "version_minor": 0
      },
      "text/plain": [
       "K MEANS CLUSTERING: k=16:   0%|          | 0/20 [00:00<?, ?it/s]"
      ]
     },
     "metadata": {},
     "output_type": "display_data"
    },
    {
     "data": {
      "application/vnd.jupyter.widget-view+json": {
       "model_id": "78bdde3e2c7a446a9d5e2d77c2c8e6f4",
       "version_major": 2,
       "version_minor": 0
      },
      "text/plain": [
       "GMM (EM): k=16:   0%|          | 0/20 [00:00<?, ?it/s]"
      ]
     },
     "metadata": {},
     "output_type": "display_data"
    },
    {
     "data": {
      "application/vnd.jupyter.widget-view+json": {
       "model_id": "a6ea8cbb6b374752b42739b74e7d3f04",
       "version_major": 2,
       "version_minor": 0
      },
      "text/plain": [
       "K MEANS CLUSTERING: k=16:   0%|          | 0/20 [00:00<?, ?it/s]"
      ]
     },
     "metadata": {},
     "output_type": "display_data"
    },
    {
     "data": {
      "application/vnd.jupyter.widget-view+json": {
       "model_id": "b1e623eba17849cfa2c2d3ed00a0d25d",
       "version_major": 2,
       "version_minor": 0
      },
      "text/plain": [
       "GMM (EM): k=16:   0%|          | 0/20 [00:00<?, ?it/s]"
      ]
     },
     "metadata": {},
     "output_type": "display_data"
    },
    {
     "name": "stdout",
     "output_type": "stream",
     "text": [
      "Accuracy =  100.0 %\n"
     ]
    },
    {
     "data": {
      "application/vnd.jupyter.widget-view+json": {
       "model_id": "4f7b379c44e941359ea6e4018c2260e4",
       "version_major": 2,
       "version_minor": 0
      },
      "text/plain": [
       "K MEANS CLUSTERING: k=16:   0%|          | 0/25 [00:00<?, ?it/s]"
      ]
     },
     "metadata": {},
     "output_type": "display_data"
    },
    {
     "data": {
      "application/vnd.jupyter.widget-view+json": {
       "model_id": "d3e3fe8584de4b8ea4545e7597b841a0",
       "version_major": 2,
       "version_minor": 0
      },
      "text/plain": [
       "GMM (EM): k=16:   0%|          | 0/25 [00:00<?, ?it/s]"
      ]
     },
     "metadata": {},
     "output_type": "display_data"
    },
    {
     "data": {
      "application/vnd.jupyter.widget-view+json": {
       "model_id": "5aa9454144ff426e9e201004049d73ad",
       "version_major": 2,
       "version_minor": 0
      },
      "text/plain": [
       "K MEANS CLUSTERING: k=16:   0%|          | 0/25 [00:00<?, ?it/s]"
      ]
     },
     "metadata": {},
     "output_type": "display_data"
    },
    {
     "data": {
      "application/vnd.jupyter.widget-view+json": {
       "model_id": "acd6643eb56740acbc39012062d2ec8c",
       "version_major": 2,
       "version_minor": 0
      },
      "text/plain": [
       "GMM (EM): k=16:   0%|          | 0/25 [00:00<?, ?it/s]"
      ]
     },
     "metadata": {},
     "output_type": "display_data"
    },
    {
     "name": "stdout",
     "output_type": "stream",
     "text": [
      "Accuracy =  100.0 %\n"
     ]
    },
    {
     "data": {
      "application/vnd.jupyter.widget-view+json": {
       "model_id": "6a7511d5b4ab45b2bb850a205a2a2454",
       "version_major": 2,
       "version_minor": 0
      },
      "text/plain": [
       "K MEANS CLUSTERING: k=16:   0%|          | 0/25 [00:00<?, ?it/s]"
      ]
     },
     "metadata": {},
     "output_type": "display_data"
    },
    {
     "data": {
      "application/vnd.jupyter.widget-view+json": {
       "model_id": "efadadc07555433985dacf566bc88efd",
       "version_major": 2,
       "version_minor": 0
      },
      "text/plain": [
       "GMM (EM): k=16:   0%|          | 0/25 [00:00<?, ?it/s]"
      ]
     },
     "metadata": {},
     "output_type": "display_data"
    },
    {
     "data": {
      "application/vnd.jupyter.widget-view+json": {
       "model_id": "2bb31e37b8e54ac98dff7d2536b89d9a",
       "version_major": 2,
       "version_minor": 0
      },
      "text/plain": [
       "K MEANS CLUSTERING: k=16:   0%|          | 0/25 [00:00<?, ?it/s]"
      ]
     },
     "metadata": {},
     "output_type": "display_data"
    },
    {
     "data": {
      "application/vnd.jupyter.widget-view+json": {
       "model_id": "3a69dcab29cf422283545c5b89fdfb6a",
       "version_major": 2,
       "version_minor": 0
      },
      "text/plain": [
       "GMM (EM): k=16:   0%|          | 0/25 [00:00<?, ?it/s]"
      ]
     },
     "metadata": {},
     "output_type": "display_data"
    },
    {
     "name": "stdout",
     "output_type": "stream",
     "text": [
      "Accuracy =  100.0 %\n"
     ]
    },
    {
     "data": {
      "application/vnd.jupyter.widget-view+json": {
       "model_id": "906ecabcf68b469994803edbd5dc24d5",
       "version_major": 2,
       "version_minor": 0
      },
      "text/plain": [
       "K MEANS CLUSTERING: k=16:   0%|          | 0/25 [00:00<?, ?it/s]"
      ]
     },
     "metadata": {},
     "output_type": "display_data"
    },
    {
     "data": {
      "application/vnd.jupyter.widget-view+json": {
       "model_id": "124db6c1894b467bad19594e42e115c7",
       "version_major": 2,
       "version_minor": 0
      },
      "text/plain": [
       "GMM (EM): k=16:   0%|          | 0/25 [00:00<?, ?it/s]"
      ]
     },
     "metadata": {},
     "output_type": "display_data"
    },
    {
     "data": {
      "application/vnd.jupyter.widget-view+json": {
       "model_id": "64c1316e1a44462c8f5f10ea5e0834aa",
       "version_major": 2,
       "version_minor": 0
      },
      "text/plain": [
       "K MEANS CLUSTERING: k=16:   0%|          | 0/25 [00:00<?, ?it/s]"
      ]
     },
     "metadata": {},
     "output_type": "display_data"
    },
    {
     "data": {
      "application/vnd.jupyter.widget-view+json": {
       "model_id": "e7a81e8a7dcc4578b84964f10da4b92f",
       "version_major": 2,
       "version_minor": 0
      },
      "text/plain": [
       "GMM (EM): k=16:   0%|          | 0/25 [00:00<?, ?it/s]"
      ]
     },
     "metadata": {},
     "output_type": "display_data"
    },
    {
     "name": "stdout",
     "output_type": "stream",
     "text": [
      "Accuracy =  100.0 %\n"
     ]
    },
    {
     "data": {
      "application/vnd.jupyter.widget-view+json": {
       "model_id": "3f88b5eb58c94e239a1c3fb67c700815",
       "version_major": 2,
       "version_minor": 0
      },
      "text/plain": [
       "K MEANS CLUSTERING: k=16:   0%|          | 0/25 [00:00<?, ?it/s]"
      ]
     },
     "metadata": {},
     "output_type": "display_data"
    },
    {
     "data": {
      "application/vnd.jupyter.widget-view+json": {
       "model_id": "122b3fdb7567499a8215e1dfad9d318b",
       "version_major": 2,
       "version_minor": 0
      },
      "text/plain": [
       "GMM (EM): k=16:   0%|          | 0/25 [00:00<?, ?it/s]"
      ]
     },
     "metadata": {},
     "output_type": "display_data"
    },
    {
     "data": {
      "application/vnd.jupyter.widget-view+json": {
       "model_id": "fe99c612f40b45ccaaa3d82b9aca9142",
       "version_major": 2,
       "version_minor": 0
      },
      "text/plain": [
       "K MEANS CLUSTERING: k=16:   0%|          | 0/25 [00:00<?, ?it/s]"
      ]
     },
     "metadata": {},
     "output_type": "display_data"
    },
    {
     "data": {
      "application/vnd.jupyter.widget-view+json": {
       "model_id": "2a884368b3dc44a3bb434a442613ac45",
       "version_major": 2,
       "version_minor": 0
      },
      "text/plain": [
       "GMM (EM): k=16:   0%|          | 0/25 [00:00<?, ?it/s]"
      ]
     },
     "metadata": {},
     "output_type": "display_data"
    },
    {
     "name": "stdout",
     "output_type": "stream",
     "text": [
      "Accuracy =  100.0 %\n"
     ]
    },
    {
     "data": {
      "application/vnd.jupyter.widget-view+json": {
       "model_id": "e35b890ad0bf47da92c5e2b97db3a7e5",
       "version_major": 2,
       "version_minor": 0
      },
      "text/plain": [
       "K MEANS CLUSTERING: k=16:   0%|          | 0/25 [00:00<?, ?it/s]"
      ]
     },
     "metadata": {},
     "output_type": "display_data"
    },
    {
     "data": {
      "application/vnd.jupyter.widget-view+json": {
       "model_id": "13c89365ed674729bb3b195859a22092",
       "version_major": 2,
       "version_minor": 0
      },
      "text/plain": [
       "GMM (EM): k=16:   0%|          | 0/25 [00:00<?, ?it/s]"
      ]
     },
     "metadata": {},
     "output_type": "display_data"
    },
    {
     "data": {
      "application/vnd.jupyter.widget-view+json": {
       "model_id": "4cf161a21fa244998ffca142798ffd74",
       "version_major": 2,
       "version_minor": 0
      },
      "text/plain": [
       "K MEANS CLUSTERING: k=16:   0%|          | 0/25 [00:00<?, ?it/s]"
      ]
     },
     "metadata": {},
     "output_type": "display_data"
    },
    {
     "data": {
      "application/vnd.jupyter.widget-view+json": {
       "model_id": "56aad785533a4ecf9b168c5bec38190b",
       "version_major": 2,
       "version_minor": 0
      },
      "text/plain": [
       "GMM (EM): k=16:   0%|          | 0/25 [00:00<?, ?it/s]"
      ]
     },
     "metadata": {},
     "output_type": "display_data"
    },
    {
     "name": "stdout",
     "output_type": "stream",
     "text": [
      "Accuracy =  100.0 %\n"
     ]
    },
    {
     "data": {
      "application/vnd.jupyter.widget-view+json": {
       "model_id": "89670934c6754251b666fd206fe6153d",
       "version_major": 2,
       "version_minor": 0
      },
      "text/plain": [
       "K MEANS CLUSTERING: k=16:   0%|          | 0/25 [00:00<?, ?it/s]"
      ]
     },
     "metadata": {},
     "output_type": "display_data"
    },
    {
     "data": {
      "application/vnd.jupyter.widget-view+json": {
       "model_id": "cd00a3b156e54b099e0f0cfeb119ab75",
       "version_major": 2,
       "version_minor": 0
      },
      "text/plain": [
       "GMM (EM): k=16:   0%|          | 0/25 [00:00<?, ?it/s]"
      ]
     },
     "metadata": {},
     "output_type": "display_data"
    },
    {
     "data": {
      "application/vnd.jupyter.widget-view+json": {
       "model_id": "9480a1cc1abb4185a8b805dc7e72ba12",
       "version_major": 2,
       "version_minor": 0
      },
      "text/plain": [
       "K MEANS CLUSTERING: k=16:   0%|          | 0/25 [00:00<?, ?it/s]"
      ]
     },
     "metadata": {},
     "output_type": "display_data"
    },
    {
     "data": {
      "application/vnd.jupyter.widget-view+json": {
       "model_id": "5c3b58b1e2414d39a8eae78b25e2ca8c",
       "version_major": 2,
       "version_minor": 0
      },
      "text/plain": [
       "GMM (EM): k=16:   0%|          | 0/25 [00:00<?, ?it/s]"
      ]
     },
     "metadata": {},
     "output_type": "display_data"
    },
    {
     "name": "stdout",
     "output_type": "stream",
     "text": [
      "Accuracy =  100.0 %\n"
     ]
    },
    {
     "data": {
      "application/vnd.jupyter.widget-view+json": {
       "model_id": "49f79afec7ec4bd7b6bf93df6492d03a",
       "version_major": 2,
       "version_minor": 0
      },
      "text/plain": [
       "K MEANS CLUSTERING: k=16:   0%|          | 0/30 [00:00<?, ?it/s]"
      ]
     },
     "metadata": {},
     "output_type": "display_data"
    },
    {
     "data": {
      "application/vnd.jupyter.widget-view+json": {
       "model_id": "25eb1dda824c477b9222b95940cd5df4",
       "version_major": 2,
       "version_minor": 0
      },
      "text/plain": [
       "GMM (EM): k=16:   0%|          | 0/30 [00:00<?, ?it/s]"
      ]
     },
     "metadata": {},
     "output_type": "display_data"
    },
    {
     "data": {
      "application/vnd.jupyter.widget-view+json": {
       "model_id": "40910c0ad08a4d9296967e4304d34cfd",
       "version_major": 2,
       "version_minor": 0
      },
      "text/plain": [
       "K MEANS CLUSTERING: k=16:   0%|          | 0/30 [00:00<?, ?it/s]"
      ]
     },
     "metadata": {},
     "output_type": "display_data"
    },
    {
     "data": {
      "application/vnd.jupyter.widget-view+json": {
       "model_id": "6f89681f1d8046b595b1d451bc4e7134",
       "version_major": 2,
       "version_minor": 0
      },
      "text/plain": [
       "GMM (EM): k=16:   0%|          | 0/30 [00:00<?, ?it/s]"
      ]
     },
     "metadata": {},
     "output_type": "display_data"
    },
    {
     "name": "stdout",
     "output_type": "stream",
     "text": [
      "Accuracy =  100.0 %\n"
     ]
    },
    {
     "data": {
      "application/vnd.jupyter.widget-view+json": {
       "model_id": "92b9f59661b64d16a76ddf414a297089",
       "version_major": 2,
       "version_minor": 0
      },
      "text/plain": [
       "K MEANS CLUSTERING: k=16:   0%|          | 0/30 [00:00<?, ?it/s]"
      ]
     },
     "metadata": {},
     "output_type": "display_data"
    },
    {
     "data": {
      "application/vnd.jupyter.widget-view+json": {
       "model_id": "6cf4d66207a0432ebcf1e978e0d555db",
       "version_major": 2,
       "version_minor": 0
      },
      "text/plain": [
       "GMM (EM): k=16:   0%|          | 0/30 [00:00<?, ?it/s]"
      ]
     },
     "metadata": {},
     "output_type": "display_data"
    },
    {
     "data": {
      "application/vnd.jupyter.widget-view+json": {
       "model_id": "af7356d0dcd94f2a8f7f7e953efd9841",
       "version_major": 2,
       "version_minor": 0
      },
      "text/plain": [
       "K MEANS CLUSTERING: k=16:   0%|          | 0/30 [00:00<?, ?it/s]"
      ]
     },
     "metadata": {},
     "output_type": "display_data"
    },
    {
     "data": {
      "application/vnd.jupyter.widget-view+json": {
       "model_id": "d1546f1929244598b68a9cb5cc3be9e5",
       "version_major": 2,
       "version_minor": 0
      },
      "text/plain": [
       "GMM (EM): k=16:   0%|          | 0/30 [00:00<?, ?it/s]"
      ]
     },
     "metadata": {},
     "output_type": "display_data"
    },
    {
     "name": "stdout",
     "output_type": "stream",
     "text": [
      "Accuracy =  100.0 %\n"
     ]
    },
    {
     "data": {
      "application/vnd.jupyter.widget-view+json": {
       "model_id": "b6f278b37f174be7a44f25795cbf7966",
       "version_major": 2,
       "version_minor": 0
      },
      "text/plain": [
       "K MEANS CLUSTERING: k=16:   0%|          | 0/30 [00:00<?, ?it/s]"
      ]
     },
     "metadata": {},
     "output_type": "display_data"
    },
    {
     "data": {
      "application/vnd.jupyter.widget-view+json": {
       "model_id": "1a749311a8ad41aa9c693458e7e2e25e",
       "version_major": 2,
       "version_minor": 0
      },
      "text/plain": [
       "GMM (EM): k=16:   0%|          | 0/30 [00:00<?, ?it/s]"
      ]
     },
     "metadata": {},
     "output_type": "display_data"
    },
    {
     "data": {
      "application/vnd.jupyter.widget-view+json": {
       "model_id": "a5fc27b5c93e4876a097fbd577ec1771",
       "version_major": 2,
       "version_minor": 0
      },
      "text/plain": [
       "K MEANS CLUSTERING: k=16:   0%|          | 0/30 [00:00<?, ?it/s]"
      ]
     },
     "metadata": {},
     "output_type": "display_data"
    },
    {
     "data": {
      "application/vnd.jupyter.widget-view+json": {
       "model_id": "8acf045d2c584239a7b7ee64d63b1dbf",
       "version_major": 2,
       "version_minor": 0
      },
      "text/plain": [
       "GMM (EM): k=16:   0%|          | 0/30 [00:00<?, ?it/s]"
      ]
     },
     "metadata": {},
     "output_type": "display_data"
    },
    {
     "name": "stdout",
     "output_type": "stream",
     "text": [
      "Accuracy =  100.0 %\n"
     ]
    },
    {
     "data": {
      "application/vnd.jupyter.widget-view+json": {
       "model_id": "b8dcb5f91c5c485dbb8a775d39403361",
       "version_major": 2,
       "version_minor": 0
      },
      "text/plain": [
       "K MEANS CLUSTERING: k=16:   0%|          | 0/30 [00:00<?, ?it/s]"
      ]
     },
     "metadata": {},
     "output_type": "display_data"
    },
    {
     "data": {
      "application/vnd.jupyter.widget-view+json": {
       "model_id": "8caf77a841834eda9b804aa7aae1843a",
       "version_major": 2,
       "version_minor": 0
      },
      "text/plain": [
       "GMM (EM): k=16:   0%|          | 0/30 [00:00<?, ?it/s]"
      ]
     },
     "metadata": {},
     "output_type": "display_data"
    },
    {
     "data": {
      "application/vnd.jupyter.widget-view+json": {
       "model_id": "d5cb846fec1849e48e0e345494610a85",
       "version_major": 2,
       "version_minor": 0
      },
      "text/plain": [
       "K MEANS CLUSTERING: k=16:   0%|          | 0/30 [00:00<?, ?it/s]"
      ]
     },
     "metadata": {},
     "output_type": "display_data"
    },
    {
     "data": {
      "application/vnd.jupyter.widget-view+json": {
       "model_id": "ef3de11523c3468fa45dcfe3339ef63f",
       "version_major": 2,
       "version_minor": 0
      },
      "text/plain": [
       "GMM (EM): k=16:   0%|          | 0/30 [00:00<?, ?it/s]"
      ]
     },
     "metadata": {},
     "output_type": "display_data"
    },
    {
     "name": "stdout",
     "output_type": "stream",
     "text": [
      "Accuracy =  100.0 %\n"
     ]
    },
    {
     "data": {
      "application/vnd.jupyter.widget-view+json": {
       "model_id": "b9dfb529180f48af8578998dfc89e53a",
       "version_major": 2,
       "version_minor": 0
      },
      "text/plain": [
       "K MEANS CLUSTERING: k=16:   0%|          | 0/30 [00:00<?, ?it/s]"
      ]
     },
     "metadata": {},
     "output_type": "display_data"
    },
    {
     "data": {
      "application/vnd.jupyter.widget-view+json": {
       "model_id": "71dce3bdfa354600bfc8bf6f89e2c2a1",
       "version_major": 2,
       "version_minor": 0
      },
      "text/plain": [
       "GMM (EM): k=16:   0%|          | 0/30 [00:00<?, ?it/s]"
      ]
     },
     "metadata": {},
     "output_type": "display_data"
    },
    {
     "data": {
      "application/vnd.jupyter.widget-view+json": {
       "model_id": "6e7a4cf7c9944426ac750adb227adfad",
       "version_major": 2,
       "version_minor": 0
      },
      "text/plain": [
       "K MEANS CLUSTERING: k=16:   0%|          | 0/30 [00:00<?, ?it/s]"
      ]
     },
     "metadata": {},
     "output_type": "display_data"
    },
    {
     "data": {
      "application/vnd.jupyter.widget-view+json": {
       "model_id": "fb8b5e885aea47f89b2e19730e5ad385",
       "version_major": 2,
       "version_minor": 0
      },
      "text/plain": [
       "GMM (EM): k=16:   0%|          | 0/30 [00:00<?, ?it/s]"
      ]
     },
     "metadata": {},
     "output_type": "display_data"
    },
    {
     "name": "stdout",
     "output_type": "stream",
     "text": [
      "Accuracy =  100.0 %\n"
     ]
    },
    {
     "data": {
      "application/vnd.jupyter.widget-view+json": {
       "model_id": "c691823f571047c6b3a114a0795258a0",
       "version_major": 2,
       "version_minor": 0
      },
      "text/plain": [
       "K MEANS CLUSTERING: k=16:   0%|          | 0/30 [00:00<?, ?it/s]"
      ]
     },
     "metadata": {},
     "output_type": "display_data"
    },
    {
     "data": {
      "application/vnd.jupyter.widget-view+json": {
       "model_id": "ac512949f5d04964a4f3b004e51e51d4",
       "version_major": 2,
       "version_minor": 0
      },
      "text/plain": [
       "GMM (EM): k=16:   0%|          | 0/30 [00:00<?, ?it/s]"
      ]
     },
     "metadata": {},
     "output_type": "display_data"
    },
    {
     "data": {
      "application/vnd.jupyter.widget-view+json": {
       "model_id": "1ba150da3e664e05b3c362dbbd551f23",
       "version_major": 2,
       "version_minor": 0
      },
      "text/plain": [
       "K MEANS CLUSTERING: k=16:   0%|          | 0/30 [00:00<?, ?it/s]"
      ]
     },
     "metadata": {},
     "output_type": "display_data"
    },
    {
     "data": {
      "application/vnd.jupyter.widget-view+json": {
       "model_id": "bad6e1cce23b40ffa79120ceeb4b952b",
       "version_major": 2,
       "version_minor": 0
      },
      "text/plain": [
       "GMM (EM): k=16:   0%|          | 0/30 [00:00<?, ?it/s]"
      ]
     },
     "metadata": {},
     "output_type": "display_data"
    },
    {
     "name": "stdout",
     "output_type": "stream",
     "text": [
      "Accuracy =  100.0 %\n"
     ]
    },
    {
     "data": {
      "application/vnd.jupyter.widget-view+json": {
       "model_id": "cf20208a461f49f285b94e456c8d195e",
       "version_major": 2,
       "version_minor": 0
      },
      "text/plain": [
       "K MEANS CLUSTERING: k=16:   0%|          | 0/5 [00:00<?, ?it/s]"
      ]
     },
     "metadata": {},
     "output_type": "display_data"
    },
    {
     "data": {
      "application/vnd.jupyter.widget-view+json": {
       "model_id": "fc4926cf239a4a2197b00eb9b6ab4723",
       "version_major": 2,
       "version_minor": 0
      },
      "text/plain": [
       "GMM (EM): k=16:   0%|          | 0/5 [00:00<?, ?it/s]"
      ]
     },
     "metadata": {},
     "output_type": "display_data"
    },
    {
     "data": {
      "application/vnd.jupyter.widget-view+json": {
       "model_id": "2a0e570459cb4cac9302a5e7d24862c3",
       "version_major": 2,
       "version_minor": 0
      },
      "text/plain": [
       "K MEANS CLUSTERING: k=15:   0%|          | 0/5 [00:00<?, ?it/s]"
      ]
     },
     "metadata": {},
     "output_type": "display_data"
    },
    {
     "data": {
      "application/vnd.jupyter.widget-view+json": {
       "model_id": "a3c88f92bb1e4ddf9ac344757d0f7681",
       "version_major": 2,
       "version_minor": 0
      },
      "text/plain": [
       "GMM (EM): k=15:   0%|          | 0/5 [00:00<?, ?it/s]"
      ]
     },
     "metadata": {},
     "output_type": "display_data"
    },
    {
     "name": "stdout",
     "output_type": "stream",
     "text": [
      "Accuracy =  98.2 %\n"
     ]
    },
    {
     "data": {
      "application/vnd.jupyter.widget-view+json": {
       "model_id": "ec3248adac18464488c13c8f4e9f5f90",
       "version_major": 2,
       "version_minor": 0
      },
      "text/plain": [
       "K MEANS CLUSTERING: k=16:   0%|          | 0/5 [00:00<?, ?it/s]"
      ]
     },
     "metadata": {},
     "output_type": "display_data"
    },
    {
     "data": {
      "application/vnd.jupyter.widget-view+json": {
       "model_id": "a843334f0bb247acba0183c0cbe2f0fe",
       "version_major": 2,
       "version_minor": 0
      },
      "text/plain": [
       "GMM (EM): k=16:   0%|          | 0/5 [00:00<?, ?it/s]"
      ]
     },
     "metadata": {},
     "output_type": "display_data"
    },
    {
     "data": {
      "application/vnd.jupyter.widget-view+json": {
       "model_id": "2b07c3d85a554f1099508b08b95d6aba",
       "version_major": 2,
       "version_minor": 0
      },
      "text/plain": [
       "K MEANS CLUSTERING: k=15:   0%|          | 0/5 [00:00<?, ?it/s]"
      ]
     },
     "metadata": {},
     "output_type": "display_data"
    },
    {
     "data": {
      "application/vnd.jupyter.widget-view+json": {
       "model_id": "d34f2d5cf3e34f3a8f2025628b6f394a",
       "version_major": 2,
       "version_minor": 0
      },
      "text/plain": [
       "GMM (EM): k=15:   0%|          | 0/5 [00:00<?, ?it/s]"
      ]
     },
     "metadata": {},
     "output_type": "display_data"
    },
    {
     "name": "stdout",
     "output_type": "stream",
     "text": [
      "Accuracy =  98.2 %\n"
     ]
    },
    {
     "data": {
      "application/vnd.jupyter.widget-view+json": {
       "model_id": "c12ccf2ef2974b348dbf4c3d3c24e807",
       "version_major": 2,
       "version_minor": 0
      },
      "text/plain": [
       "K MEANS CLUSTERING: k=16:   0%|          | 0/5 [00:00<?, ?it/s]"
      ]
     },
     "metadata": {},
     "output_type": "display_data"
    },
    {
     "data": {
      "application/vnd.jupyter.widget-view+json": {
       "model_id": "e127e122f4c244ddb531c8baaf1ba595",
       "version_major": 2,
       "version_minor": 0
      },
      "text/plain": [
       "GMM (EM): k=16:   0%|          | 0/5 [00:00<?, ?it/s]"
      ]
     },
     "metadata": {},
     "output_type": "display_data"
    },
    {
     "data": {
      "application/vnd.jupyter.widget-view+json": {
       "model_id": "0497f5faaad044749f22799190ccbcd9",
       "version_major": 2,
       "version_minor": 0
      },
      "text/plain": [
       "K MEANS CLUSTERING: k=15:   0%|          | 0/5 [00:00<?, ?it/s]"
      ]
     },
     "metadata": {},
     "output_type": "display_data"
    },
    {
     "data": {
      "application/vnd.jupyter.widget-view+json": {
       "model_id": "a016091700f9422ca0e3753831b834cc",
       "version_major": 2,
       "version_minor": 0
      },
      "text/plain": [
       "GMM (EM): k=15:   0%|          | 0/5 [00:00<?, ?it/s]"
      ]
     },
     "metadata": {},
     "output_type": "display_data"
    },
    {
     "name": "stdout",
     "output_type": "stream",
     "text": [
      "Accuracy =  98.2 %\n"
     ]
    },
    {
     "data": {
      "application/vnd.jupyter.widget-view+json": {
       "model_id": "9bdab0639f35486ea7857cb37526dbb5",
       "version_major": 2,
       "version_minor": 0
      },
      "text/plain": [
       "K MEANS CLUSTERING: k=16:   0%|          | 0/5 [00:00<?, ?it/s]"
      ]
     },
     "metadata": {},
     "output_type": "display_data"
    },
    {
     "data": {
      "application/vnd.jupyter.widget-view+json": {
       "model_id": "45987c08aaad422db8a73ebc444c350d",
       "version_major": 2,
       "version_minor": 0
      },
      "text/plain": [
       "GMM (EM): k=16:   0%|          | 0/5 [00:00<?, ?it/s]"
      ]
     },
     "metadata": {},
     "output_type": "display_data"
    },
    {
     "data": {
      "application/vnd.jupyter.widget-view+json": {
       "model_id": "de1abe81365b40ac8253e928a43e407f",
       "version_major": 2,
       "version_minor": 0
      },
      "text/plain": [
       "K MEANS CLUSTERING: k=15:   0%|          | 0/5 [00:00<?, ?it/s]"
      ]
     },
     "metadata": {},
     "output_type": "display_data"
    },
    {
     "data": {
      "application/vnd.jupyter.widget-view+json": {
       "model_id": "a229b4043380490b984e9b836cb01100",
       "version_major": 2,
       "version_minor": 0
      },
      "text/plain": [
       "GMM (EM): k=15:   0%|          | 0/5 [00:00<?, ?it/s]"
      ]
     },
     "metadata": {},
     "output_type": "display_data"
    },
    {
     "name": "stdout",
     "output_type": "stream",
     "text": [
      "Accuracy =  98.2 %\n"
     ]
    },
    {
     "data": {
      "application/vnd.jupyter.widget-view+json": {
       "model_id": "330b186f95234e8d96b964c83d1d4830",
       "version_major": 2,
       "version_minor": 0
      },
      "text/plain": [
       "K MEANS CLUSTERING: k=16:   0%|          | 0/5 [00:00<?, ?it/s]"
      ]
     },
     "metadata": {},
     "output_type": "display_data"
    },
    {
     "data": {
      "application/vnd.jupyter.widget-view+json": {
       "model_id": "75eea089155448dfa15e6e457d54484c",
       "version_major": 2,
       "version_minor": 0
      },
      "text/plain": [
       "GMM (EM): k=16:   0%|          | 0/5 [00:00<?, ?it/s]"
      ]
     },
     "metadata": {},
     "output_type": "display_data"
    },
    {
     "data": {
      "application/vnd.jupyter.widget-view+json": {
       "model_id": "38d4dce6bed243d09c2dee6fd4aba167",
       "version_major": 2,
       "version_minor": 0
      },
      "text/plain": [
       "K MEANS CLUSTERING: k=15:   0%|          | 0/5 [00:00<?, ?it/s]"
      ]
     },
     "metadata": {},
     "output_type": "display_data"
    },
    {
     "data": {
      "application/vnd.jupyter.widget-view+json": {
       "model_id": "30e1840a20734450a7f3091ce0da3e8a",
       "version_major": 2,
       "version_minor": 0
      },
      "text/plain": [
       "GMM (EM): k=15:   0%|          | 0/5 [00:00<?, ?it/s]"
      ]
     },
     "metadata": {},
     "output_type": "display_data"
    },
    {
     "name": "stdout",
     "output_type": "stream",
     "text": [
      "Accuracy =  98.2 %\n"
     ]
    },
    {
     "data": {
      "application/vnd.jupyter.widget-view+json": {
       "model_id": "f80771d8e90a4994aa8bb7cb27c8073a",
       "version_major": 2,
       "version_minor": 0
      },
      "text/plain": [
       "K MEANS CLUSTERING: k=16:   0%|          | 0/5 [00:00<?, ?it/s]"
      ]
     },
     "metadata": {},
     "output_type": "display_data"
    },
    {
     "data": {
      "application/vnd.jupyter.widget-view+json": {
       "model_id": "6accb21b48d24736ba4284d132ceeeb2",
       "version_major": 2,
       "version_minor": 0
      },
      "text/plain": [
       "GMM (EM): k=16:   0%|          | 0/5 [00:00<?, ?it/s]"
      ]
     },
     "metadata": {},
     "output_type": "display_data"
    },
    {
     "data": {
      "application/vnd.jupyter.widget-view+json": {
       "model_id": "d6e9d29e60834df3a3ed8883d5d7c608",
       "version_major": 2,
       "version_minor": 0
      },
      "text/plain": [
       "K MEANS CLUSTERING: k=15:   0%|          | 0/5 [00:00<?, ?it/s]"
      ]
     },
     "metadata": {},
     "output_type": "display_data"
    },
    {
     "data": {
      "application/vnd.jupyter.widget-view+json": {
       "model_id": "052028584f764470b1c98c3c2e5f47e3",
       "version_major": 2,
       "version_minor": 0
      },
      "text/plain": [
       "GMM (EM): k=15:   0%|          | 0/5 [00:00<?, ?it/s]"
      ]
     },
     "metadata": {},
     "output_type": "display_data"
    },
    {
     "name": "stdout",
     "output_type": "stream",
     "text": [
      "Accuracy =  98.2 %\n"
     ]
    },
    {
     "data": {
      "application/vnd.jupyter.widget-view+json": {
       "model_id": "ca792c8204af4a3496dbd873a0c4446a",
       "version_major": 2,
       "version_minor": 0
      },
      "text/plain": [
       "K MEANS CLUSTERING: k=16:   0%|          | 0/10 [00:00<?, ?it/s]"
      ]
     },
     "metadata": {},
     "output_type": "display_data"
    },
    {
     "data": {
      "application/vnd.jupyter.widget-view+json": {
       "model_id": "8356ee3b29df44f39a58488558366d54",
       "version_major": 2,
       "version_minor": 0
      },
      "text/plain": [
       "GMM (EM): k=16:   0%|          | 0/10 [00:00<?, ?it/s]"
      ]
     },
     "metadata": {},
     "output_type": "display_data"
    },
    {
     "data": {
      "application/vnd.jupyter.widget-view+json": {
       "model_id": "1e41cd52848a477f9031608d1beec87f",
       "version_major": 2,
       "version_minor": 0
      },
      "text/plain": [
       "K MEANS CLUSTERING: k=15:   0%|          | 0/10 [00:00<?, ?it/s]"
      ]
     },
     "metadata": {},
     "output_type": "display_data"
    },
    {
     "data": {
      "application/vnd.jupyter.widget-view+json": {
       "model_id": "7dee0e5233d946a3a410d577b5f47891",
       "version_major": 2,
       "version_minor": 0
      },
      "text/plain": [
       "GMM (EM): k=15:   0%|          | 0/10 [00:00<?, ?it/s]"
      ]
     },
     "metadata": {},
     "output_type": "display_data"
    },
    {
     "name": "stdout",
     "output_type": "stream",
     "text": [
      "Accuracy =  100.0 %\n"
     ]
    },
    {
     "data": {
      "application/vnd.jupyter.widget-view+json": {
       "model_id": "f2b1f9ddbb19462b985ab4fb19586b8e",
       "version_major": 2,
       "version_minor": 0
      },
      "text/plain": [
       "K MEANS CLUSTERING: k=16:   0%|          | 0/10 [00:00<?, ?it/s]"
      ]
     },
     "metadata": {},
     "output_type": "display_data"
    },
    {
     "data": {
      "application/vnd.jupyter.widget-view+json": {
       "model_id": "dcd0b607badb4494a9c73173243f53c1",
       "version_major": 2,
       "version_minor": 0
      },
      "text/plain": [
       "GMM (EM): k=16:   0%|          | 0/10 [00:00<?, ?it/s]"
      ]
     },
     "metadata": {},
     "output_type": "display_data"
    },
    {
     "data": {
      "application/vnd.jupyter.widget-view+json": {
       "model_id": "91f828ad9fce43a5a327f150a1ebbb51",
       "version_major": 2,
       "version_minor": 0
      },
      "text/plain": [
       "K MEANS CLUSTERING: k=15:   0%|          | 0/10 [00:00<?, ?it/s]"
      ]
     },
     "metadata": {},
     "output_type": "display_data"
    },
    {
     "data": {
      "application/vnd.jupyter.widget-view+json": {
       "model_id": "24b1f444fc024d76bd5cee47ada08d80",
       "version_major": 2,
       "version_minor": 0
      },
      "text/plain": [
       "GMM (EM): k=15:   0%|          | 0/10 [00:00<?, ?it/s]"
      ]
     },
     "metadata": {},
     "output_type": "display_data"
    },
    {
     "name": "stdout",
     "output_type": "stream",
     "text": [
      "Accuracy =  100.0 %\n"
     ]
    },
    {
     "data": {
      "application/vnd.jupyter.widget-view+json": {
       "model_id": "486d526773b34164ab2f4804235fafab",
       "version_major": 2,
       "version_minor": 0
      },
      "text/plain": [
       "K MEANS CLUSTERING: k=16:   0%|          | 0/10 [00:00<?, ?it/s]"
      ]
     },
     "metadata": {},
     "output_type": "display_data"
    },
    {
     "data": {
      "application/vnd.jupyter.widget-view+json": {
       "model_id": "8c9e1a6ba0834cb595aad6695e317ccd",
       "version_major": 2,
       "version_minor": 0
      },
      "text/plain": [
       "GMM (EM): k=16:   0%|          | 0/10 [00:00<?, ?it/s]"
      ]
     },
     "metadata": {},
     "output_type": "display_data"
    },
    {
     "data": {
      "application/vnd.jupyter.widget-view+json": {
       "model_id": "1fa6f39f2cdc431d987e0b6227af30d1",
       "version_major": 2,
       "version_minor": 0
      },
      "text/plain": [
       "K MEANS CLUSTERING: k=15:   0%|          | 0/10 [00:00<?, ?it/s]"
      ]
     },
     "metadata": {},
     "output_type": "display_data"
    },
    {
     "data": {
      "application/vnd.jupyter.widget-view+json": {
       "model_id": "a07f6368e2dc4a8a83681e16ff3e1020",
       "version_major": 2,
       "version_minor": 0
      },
      "text/plain": [
       "GMM (EM): k=15:   0%|          | 0/10 [00:00<?, ?it/s]"
      ]
     },
     "metadata": {},
     "output_type": "display_data"
    },
    {
     "name": "stdout",
     "output_type": "stream",
     "text": [
      "Accuracy =  100.0 %\n"
     ]
    },
    {
     "data": {
      "application/vnd.jupyter.widget-view+json": {
       "model_id": "ee6ee74ff4b4411f8be426a9af64585b",
       "version_major": 2,
       "version_minor": 0
      },
      "text/plain": [
       "K MEANS CLUSTERING: k=16:   0%|          | 0/10 [00:00<?, ?it/s]"
      ]
     },
     "metadata": {},
     "output_type": "display_data"
    },
    {
     "data": {
      "application/vnd.jupyter.widget-view+json": {
       "model_id": "dc728096b1b04a53a7e279c4ca52ca6b",
       "version_major": 2,
       "version_minor": 0
      },
      "text/plain": [
       "GMM (EM): k=16:   0%|          | 0/10 [00:00<?, ?it/s]"
      ]
     },
     "metadata": {},
     "output_type": "display_data"
    },
    {
     "data": {
      "application/vnd.jupyter.widget-view+json": {
       "model_id": "2d16031a030e4077898390f61123645e",
       "version_major": 2,
       "version_minor": 0
      },
      "text/plain": [
       "K MEANS CLUSTERING: k=15:   0%|          | 0/10 [00:00<?, ?it/s]"
      ]
     },
     "metadata": {},
     "output_type": "display_data"
    },
    {
     "data": {
      "application/vnd.jupyter.widget-view+json": {
       "model_id": "05f21e5b47944b79ab0b86cbef1bbaa6",
       "version_major": 2,
       "version_minor": 0
      },
      "text/plain": [
       "GMM (EM): k=15:   0%|          | 0/10 [00:00<?, ?it/s]"
      ]
     },
     "metadata": {},
     "output_type": "display_data"
    },
    {
     "name": "stdout",
     "output_type": "stream",
     "text": [
      "Accuracy =  100.0 %\n"
     ]
    },
    {
     "data": {
      "application/vnd.jupyter.widget-view+json": {
       "model_id": "5d05fc3219e54efd9646e8ecc860e679",
       "version_major": 2,
       "version_minor": 0
      },
      "text/plain": [
       "K MEANS CLUSTERING: k=16:   0%|          | 0/10 [00:00<?, ?it/s]"
      ]
     },
     "metadata": {},
     "output_type": "display_data"
    },
    {
     "data": {
      "application/vnd.jupyter.widget-view+json": {
       "model_id": "8472c745b1e74db8b407628d3bc20b70",
       "version_major": 2,
       "version_minor": 0
      },
      "text/plain": [
       "GMM (EM): k=16:   0%|          | 0/10 [00:00<?, ?it/s]"
      ]
     },
     "metadata": {},
     "output_type": "display_data"
    },
    {
     "data": {
      "application/vnd.jupyter.widget-view+json": {
       "model_id": "b1bdfe8489664b61973ebc3235913896",
       "version_major": 2,
       "version_minor": 0
      },
      "text/plain": [
       "K MEANS CLUSTERING: k=15:   0%|          | 0/10 [00:00<?, ?it/s]"
      ]
     },
     "metadata": {},
     "output_type": "display_data"
    },
    {
     "data": {
      "application/vnd.jupyter.widget-view+json": {
       "model_id": "2f0f14c3b3964f339acfa19fb6d08773",
       "version_major": 2,
       "version_minor": 0
      },
      "text/plain": [
       "GMM (EM): k=15:   0%|          | 0/10 [00:00<?, ?it/s]"
      ]
     },
     "metadata": {},
     "output_type": "display_data"
    },
    {
     "name": "stdout",
     "output_type": "stream",
     "text": [
      "Accuracy =  100.0 %\n"
     ]
    },
    {
     "data": {
      "application/vnd.jupyter.widget-view+json": {
       "model_id": "e1b60dfc18024b98ae916022c9358d21",
       "version_major": 2,
       "version_minor": 0
      },
      "text/plain": [
       "K MEANS CLUSTERING: k=16:   0%|          | 0/10 [00:00<?, ?it/s]"
      ]
     },
     "metadata": {},
     "output_type": "display_data"
    },
    {
     "data": {
      "application/vnd.jupyter.widget-view+json": {
       "model_id": "14a7d0d94a564aafb35584a544fafce5",
       "version_major": 2,
       "version_minor": 0
      },
      "text/plain": [
       "GMM (EM): k=16:   0%|          | 0/10 [00:00<?, ?it/s]"
      ]
     },
     "metadata": {},
     "output_type": "display_data"
    },
    {
     "data": {
      "application/vnd.jupyter.widget-view+json": {
       "model_id": "3cbbe79488274ce7914ca1598878d035",
       "version_major": 2,
       "version_minor": 0
      },
      "text/plain": [
       "K MEANS CLUSTERING: k=15:   0%|          | 0/10 [00:00<?, ?it/s]"
      ]
     },
     "metadata": {},
     "output_type": "display_data"
    },
    {
     "data": {
      "application/vnd.jupyter.widget-view+json": {
       "model_id": "a2e23c3847f24ed0a7d07268d25e5496",
       "version_major": 2,
       "version_minor": 0
      },
      "text/plain": [
       "GMM (EM): k=15:   0%|          | 0/10 [00:00<?, ?it/s]"
      ]
     },
     "metadata": {},
     "output_type": "display_data"
    },
    {
     "name": "stdout",
     "output_type": "stream",
     "text": [
      "Accuracy =  100.0 %\n"
     ]
    },
    {
     "data": {
      "application/vnd.jupyter.widget-view+json": {
       "model_id": "7bb0401f55634a6a8d624a8b7f5ae0a0",
       "version_major": 2,
       "version_minor": 0
      },
      "text/plain": [
       "K MEANS CLUSTERING: k=16:   0%|          | 0/15 [00:00<?, ?it/s]"
      ]
     },
     "metadata": {},
     "output_type": "display_data"
    },
    {
     "data": {
      "application/vnd.jupyter.widget-view+json": {
       "model_id": "f3670809b1b7406985566f78cc45bf82",
       "version_major": 2,
       "version_minor": 0
      },
      "text/plain": [
       "GMM (EM): k=16:   0%|          | 0/15 [00:00<?, ?it/s]"
      ]
     },
     "metadata": {},
     "output_type": "display_data"
    },
    {
     "data": {
      "application/vnd.jupyter.widget-view+json": {
       "model_id": "5ecf42a302d845999d2284487688657d",
       "version_major": 2,
       "version_minor": 0
      },
      "text/plain": [
       "K MEANS CLUSTERING: k=15:   0%|          | 0/15 [00:00<?, ?it/s]"
      ]
     },
     "metadata": {},
     "output_type": "display_data"
    },
    {
     "data": {
      "application/vnd.jupyter.widget-view+json": {
       "model_id": "7f83ca6adf134b43b5ea92be4cd80c8f",
       "version_major": 2,
       "version_minor": 0
      },
      "text/plain": [
       "GMM (EM): k=15:   0%|          | 0/15 [00:00<?, ?it/s]"
      ]
     },
     "metadata": {},
     "output_type": "display_data"
    },
    {
     "name": "stdout",
     "output_type": "stream",
     "text": [
      "Accuracy =  100.0 %\n"
     ]
    },
    {
     "data": {
      "application/vnd.jupyter.widget-view+json": {
       "model_id": "73cb7fe7c87d4cb79222a29ad576649f",
       "version_major": 2,
       "version_minor": 0
      },
      "text/plain": [
       "K MEANS CLUSTERING: k=16:   0%|          | 0/15 [00:00<?, ?it/s]"
      ]
     },
     "metadata": {},
     "output_type": "display_data"
    },
    {
     "data": {
      "application/vnd.jupyter.widget-view+json": {
       "model_id": "e1b459f862334e1bb662ca27d04b06b1",
       "version_major": 2,
       "version_minor": 0
      },
      "text/plain": [
       "GMM (EM): k=16:   0%|          | 0/15 [00:00<?, ?it/s]"
      ]
     },
     "metadata": {},
     "output_type": "display_data"
    },
    {
     "data": {
      "application/vnd.jupyter.widget-view+json": {
       "model_id": "b42af9316d1640fab76ae3f5cca4ba78",
       "version_major": 2,
       "version_minor": 0
      },
      "text/plain": [
       "K MEANS CLUSTERING: k=15:   0%|          | 0/15 [00:00<?, ?it/s]"
      ]
     },
     "metadata": {},
     "output_type": "display_data"
    },
    {
     "data": {
      "application/vnd.jupyter.widget-view+json": {
       "model_id": "869e6c353c0b424c8d70f7caef38847b",
       "version_major": 2,
       "version_minor": 0
      },
      "text/plain": [
       "GMM (EM): k=15:   0%|          | 0/15 [00:00<?, ?it/s]"
      ]
     },
     "metadata": {},
     "output_type": "display_data"
    },
    {
     "name": "stdout",
     "output_type": "stream",
     "text": [
      "Accuracy =  100.0 %\n"
     ]
    },
    {
     "data": {
      "application/vnd.jupyter.widget-view+json": {
       "model_id": "c060f5acfe5645b7a1f4c552b4ea4864",
       "version_major": 2,
       "version_minor": 0
      },
      "text/plain": [
       "K MEANS CLUSTERING: k=16:   0%|          | 0/15 [00:00<?, ?it/s]"
      ]
     },
     "metadata": {},
     "output_type": "display_data"
    },
    {
     "data": {
      "application/vnd.jupyter.widget-view+json": {
       "model_id": "206e226fc3f94886962c8fd2a7a8f03b",
       "version_major": 2,
       "version_minor": 0
      },
      "text/plain": [
       "GMM (EM): k=16:   0%|          | 0/15 [00:00<?, ?it/s]"
      ]
     },
     "metadata": {},
     "output_type": "display_data"
    },
    {
     "data": {
      "application/vnd.jupyter.widget-view+json": {
       "model_id": "d817275dd9b445b9b25d9d1641089bc2",
       "version_major": 2,
       "version_minor": 0
      },
      "text/plain": [
       "K MEANS CLUSTERING: k=15:   0%|          | 0/15 [00:00<?, ?it/s]"
      ]
     },
     "metadata": {},
     "output_type": "display_data"
    },
    {
     "data": {
      "application/vnd.jupyter.widget-view+json": {
       "model_id": "ef8d1de9f4f64dfeb9e4621060dab088",
       "version_major": 2,
       "version_minor": 0
      },
      "text/plain": [
       "GMM (EM): k=15:   0%|          | 0/15 [00:00<?, ?it/s]"
      ]
     },
     "metadata": {},
     "output_type": "display_data"
    },
    {
     "name": "stdout",
     "output_type": "stream",
     "text": [
      "Accuracy =  100.0 %\n"
     ]
    },
    {
     "data": {
      "application/vnd.jupyter.widget-view+json": {
       "model_id": "3e25754eef904834a25daf737a7a9c9e",
       "version_major": 2,
       "version_minor": 0
      },
      "text/plain": [
       "K MEANS CLUSTERING: k=16:   0%|          | 0/15 [00:00<?, ?it/s]"
      ]
     },
     "metadata": {},
     "output_type": "display_data"
    },
    {
     "data": {
      "application/vnd.jupyter.widget-view+json": {
       "model_id": "dd1a20be8ce840e4af20e3d293686e76",
       "version_major": 2,
       "version_minor": 0
      },
      "text/plain": [
       "GMM (EM): k=16:   0%|          | 0/15 [00:00<?, ?it/s]"
      ]
     },
     "metadata": {},
     "output_type": "display_data"
    },
    {
     "data": {
      "application/vnd.jupyter.widget-view+json": {
       "model_id": "0821f5810d074c62850abd7059319143",
       "version_major": 2,
       "version_minor": 0
      },
      "text/plain": [
       "K MEANS CLUSTERING: k=15:   0%|          | 0/15 [00:00<?, ?it/s]"
      ]
     },
     "metadata": {},
     "output_type": "display_data"
    },
    {
     "data": {
      "application/vnd.jupyter.widget-view+json": {
       "model_id": "65c639849d974a4f8603f2466877cd00",
       "version_major": 2,
       "version_minor": 0
      },
      "text/plain": [
       "GMM (EM): k=15:   0%|          | 0/15 [00:00<?, ?it/s]"
      ]
     },
     "metadata": {},
     "output_type": "display_data"
    },
    {
     "name": "stdout",
     "output_type": "stream",
     "text": [
      "Accuracy =  100.0 %\n"
     ]
    },
    {
     "data": {
      "application/vnd.jupyter.widget-view+json": {
       "model_id": "87ef1b109e814fa7831cdd9c990ebfb0",
       "version_major": 2,
       "version_minor": 0
      },
      "text/plain": [
       "K MEANS CLUSTERING: k=16:   0%|          | 0/15 [00:00<?, ?it/s]"
      ]
     },
     "metadata": {},
     "output_type": "display_data"
    },
    {
     "data": {
      "application/vnd.jupyter.widget-view+json": {
       "model_id": "dfceb134606941469bea9fa0e9eb13f3",
       "version_major": 2,
       "version_minor": 0
      },
      "text/plain": [
       "GMM (EM): k=16:   0%|          | 0/15 [00:00<?, ?it/s]"
      ]
     },
     "metadata": {},
     "output_type": "display_data"
    },
    {
     "data": {
      "application/vnd.jupyter.widget-view+json": {
       "model_id": "02688c1aabe64b4b84cb46d0fa35b369",
       "version_major": 2,
       "version_minor": 0
      },
      "text/plain": [
       "K MEANS CLUSTERING: k=15:   0%|          | 0/15 [00:00<?, ?it/s]"
      ]
     },
     "metadata": {},
     "output_type": "display_data"
    },
    {
     "data": {
      "application/vnd.jupyter.widget-view+json": {
       "model_id": "7a63870d219642869bc21b4f9983d655",
       "version_major": 2,
       "version_minor": 0
      },
      "text/plain": [
       "GMM (EM): k=15:   0%|          | 0/15 [00:00<?, ?it/s]"
      ]
     },
     "metadata": {},
     "output_type": "display_data"
    },
    {
     "name": "stdout",
     "output_type": "stream",
     "text": [
      "Accuracy =  100.0 %\n"
     ]
    },
    {
     "data": {
      "application/vnd.jupyter.widget-view+json": {
       "model_id": "288f66b6e6bd4f518b6d94630bf734b5",
       "version_major": 2,
       "version_minor": 0
      },
      "text/plain": [
       "K MEANS CLUSTERING: k=16:   0%|          | 0/15 [00:00<?, ?it/s]"
      ]
     },
     "metadata": {},
     "output_type": "display_data"
    },
    {
     "data": {
      "application/vnd.jupyter.widget-view+json": {
       "model_id": "728b5cb3963a4016901da3f8be76703a",
       "version_major": 2,
       "version_minor": 0
      },
      "text/plain": [
       "GMM (EM): k=16:   0%|          | 0/15 [00:00<?, ?it/s]"
      ]
     },
     "metadata": {},
     "output_type": "display_data"
    },
    {
     "data": {
      "application/vnd.jupyter.widget-view+json": {
       "model_id": "318c14dc93ae4761a46861c6492a2334",
       "version_major": 2,
       "version_minor": 0
      },
      "text/plain": [
       "K MEANS CLUSTERING: k=15:   0%|          | 0/15 [00:00<?, ?it/s]"
      ]
     },
     "metadata": {},
     "output_type": "display_data"
    },
    {
     "data": {
      "application/vnd.jupyter.widget-view+json": {
       "model_id": "9a51beda23984b428d3b9b7a1445c314",
       "version_major": 2,
       "version_minor": 0
      },
      "text/plain": [
       "GMM (EM): k=15:   0%|          | 0/15 [00:00<?, ?it/s]"
      ]
     },
     "metadata": {},
     "output_type": "display_data"
    },
    {
     "name": "stdout",
     "output_type": "stream",
     "text": [
      "Accuracy =  100.0 %\n"
     ]
    },
    {
     "data": {
      "application/vnd.jupyter.widget-view+json": {
       "model_id": "5245bcb6c565459eb5dc6e62349934fd",
       "version_major": 2,
       "version_minor": 0
      },
      "text/plain": [
       "K MEANS CLUSTERING: k=16:   0%|          | 0/20 [00:00<?, ?it/s]"
      ]
     },
     "metadata": {},
     "output_type": "display_data"
    },
    {
     "data": {
      "application/vnd.jupyter.widget-view+json": {
       "model_id": "360a5f13157f411f8f731a88a8a2e2c1",
       "version_major": 2,
       "version_minor": 0
      },
      "text/plain": [
       "GMM (EM): k=16:   0%|          | 0/20 [00:00<?, ?it/s]"
      ]
     },
     "metadata": {},
     "output_type": "display_data"
    },
    {
     "data": {
      "application/vnd.jupyter.widget-view+json": {
       "model_id": "83c96335bc5244f3b5c9f1bcb9e79772",
       "version_major": 2,
       "version_minor": 0
      },
      "text/plain": [
       "K MEANS CLUSTERING: k=15:   0%|          | 0/20 [00:00<?, ?it/s]"
      ]
     },
     "metadata": {},
     "output_type": "display_data"
    },
    {
     "data": {
      "application/vnd.jupyter.widget-view+json": {
       "model_id": "a5d5e7b4d800469b95ae38a8461e3ccd",
       "version_major": 2,
       "version_minor": 0
      },
      "text/plain": [
       "GMM (EM): k=15:   0%|          | 0/20 [00:00<?, ?it/s]"
      ]
     },
     "metadata": {},
     "output_type": "display_data"
    },
    {
     "name": "stdout",
     "output_type": "stream",
     "text": [
      "Accuracy =  100.0 %\n"
     ]
    },
    {
     "data": {
      "application/vnd.jupyter.widget-view+json": {
       "model_id": "11c32a5a3f4b49489b3f2cf4c96f2250",
       "version_major": 2,
       "version_minor": 0
      },
      "text/plain": [
       "K MEANS CLUSTERING: k=16:   0%|          | 0/20 [00:00<?, ?it/s]"
      ]
     },
     "metadata": {},
     "output_type": "display_data"
    },
    {
     "data": {
      "application/vnd.jupyter.widget-view+json": {
       "model_id": "9d4cb87e51b2498c8e97df01ddb91501",
       "version_major": 2,
       "version_minor": 0
      },
      "text/plain": [
       "GMM (EM): k=16:   0%|          | 0/20 [00:00<?, ?it/s]"
      ]
     },
     "metadata": {},
     "output_type": "display_data"
    },
    {
     "data": {
      "application/vnd.jupyter.widget-view+json": {
       "model_id": "c9bd99cbed8d4481b010732ae5b4b101",
       "version_major": 2,
       "version_minor": 0
      },
      "text/plain": [
       "K MEANS CLUSTERING: k=15:   0%|          | 0/20 [00:00<?, ?it/s]"
      ]
     },
     "metadata": {},
     "output_type": "display_data"
    },
    {
     "data": {
      "application/vnd.jupyter.widget-view+json": {
       "model_id": "7e54a1db69534b5da4e126f90598fb67",
       "version_major": 2,
       "version_minor": 0
      },
      "text/plain": [
       "GMM (EM): k=15:   0%|          | 0/20 [00:00<?, ?it/s]"
      ]
     },
     "metadata": {},
     "output_type": "display_data"
    },
    {
     "name": "stdout",
     "output_type": "stream",
     "text": [
      "Accuracy =  100.0 %\n"
     ]
    },
    {
     "data": {
      "application/vnd.jupyter.widget-view+json": {
       "model_id": "153765e22b124fa898c95d815ad08008",
       "version_major": 2,
       "version_minor": 0
      },
      "text/plain": [
       "K MEANS CLUSTERING: k=16:   0%|          | 0/20 [00:00<?, ?it/s]"
      ]
     },
     "metadata": {},
     "output_type": "display_data"
    },
    {
     "data": {
      "application/vnd.jupyter.widget-view+json": {
       "model_id": "4fc83198fed34edda7412e6aa5612be9",
       "version_major": 2,
       "version_minor": 0
      },
      "text/plain": [
       "GMM (EM): k=16:   0%|          | 0/20 [00:00<?, ?it/s]"
      ]
     },
     "metadata": {},
     "output_type": "display_data"
    },
    {
     "data": {
      "application/vnd.jupyter.widget-view+json": {
       "model_id": "d829e7e4ff984ac4a4c286de5a28487d",
       "version_major": 2,
       "version_minor": 0
      },
      "text/plain": [
       "K MEANS CLUSTERING: k=15:   0%|          | 0/20 [00:00<?, ?it/s]"
      ]
     },
     "metadata": {},
     "output_type": "display_data"
    },
    {
     "data": {
      "application/vnd.jupyter.widget-view+json": {
       "model_id": "105654cb1bd543b6967a4605ef4afece",
       "version_major": 2,
       "version_minor": 0
      },
      "text/plain": [
       "GMM (EM): k=15:   0%|          | 0/20 [00:00<?, ?it/s]"
      ]
     },
     "metadata": {},
     "output_type": "display_data"
    },
    {
     "name": "stdout",
     "output_type": "stream",
     "text": [
      "Accuracy =  100.0 %\n"
     ]
    },
    {
     "data": {
      "application/vnd.jupyter.widget-view+json": {
       "model_id": "07d5c1453ac2419cb4864ac8f83558d7",
       "version_major": 2,
       "version_minor": 0
      },
      "text/plain": [
       "K MEANS CLUSTERING: k=16:   0%|          | 0/20 [00:00<?, ?it/s]"
      ]
     },
     "metadata": {},
     "output_type": "display_data"
    },
    {
     "data": {
      "application/vnd.jupyter.widget-view+json": {
       "model_id": "15442c2465c94c62a2ca67be0325eaca",
       "version_major": 2,
       "version_minor": 0
      },
      "text/plain": [
       "GMM (EM): k=16:   0%|          | 0/20 [00:00<?, ?it/s]"
      ]
     },
     "metadata": {},
     "output_type": "display_data"
    },
    {
     "data": {
      "application/vnd.jupyter.widget-view+json": {
       "model_id": "9f5460e19b664a649b293593b849d81b",
       "version_major": 2,
       "version_minor": 0
      },
      "text/plain": [
       "K MEANS CLUSTERING: k=15:   0%|          | 0/20 [00:00<?, ?it/s]"
      ]
     },
     "metadata": {},
     "output_type": "display_data"
    },
    {
     "data": {
      "application/vnd.jupyter.widget-view+json": {
       "model_id": "dc29e34f2de44ff0b6433c8f08e33767",
       "version_major": 2,
       "version_minor": 0
      },
      "text/plain": [
       "GMM (EM): k=15:   0%|          | 0/20 [00:00<?, ?it/s]"
      ]
     },
     "metadata": {},
     "output_type": "display_data"
    },
    {
     "name": "stdout",
     "output_type": "stream",
     "text": [
      "Accuracy =  100.0 %\n"
     ]
    },
    {
     "data": {
      "application/vnd.jupyter.widget-view+json": {
       "model_id": "51986ecc5e2348ffaedb6c4c54791b8e",
       "version_major": 2,
       "version_minor": 0
      },
      "text/plain": [
       "K MEANS CLUSTERING: k=16:   0%|          | 0/20 [00:00<?, ?it/s]"
      ]
     },
     "metadata": {},
     "output_type": "display_data"
    },
    {
     "data": {
      "application/vnd.jupyter.widget-view+json": {
       "model_id": "95b33245095646eca79f437698c00835",
       "version_major": 2,
       "version_minor": 0
      },
      "text/plain": [
       "GMM (EM): k=16:   0%|          | 0/20 [00:00<?, ?it/s]"
      ]
     },
     "metadata": {},
     "output_type": "display_data"
    },
    {
     "data": {
      "application/vnd.jupyter.widget-view+json": {
       "model_id": "2c03d314cb354a7ba9df03bc2e832ef4",
       "version_major": 2,
       "version_minor": 0
      },
      "text/plain": [
       "K MEANS CLUSTERING: k=15:   0%|          | 0/20 [00:00<?, ?it/s]"
      ]
     },
     "metadata": {},
     "output_type": "display_data"
    },
    {
     "data": {
      "application/vnd.jupyter.widget-view+json": {
       "model_id": "0f209c6c50b94c5d971e630cb124d2f1",
       "version_major": 2,
       "version_minor": 0
      },
      "text/plain": [
       "GMM (EM): k=15:   0%|          | 0/20 [00:00<?, ?it/s]"
      ]
     },
     "metadata": {},
     "output_type": "display_data"
    },
    {
     "name": "stdout",
     "output_type": "stream",
     "text": [
      "Accuracy =  100.0 %\n"
     ]
    },
    {
     "data": {
      "application/vnd.jupyter.widget-view+json": {
       "model_id": "c0a7651cafd44f16b7af539146a00d63",
       "version_major": 2,
       "version_minor": 0
      },
      "text/plain": [
       "K MEANS CLUSTERING: k=16:   0%|          | 0/20 [00:00<?, ?it/s]"
      ]
     },
     "metadata": {},
     "output_type": "display_data"
    },
    {
     "data": {
      "application/vnd.jupyter.widget-view+json": {
       "model_id": "bafeec51567b4d57b0080dd78e86b48a",
       "version_major": 2,
       "version_minor": 0
      },
      "text/plain": [
       "GMM (EM): k=16:   0%|          | 0/20 [00:00<?, ?it/s]"
      ]
     },
     "metadata": {},
     "output_type": "display_data"
    },
    {
     "data": {
      "application/vnd.jupyter.widget-view+json": {
       "model_id": "f974c133854e4528bedadbfa03b3e61f",
       "version_major": 2,
       "version_minor": 0
      },
      "text/plain": [
       "K MEANS CLUSTERING: k=15:   0%|          | 0/20 [00:00<?, ?it/s]"
      ]
     },
     "metadata": {},
     "output_type": "display_data"
    },
    {
     "data": {
      "application/vnd.jupyter.widget-view+json": {
       "model_id": "47d70e48d31b41f28c3688b9033655d3",
       "version_major": 2,
       "version_minor": 0
      },
      "text/plain": [
       "GMM (EM): k=15:   0%|          | 0/20 [00:00<?, ?it/s]"
      ]
     },
     "metadata": {},
     "output_type": "display_data"
    },
    {
     "name": "stdout",
     "output_type": "stream",
     "text": [
      "Accuracy =  100.0 %\n"
     ]
    },
    {
     "data": {
      "application/vnd.jupyter.widget-view+json": {
       "model_id": "6aba8e3ba636401089aaf484f81edd46",
       "version_major": 2,
       "version_minor": 0
      },
      "text/plain": [
       "K MEANS CLUSTERING: k=16:   0%|          | 0/25 [00:00<?, ?it/s]"
      ]
     },
     "metadata": {},
     "output_type": "display_data"
    },
    {
     "data": {
      "application/vnd.jupyter.widget-view+json": {
       "model_id": "09b21bf7a8a1429d89440ccaf8b7b0e4",
       "version_major": 2,
       "version_minor": 0
      },
      "text/plain": [
       "GMM (EM): k=16:   0%|          | 0/25 [00:00<?, ?it/s]"
      ]
     },
     "metadata": {},
     "output_type": "display_data"
    },
    {
     "data": {
      "application/vnd.jupyter.widget-view+json": {
       "model_id": "20127a4678aa4b329fd4ef5c6e5800d5",
       "version_major": 2,
       "version_minor": 0
      },
      "text/plain": [
       "K MEANS CLUSTERING: k=15:   0%|          | 0/25 [00:00<?, ?it/s]"
      ]
     },
     "metadata": {},
     "output_type": "display_data"
    },
    {
     "data": {
      "application/vnd.jupyter.widget-view+json": {
       "model_id": "25a0929f979c4157a7d4a26d68c739c6",
       "version_major": 2,
       "version_minor": 0
      },
      "text/plain": [
       "GMM (EM): k=15:   0%|          | 0/25 [00:00<?, ?it/s]"
      ]
     },
     "metadata": {},
     "output_type": "display_data"
    },
    {
     "name": "stdout",
     "output_type": "stream",
     "text": [
      "Accuracy =  100.0 %\n"
     ]
    },
    {
     "data": {
      "application/vnd.jupyter.widget-view+json": {
       "model_id": "e894ee7f3e0845e0a49fe6b6e7f0e294",
       "version_major": 2,
       "version_minor": 0
      },
      "text/plain": [
       "K MEANS CLUSTERING: k=16:   0%|          | 0/25 [00:00<?, ?it/s]"
      ]
     },
     "metadata": {},
     "output_type": "display_data"
    },
    {
     "data": {
      "application/vnd.jupyter.widget-view+json": {
       "model_id": "32b4f41f5f2e45ba9945fdb894393dbd",
       "version_major": 2,
       "version_minor": 0
      },
      "text/plain": [
       "GMM (EM): k=16:   0%|          | 0/25 [00:00<?, ?it/s]"
      ]
     },
     "metadata": {},
     "output_type": "display_data"
    },
    {
     "data": {
      "application/vnd.jupyter.widget-view+json": {
       "model_id": "0663101ef6294f64ae157513a58a4ed3",
       "version_major": 2,
       "version_minor": 0
      },
      "text/plain": [
       "K MEANS CLUSTERING: k=15:   0%|          | 0/25 [00:00<?, ?it/s]"
      ]
     },
     "metadata": {},
     "output_type": "display_data"
    },
    {
     "data": {
      "application/vnd.jupyter.widget-view+json": {
       "model_id": "59a9ed6f30084805a879550ceef2ef96",
       "version_major": 2,
       "version_minor": 0
      },
      "text/plain": [
       "GMM (EM): k=15:   0%|          | 0/25 [00:00<?, ?it/s]"
      ]
     },
     "metadata": {},
     "output_type": "display_data"
    },
    {
     "name": "stdout",
     "output_type": "stream",
     "text": [
      "Accuracy =  100.0 %\n"
     ]
    },
    {
     "data": {
      "application/vnd.jupyter.widget-view+json": {
       "model_id": "9a0a6a798cd742d69da5967aa3e7699a",
       "version_major": 2,
       "version_minor": 0
      },
      "text/plain": [
       "K MEANS CLUSTERING: k=16:   0%|          | 0/25 [00:00<?, ?it/s]"
      ]
     },
     "metadata": {},
     "output_type": "display_data"
    },
    {
     "data": {
      "application/vnd.jupyter.widget-view+json": {
       "model_id": "7869b3387467435e8270fbbb62ef8ac5",
       "version_major": 2,
       "version_minor": 0
      },
      "text/plain": [
       "GMM (EM): k=16:   0%|          | 0/25 [00:00<?, ?it/s]"
      ]
     },
     "metadata": {},
     "output_type": "display_data"
    },
    {
     "data": {
      "application/vnd.jupyter.widget-view+json": {
       "model_id": "9cc81afd70ec405498f598b3593147b4",
       "version_major": 2,
       "version_minor": 0
      },
      "text/plain": [
       "K MEANS CLUSTERING: k=15:   0%|          | 0/25 [00:00<?, ?it/s]"
      ]
     },
     "metadata": {},
     "output_type": "display_data"
    },
    {
     "data": {
      "application/vnd.jupyter.widget-view+json": {
       "model_id": "818f78a2e04449d8a0097ecb81302625",
       "version_major": 2,
       "version_minor": 0
      },
      "text/plain": [
       "GMM (EM): k=15:   0%|          | 0/25 [00:00<?, ?it/s]"
      ]
     },
     "metadata": {},
     "output_type": "display_data"
    },
    {
     "name": "stdout",
     "output_type": "stream",
     "text": [
      "Accuracy =  100.0 %\n"
     ]
    },
    {
     "data": {
      "application/vnd.jupyter.widget-view+json": {
       "model_id": "f6bb695825f245d389e77cc9df78726d",
       "version_major": 2,
       "version_minor": 0
      },
      "text/plain": [
       "K MEANS CLUSTERING: k=16:   0%|          | 0/25 [00:00<?, ?it/s]"
      ]
     },
     "metadata": {},
     "output_type": "display_data"
    },
    {
     "data": {
      "application/vnd.jupyter.widget-view+json": {
       "model_id": "fd65f5f8038f4335bfd48cd39a0dea53",
       "version_major": 2,
       "version_minor": 0
      },
      "text/plain": [
       "GMM (EM): k=16:   0%|          | 0/25 [00:00<?, ?it/s]"
      ]
     },
     "metadata": {},
     "output_type": "display_data"
    },
    {
     "data": {
      "application/vnd.jupyter.widget-view+json": {
       "model_id": "c2537c9c2b7f4964a45fe33b8a3d3492",
       "version_major": 2,
       "version_minor": 0
      },
      "text/plain": [
       "K MEANS CLUSTERING: k=15:   0%|          | 0/25 [00:00<?, ?it/s]"
      ]
     },
     "metadata": {},
     "output_type": "display_data"
    },
    {
     "data": {
      "application/vnd.jupyter.widget-view+json": {
       "model_id": "15224dfe8d5c4cdf9a0434de12ef9359",
       "version_major": 2,
       "version_minor": 0
      },
      "text/plain": [
       "GMM (EM): k=15:   0%|          | 0/25 [00:00<?, ?it/s]"
      ]
     },
     "metadata": {},
     "output_type": "display_data"
    },
    {
     "name": "stdout",
     "output_type": "stream",
     "text": [
      "Accuracy =  100.0 %\n"
     ]
    },
    {
     "data": {
      "application/vnd.jupyter.widget-view+json": {
       "model_id": "ef0f5d2fb05143c2bb4248226934fa95",
       "version_major": 2,
       "version_minor": 0
      },
      "text/plain": [
       "K MEANS CLUSTERING: k=16:   0%|          | 0/25 [00:00<?, ?it/s]"
      ]
     },
     "metadata": {},
     "output_type": "display_data"
    },
    {
     "data": {
      "application/vnd.jupyter.widget-view+json": {
       "model_id": "2997c24e7f574211a3ace9abcb196079",
       "version_major": 2,
       "version_minor": 0
      },
      "text/plain": [
       "GMM (EM): k=16:   0%|          | 0/25 [00:00<?, ?it/s]"
      ]
     },
     "metadata": {},
     "output_type": "display_data"
    },
    {
     "data": {
      "application/vnd.jupyter.widget-view+json": {
       "model_id": "29f5eaa12b4449908e6bfb2942149213",
       "version_major": 2,
       "version_minor": 0
      },
      "text/plain": [
       "K MEANS CLUSTERING: k=15:   0%|          | 0/25 [00:00<?, ?it/s]"
      ]
     },
     "metadata": {},
     "output_type": "display_data"
    },
    {
     "data": {
      "application/vnd.jupyter.widget-view+json": {
       "model_id": "1bb5aad2f97e4affab85f9434474de6c",
       "version_major": 2,
       "version_minor": 0
      },
      "text/plain": [
       "GMM (EM): k=15:   0%|          | 0/25 [00:00<?, ?it/s]"
      ]
     },
     "metadata": {},
     "output_type": "display_data"
    },
    {
     "name": "stdout",
     "output_type": "stream",
     "text": [
      "Accuracy =  100.0 %\n"
     ]
    },
    {
     "data": {
      "application/vnd.jupyter.widget-view+json": {
       "model_id": "9cabf4cdc3dd4086be23ca4f7ffc3bc2",
       "version_major": 2,
       "version_minor": 0
      },
      "text/plain": [
       "K MEANS CLUSTERING: k=16:   0%|          | 0/25 [00:00<?, ?it/s]"
      ]
     },
     "metadata": {},
     "output_type": "display_data"
    },
    {
     "data": {
      "application/vnd.jupyter.widget-view+json": {
       "model_id": "81180bf61e404e9598e5e05de87060e0",
       "version_major": 2,
       "version_minor": 0
      },
      "text/plain": [
       "GMM (EM): k=16:   0%|          | 0/25 [00:00<?, ?it/s]"
      ]
     },
     "metadata": {},
     "output_type": "display_data"
    },
    {
     "data": {
      "application/vnd.jupyter.widget-view+json": {
       "model_id": "31ae753bd10042daa5717b94cecafaeb",
       "version_major": 2,
       "version_minor": 0
      },
      "text/plain": [
       "K MEANS CLUSTERING: k=15:   0%|          | 0/25 [00:00<?, ?it/s]"
      ]
     },
     "metadata": {},
     "output_type": "display_data"
    },
    {
     "data": {
      "application/vnd.jupyter.widget-view+json": {
       "model_id": "54c6ca003d484e6fab9d2a2d4ba6523e",
       "version_major": 2,
       "version_minor": 0
      },
      "text/plain": [
       "GMM (EM): k=15:   0%|          | 0/25 [00:00<?, ?it/s]"
      ]
     },
     "metadata": {},
     "output_type": "display_data"
    },
    {
     "name": "stdout",
     "output_type": "stream",
     "text": [
      "Accuracy =  100.0 %\n"
     ]
    },
    {
     "data": {
      "application/vnd.jupyter.widget-view+json": {
       "model_id": "8d83c15892474c34b1f110ae6b5ed973",
       "version_major": 2,
       "version_minor": 0
      },
      "text/plain": [
       "K MEANS CLUSTERING: k=16:   0%|          | 0/30 [00:00<?, ?it/s]"
      ]
     },
     "metadata": {},
     "output_type": "display_data"
    },
    {
     "data": {
      "application/vnd.jupyter.widget-view+json": {
       "model_id": "edb58375ad2b411089abd77a4085269b",
       "version_major": 2,
       "version_minor": 0
      },
      "text/plain": [
       "GMM (EM): k=16:   0%|          | 0/30 [00:00<?, ?it/s]"
      ]
     },
     "metadata": {},
     "output_type": "display_data"
    },
    {
     "data": {
      "application/vnd.jupyter.widget-view+json": {
       "model_id": "5bd32eac85b5414097d0d4f5d2742d05",
       "version_major": 2,
       "version_minor": 0
      },
      "text/plain": [
       "K MEANS CLUSTERING: k=15:   0%|          | 0/30 [00:00<?, ?it/s]"
      ]
     },
     "metadata": {},
     "output_type": "display_data"
    },
    {
     "data": {
      "application/vnd.jupyter.widget-view+json": {
       "model_id": "07344d05cec54a32b4685e9a5714c855",
       "version_major": 2,
       "version_minor": 0
      },
      "text/plain": [
       "GMM (EM): k=15:   0%|          | 0/30 [00:00<?, ?it/s]"
      ]
     },
     "metadata": {},
     "output_type": "display_data"
    },
    {
     "name": "stdout",
     "output_type": "stream",
     "text": [
      "Accuracy =  100.0 %\n"
     ]
    },
    {
     "data": {
      "application/vnd.jupyter.widget-view+json": {
       "model_id": "bb2054be9c874af9923c252d028a25bf",
       "version_major": 2,
       "version_minor": 0
      },
      "text/plain": [
       "K MEANS CLUSTERING: k=16:   0%|          | 0/30 [00:00<?, ?it/s]"
      ]
     },
     "metadata": {},
     "output_type": "display_data"
    },
    {
     "data": {
      "application/vnd.jupyter.widget-view+json": {
       "model_id": "8dd5edacca3d4621ad2ced8b5b97cee1",
       "version_major": 2,
       "version_minor": 0
      },
      "text/plain": [
       "GMM (EM): k=16:   0%|          | 0/30 [00:00<?, ?it/s]"
      ]
     },
     "metadata": {},
     "output_type": "display_data"
    },
    {
     "data": {
      "application/vnd.jupyter.widget-view+json": {
       "model_id": "9dcdd797f96f41618a499e9979e34e1e",
       "version_major": 2,
       "version_minor": 0
      },
      "text/plain": [
       "K MEANS CLUSTERING: k=15:   0%|          | 0/30 [00:00<?, ?it/s]"
      ]
     },
     "metadata": {},
     "output_type": "display_data"
    },
    {
     "data": {
      "application/vnd.jupyter.widget-view+json": {
       "model_id": "bb9250675a6c4914aa8ab71ac71f2c86",
       "version_major": 2,
       "version_minor": 0
      },
      "text/plain": [
       "GMM (EM): k=15:   0%|          | 0/30 [00:00<?, ?it/s]"
      ]
     },
     "metadata": {},
     "output_type": "display_data"
    },
    {
     "name": "stdout",
     "output_type": "stream",
     "text": [
      "Accuracy =  100.0 %\n"
     ]
    },
    {
     "data": {
      "application/vnd.jupyter.widget-view+json": {
       "model_id": "4ba18f60ef3d4b64b81da37fe8795668",
       "version_major": 2,
       "version_minor": 0
      },
      "text/plain": [
       "K MEANS CLUSTERING: k=16:   0%|          | 0/30 [00:00<?, ?it/s]"
      ]
     },
     "metadata": {},
     "output_type": "display_data"
    },
    {
     "data": {
      "application/vnd.jupyter.widget-view+json": {
       "model_id": "02e0adec137a42b3a6b916f3984a9129",
       "version_major": 2,
       "version_minor": 0
      },
      "text/plain": [
       "GMM (EM): k=16:   0%|          | 0/30 [00:00<?, ?it/s]"
      ]
     },
     "metadata": {},
     "output_type": "display_data"
    },
    {
     "data": {
      "application/vnd.jupyter.widget-view+json": {
       "model_id": "2571f548dcb2495e83044df40bbf127b",
       "version_major": 2,
       "version_minor": 0
      },
      "text/plain": [
       "K MEANS CLUSTERING: k=15:   0%|          | 0/30 [00:00<?, ?it/s]"
      ]
     },
     "metadata": {},
     "output_type": "display_data"
    },
    {
     "data": {
      "application/vnd.jupyter.widget-view+json": {
       "model_id": "43e394fc47b9429e984a1bcd01a3f9bd",
       "version_major": 2,
       "version_minor": 0
      },
      "text/plain": [
       "GMM (EM): k=15:   0%|          | 0/30 [00:00<?, ?it/s]"
      ]
     },
     "metadata": {},
     "output_type": "display_data"
    },
    {
     "name": "stdout",
     "output_type": "stream",
     "text": [
      "Accuracy =  100.0 %\n"
     ]
    },
    {
     "data": {
      "application/vnd.jupyter.widget-view+json": {
       "model_id": "35d0b0c5eeb441f6bb4d02112bc1ec14",
       "version_major": 2,
       "version_minor": 0
      },
      "text/plain": [
       "K MEANS CLUSTERING: k=16:   0%|          | 0/30 [00:00<?, ?it/s]"
      ]
     },
     "metadata": {},
     "output_type": "display_data"
    },
    {
     "data": {
      "application/vnd.jupyter.widget-view+json": {
       "model_id": "b749ad34512c42b2b35cab841e13c33c",
       "version_major": 2,
       "version_minor": 0
      },
      "text/plain": [
       "GMM (EM): k=16:   0%|          | 0/30 [00:00<?, ?it/s]"
      ]
     },
     "metadata": {},
     "output_type": "display_data"
    },
    {
     "data": {
      "application/vnd.jupyter.widget-view+json": {
       "model_id": "e4022d7c4e9b4845bb170103bd1d280b",
       "version_major": 2,
       "version_minor": 0
      },
      "text/plain": [
       "K MEANS CLUSTERING: k=15:   0%|          | 0/30 [00:00<?, ?it/s]"
      ]
     },
     "metadata": {},
     "output_type": "display_data"
    },
    {
     "data": {
      "application/vnd.jupyter.widget-view+json": {
       "model_id": "28937a8db93c4346aff697d417574e15",
       "version_major": 2,
       "version_minor": 0
      },
      "text/plain": [
       "GMM (EM): k=15:   0%|          | 0/30 [00:00<?, ?it/s]"
      ]
     },
     "metadata": {},
     "output_type": "display_data"
    },
    {
     "name": "stdout",
     "output_type": "stream",
     "text": [
      "Accuracy =  100.0 %\n"
     ]
    },
    {
     "data": {
      "application/vnd.jupyter.widget-view+json": {
       "model_id": "dab19b36de984012a4e6abe39d24dc35",
       "version_major": 2,
       "version_minor": 0
      },
      "text/plain": [
       "K MEANS CLUSTERING: k=16:   0%|          | 0/30 [00:00<?, ?it/s]"
      ]
     },
     "metadata": {},
     "output_type": "display_data"
    },
    {
     "data": {
      "application/vnd.jupyter.widget-view+json": {
       "model_id": "4cd5c167f08947669ae58d5af6577127",
       "version_major": 2,
       "version_minor": 0
      },
      "text/plain": [
       "GMM (EM): k=16:   0%|          | 0/30 [00:00<?, ?it/s]"
      ]
     },
     "metadata": {},
     "output_type": "display_data"
    },
    {
     "data": {
      "application/vnd.jupyter.widget-view+json": {
       "model_id": "58074938675b482f93b2b31b6f8e1cbd",
       "version_major": 2,
       "version_minor": 0
      },
      "text/plain": [
       "K MEANS CLUSTERING: k=15:   0%|          | 0/30 [00:00<?, ?it/s]"
      ]
     },
     "metadata": {},
     "output_type": "display_data"
    },
    {
     "data": {
      "application/vnd.jupyter.widget-view+json": {
       "model_id": "219b38fb2b034bc78bf24e8d44f6f935",
       "version_major": 2,
       "version_minor": 0
      },
      "text/plain": [
       "GMM (EM): k=15:   0%|          | 0/30 [00:00<?, ?it/s]"
      ]
     },
     "metadata": {},
     "output_type": "display_data"
    },
    {
     "name": "stdout",
     "output_type": "stream",
     "text": [
      "Accuracy =  100.0 %\n"
     ]
    },
    {
     "data": {
      "application/vnd.jupyter.widget-view+json": {
       "model_id": "718d7418a8c04a379158fa4cef6534be",
       "version_major": 2,
       "version_minor": 0
      },
      "text/plain": [
       "K MEANS CLUSTERING: k=16:   0%|          | 0/30 [00:00<?, ?it/s]"
      ]
     },
     "metadata": {},
     "output_type": "display_data"
    },
    {
     "data": {
      "application/vnd.jupyter.widget-view+json": {
       "model_id": "da3cb4e0db81412d810b09d165f347f6",
       "version_major": 2,
       "version_minor": 0
      },
      "text/plain": [
       "GMM (EM): k=16:   0%|          | 0/30 [00:00<?, ?it/s]"
      ]
     },
     "metadata": {},
     "output_type": "display_data"
    },
    {
     "data": {
      "application/vnd.jupyter.widget-view+json": {
       "model_id": "319277b125d2400fa80a621576f14e64",
       "version_major": 2,
       "version_minor": 0
      },
      "text/plain": [
       "K MEANS CLUSTERING: k=15:   0%|          | 0/30 [00:00<?, ?it/s]"
      ]
     },
     "metadata": {},
     "output_type": "display_data"
    },
    {
     "data": {
      "application/vnd.jupyter.widget-view+json": {
       "model_id": "ff982ad534e74088bb9e7f6119e05387",
       "version_major": 2,
       "version_minor": 0
      },
      "text/plain": [
       "GMM (EM): k=15:   0%|          | 0/30 [00:00<?, ?it/s]"
      ]
     },
     "metadata": {},
     "output_type": "display_data"
    },
    {
     "name": "stdout",
     "output_type": "stream",
     "text": [
      "Accuracy =  100.0 %\n"
     ]
    },
    {
     "data": {
      "application/vnd.jupyter.widget-view+json": {
       "model_id": "7a3bee4b744f458381c7c06c68485540",
       "version_major": 2,
       "version_minor": 0
      },
      "text/plain": [
       "K MEANS CLUSTERING: k=16:   0%|          | 0/5 [00:00<?, ?it/s]"
      ]
     },
     "metadata": {},
     "output_type": "display_data"
    },
    {
     "data": {
      "application/vnd.jupyter.widget-view+json": {
       "model_id": "cd00d3f1097445389115dd7045f9ee44",
       "version_major": 2,
       "version_minor": 0
      },
      "text/plain": [
       "GMM (EM): k=16:   0%|          | 0/5 [00:00<?, ?it/s]"
      ]
     },
     "metadata": {},
     "output_type": "display_data"
    },
    {
     "data": {
      "application/vnd.jupyter.widget-view+json": {
       "model_id": "ef1e5554e8a04fa6b309f095d5f2e70f",
       "version_major": 2,
       "version_minor": 0
      },
      "text/plain": [
       "K MEANS CLUSTERING: k=14:   0%|          | 0/5 [00:00<?, ?it/s]"
      ]
     },
     "metadata": {},
     "output_type": "display_data"
    },
    {
     "data": {
      "application/vnd.jupyter.widget-view+json": {
       "model_id": "c2b974b803c049fcb691c9c8ddf672f2",
       "version_major": 2,
       "version_minor": 0
      },
      "text/plain": [
       "GMM (EM): k=14:   0%|          | 0/5 [00:00<?, ?it/s]"
      ]
     },
     "metadata": {},
     "output_type": "display_data"
    },
    {
     "name": "stdout",
     "output_type": "stream",
     "text": [
      "Accuracy =  98.0 %\n"
     ]
    },
    {
     "data": {
      "application/vnd.jupyter.widget-view+json": {
       "model_id": "7e9cff8424f3459e9e0f661a745e3546",
       "version_major": 2,
       "version_minor": 0
      },
      "text/plain": [
       "K MEANS CLUSTERING: k=16:   0%|          | 0/5 [00:00<?, ?it/s]"
      ]
     },
     "metadata": {},
     "output_type": "display_data"
    },
    {
     "data": {
      "application/vnd.jupyter.widget-view+json": {
       "model_id": "b96ea79788504ddd9acf1a60df7a0dc1",
       "version_major": 2,
       "version_minor": 0
      },
      "text/plain": [
       "GMM (EM): k=16:   0%|          | 0/5 [00:00<?, ?it/s]"
      ]
     },
     "metadata": {},
     "output_type": "display_data"
    },
    {
     "data": {
      "application/vnd.jupyter.widget-view+json": {
       "model_id": "230bdb1ef3294472a4ec5a36b9db995a",
       "version_major": 2,
       "version_minor": 0
      },
      "text/plain": [
       "K MEANS CLUSTERING: k=14:   0%|          | 0/5 [00:00<?, ?it/s]"
      ]
     },
     "metadata": {},
     "output_type": "display_data"
    },
    {
     "data": {
      "application/vnd.jupyter.widget-view+json": {
       "model_id": "69895d549022410ab81f4294960c36e2",
       "version_major": 2,
       "version_minor": 0
      },
      "text/plain": [
       "GMM (EM): k=14:   0%|          | 0/5 [00:00<?, ?it/s]"
      ]
     },
     "metadata": {},
     "output_type": "display_data"
    },
    {
     "name": "stdout",
     "output_type": "stream",
     "text": [
      "Accuracy =  98.0 %\n"
     ]
    },
    {
     "data": {
      "application/vnd.jupyter.widget-view+json": {
       "model_id": "889895293c2d4117aa9903b193f53a95",
       "version_major": 2,
       "version_minor": 0
      },
      "text/plain": [
       "K MEANS CLUSTERING: k=16:   0%|          | 0/5 [00:00<?, ?it/s]"
      ]
     },
     "metadata": {},
     "output_type": "display_data"
    },
    {
     "data": {
      "application/vnd.jupyter.widget-view+json": {
       "model_id": "efb9a56c09934438b90af15111b1d396",
       "version_major": 2,
       "version_minor": 0
      },
      "text/plain": [
       "GMM (EM): k=16:   0%|          | 0/5 [00:00<?, ?it/s]"
      ]
     },
     "metadata": {},
     "output_type": "display_data"
    },
    {
     "data": {
      "application/vnd.jupyter.widget-view+json": {
       "model_id": "5c5eed4c27f747328e586efa5910e0f9",
       "version_major": 2,
       "version_minor": 0
      },
      "text/plain": [
       "K MEANS CLUSTERING: k=14:   0%|          | 0/5 [00:00<?, ?it/s]"
      ]
     },
     "metadata": {},
     "output_type": "display_data"
    },
    {
     "data": {
      "application/vnd.jupyter.widget-view+json": {
       "model_id": "771e21c71be84d21a921fd97ff2a8e04",
       "version_major": 2,
       "version_minor": 0
      },
      "text/plain": [
       "GMM (EM): k=14:   0%|          | 0/5 [00:00<?, ?it/s]"
      ]
     },
     "metadata": {},
     "output_type": "display_data"
    },
    {
     "name": "stdout",
     "output_type": "stream",
     "text": [
      "Accuracy =  98.0 %\n"
     ]
    },
    {
     "data": {
      "application/vnd.jupyter.widget-view+json": {
       "model_id": "7eb7c35595e84891af1c56de2e6292ea",
       "version_major": 2,
       "version_minor": 0
      },
      "text/plain": [
       "K MEANS CLUSTERING: k=16:   0%|          | 0/5 [00:00<?, ?it/s]"
      ]
     },
     "metadata": {},
     "output_type": "display_data"
    },
    {
     "data": {
      "application/vnd.jupyter.widget-view+json": {
       "model_id": "739429326ced4c4e98c94900efa12b70",
       "version_major": 2,
       "version_minor": 0
      },
      "text/plain": [
       "GMM (EM): k=16:   0%|          | 0/5 [00:00<?, ?it/s]"
      ]
     },
     "metadata": {},
     "output_type": "display_data"
    },
    {
     "data": {
      "application/vnd.jupyter.widget-view+json": {
       "model_id": "e3bd25979bd545b6adc80fde6303989f",
       "version_major": 2,
       "version_minor": 0
      },
      "text/plain": [
       "K MEANS CLUSTERING: k=14:   0%|          | 0/5 [00:00<?, ?it/s]"
      ]
     },
     "metadata": {},
     "output_type": "display_data"
    },
    {
     "data": {
      "application/vnd.jupyter.widget-view+json": {
       "model_id": "d23d72ce17b24d7d87dca7f2ac9cb76c",
       "version_major": 2,
       "version_minor": 0
      },
      "text/plain": [
       "GMM (EM): k=14:   0%|          | 0/5 [00:00<?, ?it/s]"
      ]
     },
     "metadata": {},
     "output_type": "display_data"
    },
    {
     "name": "stdout",
     "output_type": "stream",
     "text": [
      "Accuracy =  98.0 %\n"
     ]
    },
    {
     "data": {
      "application/vnd.jupyter.widget-view+json": {
       "model_id": "9245f2f6d57e49c7b54973f5e12b6936",
       "version_major": 2,
       "version_minor": 0
      },
      "text/plain": [
       "K MEANS CLUSTERING: k=16:   0%|          | 0/5 [00:00<?, ?it/s]"
      ]
     },
     "metadata": {},
     "output_type": "display_data"
    },
    {
     "data": {
      "application/vnd.jupyter.widget-view+json": {
       "model_id": "a0aeae39f2a6420284b714c47d9ba257",
       "version_major": 2,
       "version_minor": 0
      },
      "text/plain": [
       "GMM (EM): k=16:   0%|          | 0/5 [00:00<?, ?it/s]"
      ]
     },
     "metadata": {},
     "output_type": "display_data"
    },
    {
     "data": {
      "application/vnd.jupyter.widget-view+json": {
       "model_id": "caadc02c558b476099ff0b9f740a4c30",
       "version_major": 2,
       "version_minor": 0
      },
      "text/plain": [
       "K MEANS CLUSTERING: k=14:   0%|          | 0/5 [00:00<?, ?it/s]"
      ]
     },
     "metadata": {},
     "output_type": "display_data"
    },
    {
     "data": {
      "application/vnd.jupyter.widget-view+json": {
       "model_id": "5be6179fc1214bb38f40810ce04c0bd6",
       "version_major": 2,
       "version_minor": 0
      },
      "text/plain": [
       "GMM (EM): k=14:   0%|          | 0/5 [00:00<?, ?it/s]"
      ]
     },
     "metadata": {},
     "output_type": "display_data"
    },
    {
     "name": "stdout",
     "output_type": "stream",
     "text": [
      "Accuracy =  98.0 %\n"
     ]
    },
    {
     "data": {
      "application/vnd.jupyter.widget-view+json": {
       "model_id": "bd9967fa6627489884407b37eccf6c8f",
       "version_major": 2,
       "version_minor": 0
      },
      "text/plain": [
       "K MEANS CLUSTERING: k=16:   0%|          | 0/5 [00:00<?, ?it/s]"
      ]
     },
     "metadata": {},
     "output_type": "display_data"
    },
    {
     "data": {
      "application/vnd.jupyter.widget-view+json": {
       "model_id": "43023b75735f46d89681c4a0db15b14c",
       "version_major": 2,
       "version_minor": 0
      },
      "text/plain": [
       "GMM (EM): k=16:   0%|          | 0/5 [00:00<?, ?it/s]"
      ]
     },
     "metadata": {},
     "output_type": "display_data"
    },
    {
     "data": {
      "application/vnd.jupyter.widget-view+json": {
       "model_id": "b0818e0a2e1b496f84b5494b6752a173",
       "version_major": 2,
       "version_minor": 0
      },
      "text/plain": [
       "K MEANS CLUSTERING: k=14:   0%|          | 0/5 [00:00<?, ?it/s]"
      ]
     },
     "metadata": {},
     "output_type": "display_data"
    },
    {
     "data": {
      "application/vnd.jupyter.widget-view+json": {
       "model_id": "89491a7811904b578302ba079bbf6623",
       "version_major": 2,
       "version_minor": 0
      },
      "text/plain": [
       "GMM (EM): k=14:   0%|          | 0/5 [00:00<?, ?it/s]"
      ]
     },
     "metadata": {},
     "output_type": "display_data"
    },
    {
     "name": "stdout",
     "output_type": "stream",
     "text": [
      "Accuracy =  98.0 %\n"
     ]
    },
    {
     "data": {
      "application/vnd.jupyter.widget-view+json": {
       "model_id": "90389ec4410b40bd9e72b8643934a6c1",
       "version_major": 2,
       "version_minor": 0
      },
      "text/plain": [
       "K MEANS CLUSTERING: k=16:   0%|          | 0/10 [00:00<?, ?it/s]"
      ]
     },
     "metadata": {},
     "output_type": "display_data"
    },
    {
     "data": {
      "application/vnd.jupyter.widget-view+json": {
       "model_id": "82e8dcbd5459406699a15f215d59435a",
       "version_major": 2,
       "version_minor": 0
      },
      "text/plain": [
       "GMM (EM): k=16:   0%|          | 0/10 [00:00<?, ?it/s]"
      ]
     },
     "metadata": {},
     "output_type": "display_data"
    },
    {
     "data": {
      "application/vnd.jupyter.widget-view+json": {
       "model_id": "f2415ff37ecb455f814c4171793d10c2",
       "version_major": 2,
       "version_minor": 0
      },
      "text/plain": [
       "K MEANS CLUSTERING: k=14:   0%|          | 0/10 [00:00<?, ?it/s]"
      ]
     },
     "metadata": {},
     "output_type": "display_data"
    },
    {
     "data": {
      "application/vnd.jupyter.widget-view+json": {
       "model_id": "fcd4868af11b42eda6af9fa9dbafb707",
       "version_major": 2,
       "version_minor": 0
      },
      "text/plain": [
       "GMM (EM): k=14:   0%|          | 0/10 [00:00<?, ?it/s]"
      ]
     },
     "metadata": {},
     "output_type": "display_data"
    },
    {
     "name": "stdout",
     "output_type": "stream",
     "text": [
      "Accuracy =  100.0 %\n"
     ]
    },
    {
     "data": {
      "application/vnd.jupyter.widget-view+json": {
       "model_id": "35945c0b6ae3448fa1a19e93d7771b07",
       "version_major": 2,
       "version_minor": 0
      },
      "text/plain": [
       "K MEANS CLUSTERING: k=16:   0%|          | 0/10 [00:00<?, ?it/s]"
      ]
     },
     "metadata": {},
     "output_type": "display_data"
    },
    {
     "data": {
      "application/vnd.jupyter.widget-view+json": {
       "model_id": "d8c7406c5607469dbb5e89ffc04a7207",
       "version_major": 2,
       "version_minor": 0
      },
      "text/plain": [
       "GMM (EM): k=16:   0%|          | 0/10 [00:00<?, ?it/s]"
      ]
     },
     "metadata": {},
     "output_type": "display_data"
    },
    {
     "data": {
      "application/vnd.jupyter.widget-view+json": {
       "model_id": "96eab606722f4dc6a53282528e009b3c",
       "version_major": 2,
       "version_minor": 0
      },
      "text/plain": [
       "K MEANS CLUSTERING: k=14:   0%|          | 0/10 [00:00<?, ?it/s]"
      ]
     },
     "metadata": {},
     "output_type": "display_data"
    },
    {
     "data": {
      "application/vnd.jupyter.widget-view+json": {
       "model_id": "cfc432b95ea049299df45591ed940767",
       "version_major": 2,
       "version_minor": 0
      },
      "text/plain": [
       "GMM (EM): k=14:   0%|          | 0/10 [00:00<?, ?it/s]"
      ]
     },
     "metadata": {},
     "output_type": "display_data"
    },
    {
     "name": "stdout",
     "output_type": "stream",
     "text": [
      "Accuracy =  100.0 %\n"
     ]
    },
    {
     "data": {
      "application/vnd.jupyter.widget-view+json": {
       "model_id": "94e368f14673463294fabba989c05860",
       "version_major": 2,
       "version_minor": 0
      },
      "text/plain": [
       "K MEANS CLUSTERING: k=16:   0%|          | 0/10 [00:00<?, ?it/s]"
      ]
     },
     "metadata": {},
     "output_type": "display_data"
    },
    {
     "data": {
      "application/vnd.jupyter.widget-view+json": {
       "model_id": "ca3d8af40c4b4ba1b063aa853d724a62",
       "version_major": 2,
       "version_minor": 0
      },
      "text/plain": [
       "GMM (EM): k=16:   0%|          | 0/10 [00:00<?, ?it/s]"
      ]
     },
     "metadata": {},
     "output_type": "display_data"
    },
    {
     "data": {
      "application/vnd.jupyter.widget-view+json": {
       "model_id": "e63971220ba54745b8732ac40e5b8054",
       "version_major": 2,
       "version_minor": 0
      },
      "text/plain": [
       "K MEANS CLUSTERING: k=14:   0%|          | 0/10 [00:00<?, ?it/s]"
      ]
     },
     "metadata": {},
     "output_type": "display_data"
    },
    {
     "data": {
      "application/vnd.jupyter.widget-view+json": {
       "model_id": "e989e1ce28ba4d279cd034539be4ba19",
       "version_major": 2,
       "version_minor": 0
      },
      "text/plain": [
       "GMM (EM): k=14:   0%|          | 0/10 [00:00<?, ?it/s]"
      ]
     },
     "metadata": {},
     "output_type": "display_data"
    },
    {
     "name": "stdout",
     "output_type": "stream",
     "text": [
      "Accuracy =  100.0 %\n"
     ]
    },
    {
     "data": {
      "application/vnd.jupyter.widget-view+json": {
       "model_id": "c74acc67a2f8455a8792edd2f2941fb4",
       "version_major": 2,
       "version_minor": 0
      },
      "text/plain": [
       "K MEANS CLUSTERING: k=16:   0%|          | 0/10 [00:00<?, ?it/s]"
      ]
     },
     "metadata": {},
     "output_type": "display_data"
    },
    {
     "data": {
      "application/vnd.jupyter.widget-view+json": {
       "model_id": "923616fb91a7482d9f0dc20569332cbb",
       "version_major": 2,
       "version_minor": 0
      },
      "text/plain": [
       "GMM (EM): k=16:   0%|          | 0/10 [00:00<?, ?it/s]"
      ]
     },
     "metadata": {},
     "output_type": "display_data"
    },
    {
     "data": {
      "application/vnd.jupyter.widget-view+json": {
       "model_id": "8db6ad398c134a8a92cddc34c761f384",
       "version_major": 2,
       "version_minor": 0
      },
      "text/plain": [
       "K MEANS CLUSTERING: k=14:   0%|          | 0/10 [00:00<?, ?it/s]"
      ]
     },
     "metadata": {},
     "output_type": "display_data"
    },
    {
     "data": {
      "application/vnd.jupyter.widget-view+json": {
       "model_id": "6169c911951d4bb59972b528ba0b423f",
       "version_major": 2,
       "version_minor": 0
      },
      "text/plain": [
       "GMM (EM): k=14:   0%|          | 0/10 [00:00<?, ?it/s]"
      ]
     },
     "metadata": {},
     "output_type": "display_data"
    },
    {
     "name": "stdout",
     "output_type": "stream",
     "text": [
      "Accuracy =  100.0 %\n"
     ]
    },
    {
     "data": {
      "application/vnd.jupyter.widget-view+json": {
       "model_id": "4976acfd9d3f4cb194eda15e840a5be9",
       "version_major": 2,
       "version_minor": 0
      },
      "text/plain": [
       "K MEANS CLUSTERING: k=16:   0%|          | 0/10 [00:00<?, ?it/s]"
      ]
     },
     "metadata": {},
     "output_type": "display_data"
    },
    {
     "data": {
      "application/vnd.jupyter.widget-view+json": {
       "model_id": "7dfc60896f4f4c478eba615c0a8c8fba",
       "version_major": 2,
       "version_minor": 0
      },
      "text/plain": [
       "GMM (EM): k=16:   0%|          | 0/10 [00:00<?, ?it/s]"
      ]
     },
     "metadata": {},
     "output_type": "display_data"
    },
    {
     "data": {
      "application/vnd.jupyter.widget-view+json": {
       "model_id": "22b03bfe116b46fbb877daeefeb558ac",
       "version_major": 2,
       "version_minor": 0
      },
      "text/plain": [
       "K MEANS CLUSTERING: k=14:   0%|          | 0/10 [00:00<?, ?it/s]"
      ]
     },
     "metadata": {},
     "output_type": "display_data"
    },
    {
     "data": {
      "application/vnd.jupyter.widget-view+json": {
       "model_id": "5056e9a3ee544fc4bc7109d2bf6455d2",
       "version_major": 2,
       "version_minor": 0
      },
      "text/plain": [
       "GMM (EM): k=14:   0%|          | 0/10 [00:00<?, ?it/s]"
      ]
     },
     "metadata": {},
     "output_type": "display_data"
    },
    {
     "name": "stdout",
     "output_type": "stream",
     "text": [
      "Accuracy =  100.0 %\n"
     ]
    },
    {
     "data": {
      "application/vnd.jupyter.widget-view+json": {
       "model_id": "88706562afff4b92b8b21e63eedadbff",
       "version_major": 2,
       "version_minor": 0
      },
      "text/plain": [
       "K MEANS CLUSTERING: k=16:   0%|          | 0/10 [00:00<?, ?it/s]"
      ]
     },
     "metadata": {},
     "output_type": "display_data"
    },
    {
     "data": {
      "application/vnd.jupyter.widget-view+json": {
       "model_id": "03282f436cd44028bac71c61d5d2b41f",
       "version_major": 2,
       "version_minor": 0
      },
      "text/plain": [
       "GMM (EM): k=16:   0%|          | 0/10 [00:00<?, ?it/s]"
      ]
     },
     "metadata": {},
     "output_type": "display_data"
    },
    {
     "ename": "KeyboardInterrupt",
     "evalue": "",
     "output_type": "error",
     "traceback": [
      "\u001b[1;31m---------------------------------------------------------------------------\u001b[0m",
      "\u001b[1;31mKeyboardInterrupt\u001b[0m                         Traceback (most recent call last)",
      "\u001b[1;32md:\\Files\\PRML\\Assignment 3\\5.ipynb Cell 14'\u001b[0m in \u001b[0;36m<module>\u001b[1;34m\u001b[0m\n\u001b[0;32m     <a href='vscode-notebook-cell:/d%3A/Files/PRML/Assignment%203/5.ipynb#ch0000014?line=16'>17</a>\u001b[0m itk \u001b[39m=\u001b[39m itks[itki]\n\u001b[0;32m     <a href='vscode-notebook-cell:/d%3A/Files/PRML/Assignment%203/5.ipynb#ch0000014?line=18'>19</a>\u001b[0m model1 \u001b[39m=\u001b[39m GMM(k1, it, itk)\n\u001b[1;32m---> <a href='vscode-notebook-cell:/d%3A/Files/PRML/Assignment%203/5.ipynb#ch0000014?line=19'>20</a>\u001b[0m model1\u001b[39m.\u001b[39;49mfit(X1)\n\u001b[0;32m     <a href='vscode-notebook-cell:/d%3A/Files/PRML/Assignment%203/5.ipynb#ch0000014?line=20'>21</a>\u001b[0m model2 \u001b[39m=\u001b[39m GMM(k2, it, itk)\n\u001b[0;32m     <a href='vscode-notebook-cell:/d%3A/Files/PRML/Assignment%203/5.ipynb#ch0000014?line=21'>22</a>\u001b[0m model2\u001b[39m.\u001b[39mfit(X2)\n",
      "\u001b[1;32md:\\Files\\PRML\\Assignment 3\\5.ipynb Cell 3'\u001b[0m in \u001b[0;36mGMM.fit\u001b[1;34m(self, X)\u001b[0m\n\u001b[0;32m     <a href='vscode-notebook-cell:/d%3A/Files/PRML/Assignment%203/5.ipynb#ch0000002?line=81'>82</a>\u001b[0m \u001b[39mself\u001b[39m\u001b[39m.\u001b[39minitialize(X)\n\u001b[0;32m     <a href='vscode-notebook-cell:/d%3A/Files/PRML/Assignment%203/5.ipynb#ch0000002?line=82'>83</a>\u001b[0m \u001b[39mfor\u001b[39;00m iteration \u001b[39min\u001b[39;00m tqdm(\u001b[39mrange\u001b[39m(\u001b[39mself\u001b[39m\u001b[39m.\u001b[39mmax_iter),desc\u001b[39m=\u001b[39m\u001b[39m'\u001b[39m\u001b[39mGMM (EM): k=\u001b[39m\u001b[39m'\u001b[39m\u001b[39m+\u001b[39m\u001b[39mstr\u001b[39m(\u001b[39mself\u001b[39m\u001b[39m.\u001b[39mk)):\n\u001b[0;32m     <a href='vscode-notebook-cell:/d%3A/Files/PRML/Assignment%203/5.ipynb#ch0000002?line=83'>84</a>\u001b[0m     \u001b[39m# iterate to update the value of P(Xi/Ci=j) and (phi)k\u001b[39;00m\n\u001b[1;32m---> <a href='vscode-notebook-cell:/d%3A/Files/PRML/Assignment%203/5.ipynb#ch0000002?line=84'>85</a>\u001b[0m     \u001b[39mself\u001b[39;49m\u001b[39m.\u001b[39;49me_step(X)\n\u001b[0;32m     <a href='vscode-notebook-cell:/d%3A/Files/PRML/Assignment%203/5.ipynb#ch0000002?line=85'>86</a>\u001b[0m     \u001b[39m# iterate to update the value of meu and sigma as the clusters shift\u001b[39;00m\n\u001b[0;32m     <a href='vscode-notebook-cell:/d%3A/Files/PRML/Assignment%203/5.ipynb#ch0000002?line=86'>87</a>\u001b[0m     \u001b[39mself\u001b[39m\u001b[39m.\u001b[39mm_step(X)\n",
      "\u001b[1;32md:\\Files\\PRML\\Assignment 3\\5.ipynb Cell 3'\u001b[0m in \u001b[0;36mGMM.e_step\u001b[1;34m(self, X)\u001b[0m\n\u001b[0;32m     <a href='vscode-notebook-cell:/d%3A/Files/PRML/Assignment%203/5.ipynb#ch0000002?line=48'>49</a>\u001b[0m vec \u001b[39m=\u001b[39m []\n\u001b[0;32m     <a href='vscode-notebook-cell:/d%3A/Files/PRML/Assignment%203/5.ipynb#ch0000002?line=49'>50</a>\u001b[0m \u001b[39mfor\u001b[39;00m k \u001b[39min\u001b[39;00m \u001b[39mrange\u001b[39m(\u001b[39mself\u001b[39m\u001b[39m.\u001b[39mk):\n\u001b[1;32m---> <a href='vscode-notebook-cell:/d%3A/Files/PRML/Assignment%203/5.ipynb#ch0000002?line=50'>51</a>\u001b[0m     p_xk \u001b[39m=\u001b[39m \u001b[39mself\u001b[39m\u001b[39m.\u001b[39mpi[k] \u001b[39m*\u001b[39m (GMM\u001b[39m.\u001b[39;49mgaussian(x, \u001b[39mself\u001b[39;49m\u001b[39m.\u001b[39;49mmu[k], \u001b[39mself\u001b[39;49m\u001b[39m.\u001b[39;49msigma[k]))\n\u001b[0;32m     <a href='vscode-notebook-cell:/d%3A/Files/PRML/Assignment%203/5.ipynb#ch0000002?line=51'>52</a>\u001b[0m     vec\u001b[39m.\u001b[39mappend(p_xk\u001b[39m.\u001b[39mitem())\n\u001b[0;32m     <a href='vscode-notebook-cell:/d%3A/Files/PRML/Assignment%203/5.ipynb#ch0000002?line=52'>53</a>\u001b[0m     p_x \u001b[39m+\u001b[39m\u001b[39m=\u001b[39m p_xk\n",
      "\u001b[1;32md:\\Files\\PRML\\Assignment 3\\5.ipynb Cell 3'\u001b[0m in \u001b[0;36mGMM.gaussian\u001b[1;34m(x, mu, sigma)\u001b[0m\n\u001b[0;32m     <a href='vscode-notebook-cell:/d%3A/Files/PRML/Assignment%203/5.ipynb#ch0000002?line=35'>36</a>\u001b[0m norm_factor \u001b[39m=\u001b[39m \u001b[39m1.0\u001b[39m\u001b[39m/\u001b[39mnp\u001b[39m.\u001b[39msqrt(norm_factor)\n\u001b[0;32m     <a href='vscode-notebook-cell:/d%3A/Files/PRML/Assignment%203/5.ipynb#ch0000002?line=37'>38</a>\u001b[0m x_mu \u001b[39m=\u001b[39m np\u001b[39m.\u001b[39mmatrix(x\u001b[39m-\u001b[39mmu)\n\u001b[1;32m---> <a href='vscode-notebook-cell:/d%3A/Files/PRML/Assignment%203/5.ipynb#ch0000002?line=39'>40</a>\u001b[0m rs \u001b[39m=\u001b[39m norm_factor\u001b[39m*\u001b[39mnp\u001b[39m.\u001b[39mexp(\u001b[39m-\u001b[39;49m\u001b[39m0.5\u001b[39;49m\u001b[39m*\u001b[39;49mx_mu\u001b[39m*\u001b[39;49mnp\u001b[39m.\u001b[39;49mlinalg\u001b[39m.\u001b[39;49mpinv(sigma)\u001b[39m*\u001b[39mx_mu\u001b[39m.\u001b[39mT)\n\u001b[0;32m     <a href='vscode-notebook-cell:/d%3A/Files/PRML/Assignment%203/5.ipynb#ch0000002?line=40'>41</a>\u001b[0m \u001b[39mreturn\u001b[39;00m rs\n",
      "File \u001b[1;32m~\\AppData\\Local\\Programs\\Python\\Python39\\lib\\site-packages\\numpy\\matrixlib\\defmatrix.py:218\u001b[0m, in \u001b[0;36mmatrix.__mul__\u001b[1;34m(self, other)\u001b[0m\n\u001b[0;32m    <a href='file:///c%3A/Users/Vedant/AppData/Local/Programs/Python/Python39/lib/site-packages/numpy/matrixlib/defmatrix.py?line=214'>215</a>\u001b[0m \u001b[39mdef\u001b[39;00m \u001b[39m__mul__\u001b[39m(\u001b[39mself\u001b[39m, other):\n\u001b[0;32m    <a href='file:///c%3A/Users/Vedant/AppData/Local/Programs/Python/Python39/lib/site-packages/numpy/matrixlib/defmatrix.py?line=215'>216</a>\u001b[0m     \u001b[39mif\u001b[39;00m \u001b[39misinstance\u001b[39m(other, (N\u001b[39m.\u001b[39mndarray, \u001b[39mlist\u001b[39m, \u001b[39mtuple\u001b[39m)) :\n\u001b[0;32m    <a href='file:///c%3A/Users/Vedant/AppData/Local/Programs/Python/Python39/lib/site-packages/numpy/matrixlib/defmatrix.py?line=216'>217</a>\u001b[0m         \u001b[39m# This promotes 1-D vectors to row vectors\u001b[39;00m\n\u001b[1;32m--> <a href='file:///c%3A/Users/Vedant/AppData/Local/Programs/Python/Python39/lib/site-packages/numpy/matrixlib/defmatrix.py?line=217'>218</a>\u001b[0m         \u001b[39mreturn\u001b[39;00m N\u001b[39m.\u001b[39;49mdot(\u001b[39mself\u001b[39;49m, asmatrix(other))\n\u001b[0;32m    <a href='file:///c%3A/Users/Vedant/AppData/Local/Programs/Python/Python39/lib/site-packages/numpy/matrixlib/defmatrix.py?line=218'>219</a>\u001b[0m     \u001b[39mif\u001b[39;00m isscalar(other) \u001b[39mor\u001b[39;00m \u001b[39mnot\u001b[39;00m \u001b[39mhasattr\u001b[39m(other, \u001b[39m'\u001b[39m\u001b[39m__rmul__\u001b[39m\u001b[39m'\u001b[39m) :\n\u001b[0;32m    <a href='file:///c%3A/Users/Vedant/AppData/Local/Programs/Python/Python39/lib/site-packages/numpy/matrixlib/defmatrix.py?line=219'>220</a>\u001b[0m         \u001b[39mreturn\u001b[39;00m N\u001b[39m.\u001b[39mdot(\u001b[39mself\u001b[39m, other)\n",
      "File \u001b[1;32m<__array_function__ internals>:180\u001b[0m, in \u001b[0;36mdot\u001b[1;34m(*args, **kwargs)\u001b[0m\n",
      "\u001b[1;31mKeyboardInterrupt\u001b[0m: "
     ]
    }
   ],
   "source": []
  },
  {
   "cell_type": "code",
   "execution_count": 21,
   "metadata": {},
   "outputs": [
    {
     "name": "stdout",
     "output_type": "stream",
     "text": [
      "[[16, 16, 10, 5], [16, 16, 10, 10], [16, 16, 10, 15], [16, 16, 10, 20], [16, 16, 10, 25], [16, 16, 10, 30], [16, 16, 15, 5], [16, 16, 15, 10], [16, 16, 15, 15], [16, 16, 15, 20], [16, 16, 15, 25], [16, 16, 15, 30], [16, 16, 20, 5], [16, 16, 20, 10], [16, 16, 20, 15], [16, 16, 20, 20], [16, 16, 20, 25], [16, 16, 20, 30], [16, 16, 25, 5], [16, 16, 25, 10], [16, 16, 25, 15], [16, 16, 25, 20], [16, 16, 25, 25], [16, 16, 25, 30], [16, 16, 30, 5], [16, 16, 30, 10], [16, 16, 30, 15], [16, 16, 30, 20], [16, 16, 30, 25], [16, 16, 30, 30], [16, 15, 10, 5], [16, 15, 10, 10], [16, 15, 10, 15], [16, 15, 10, 20], [16, 15, 10, 25], [16, 15, 10, 30], [16, 15, 15, 5], [16, 15, 15, 10], [16, 15, 15, 15], [16, 15, 15, 20], [16, 15, 15, 25], [16, 15, 15, 30], [16, 15, 20, 5], [16, 15, 20, 10], [16, 15, 20, 15], [16, 15, 20, 20], [16, 15, 20, 25], [16, 15, 20, 30], [16, 15, 25, 5], [16, 15, 25, 10], [16, 15, 25, 15], [16, 15, 25, 20], [16, 15, 25, 25], [16, 15, 25, 30], [16, 15, 30, 5], [16, 15, 30, 10], [16, 15, 30, 15], [16, 15, 30, 20], [16, 15, 30, 25], [16, 15, 30, 30], [16, 14, 10, 5], [16, 14, 10, 10], [16, 14, 10, 15], [16, 14, 10, 20], [16, 14, 10, 25]]\n"
     ]
    }
   ],
   "source": [
    "print (good)"
   ]
  }
 ],
 "metadata": {
  "interpreter": {
   "hash": "94ae5e5b5ae5a1ee57a607c9497711b6bf7cc4fc8b73b07c0408939ea9c64789"
  },
  "kernelspec": {
   "display_name": "Python 3.9.2 64-bit",
   "language": "python",
   "name": "python3"
  },
  "language_info": {
   "codemirror_mode": {
    "name": "ipython",
    "version": 3
   },
   "file_extension": ".py",
   "mimetype": "text/x-python",
   "name": "python",
   "nbconvert_exporter": "python",
   "pygments_lexer": "ipython3",
   "version": "3.9.2"
  },
  "orig_nbformat": 4
 },
 "nbformat": 4,
 "nbformat_minor": 2
}
